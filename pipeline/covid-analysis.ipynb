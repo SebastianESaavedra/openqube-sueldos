{
 "cells": [
  {
   "cell_type": "markdown",
   "metadata": {},
   "source": [
    "# SysArmy - Análisis de encuesta 2020.02 - COVID"
   ]
  },
  {
   "cell_type": "markdown",
   "metadata": {},
   "source": [
    "## 1. Carga y sanitización de datos"
   ]
  },
  {
   "cell_type": "markdown",
   "metadata": {},
   "source": [
    "###  1.1. Definimos los metadatos asociados al dataset que vamos a analizar"
   ]
  },
  {
   "cell_type": "code",
   "execution_count": 1,
   "metadata": {},
   "outputs": [],
   "source": [
    "csv_url = \"https://raw.githubusercontent.com/openqube/openqube-sueldos/release/covid.2021.01/data/csv/argentina/2021.01.csv\"\n",
    "\n",
    "dataset_metadata = {\"year\": 2021,\n",
    "                    \"part\": 1,\n",
    "                    \"skiprows\": 0,\n",
    "                    \"publish_date\": \"2021-02-15\",\n",
    "                    \"minimum_salary\": 20587} # https://es.wikipedia.org/wiki/Anexo:Salario_m%C3%ADnimo_en_Argentina"
   ]
  },
  {
   "cell_type": "markdown",
   "metadata": {},
   "source": [
    "### 1.2. En base a los metadatos, cargamos el CSV, limpiamos columnas y las transformamos"
   ]
  },
  {
   "cell_type": "code",
   "execution_count": 2,
   "metadata": {},
   "outputs": [
    {
     "data": {
      "text/html": [
       "<div>\n",
       "<style scoped>\n",
       "    .dataframe tbody tr th:only-of-type {\n",
       "        vertical-align: middle;\n",
       "    }\n",
       "\n",
       "    .dataframe tbody tr th {\n",
       "        vertical-align: top;\n",
       "    }\n",
       "\n",
       "    .dataframe thead th {\n",
       "        text-align: right;\n",
       "    }\n",
       "</style>\n",
       "<table border=\"1\" class=\"dataframe\">\n",
       "  <thead>\n",
       "    <tr style=\"text-align: right;\">\n",
       "      <th></th>\n",
       "      <th>me_identifico</th>\n",
       "      <th>donde_estas_trabajando</th>\n",
       "      <th>trabajo_de</th>\n",
       "      <th>tipo_de_contrato</th>\n",
       "      <th>salario_mensual_o_retiro_bruto_en_tu_moneda_local</th>\n",
       "      <th>como_venis_llevando_la_cuarentena</th>\n",
       "      <th>tenes_hijosas_menores_de_edad</th>\n",
       "      <th>con_cuantas_personas_estas_conviviendo</th>\n",
       "      <th>con_quienes_convivis</th>\n",
       "      <th>tenes_un_espacio_dedicado_para_el_trabajo</th>\n",
       "      <th>tenes_que_compartir_tu_equipo_de_trabajo_con_alguien</th>\n",
       "      <th>que_tipo_de_cuarentena_hiciste_estas_haciendo</th>\n",
       "      <th>cambio_tu_situacion_laboral_a_raiz_de_la_pandemia</th>\n",
       "      <th>que_tanto_sentis_que_te_esta_apoyando_tu_empresaorganizacion_en_esta_situacion</th>\n",
       "      <th>como_se_vio_afectada_tu_empresaorganizacion</th>\n",
       "      <th>instauraron_algun_beneficio_nuevo</th>\n",
       "      <th>actividad_principal</th>\n",
       "      <th>cantidad_de_personas_en_tu_organizacion</th>\n",
       "      <th>anos_de_experiencia</th>\n",
       "    </tr>\n",
       "  </thead>\n",
       "  <tbody>\n",
       "    <tr>\n",
       "      <th>0</th>\n",
       "      <td>Varón Cis</td>\n",
       "      <td>Córdoba</td>\n",
       "      <td>DBA</td>\n",
       "      <td>Full-Time</td>\n",
       "      <td>115000</td>\n",
       "      <td>4.0</td>\n",
       "      <td>0.0</td>\n",
       "      <td>1.0</td>\n",
       "      <td>Pareja</td>\n",
       "      <td>Sí</td>\n",
       "      <td>No</td>\n",
       "      <td>4.0</td>\n",
       "      <td>No</td>\n",
       "      <td>8.0</td>\n",
       "      <td>No la afectó, Se vio beneficiada</td>\n",
       "      <td>Ninguna de las anteriores</td>\n",
       "      <td>Servicios / Consultoría de Software / Digital</td>\n",
       "      <td>101-200</td>\n",
       "      <td>13</td>\n",
       "    </tr>\n",
       "    <tr>\n",
       "      <th>1</th>\n",
       "      <td>Varón Cis</td>\n",
       "      <td>Córdoba</td>\n",
       "      <td>Data Engineer</td>\n",
       "      <td>Remoto (empresa de otro país)</td>\n",
       "      <td>512000</td>\n",
       "      <td>NaN</td>\n",
       "      <td>NaN</td>\n",
       "      <td>NaN</td>\n",
       "      <td>NaN</td>\n",
       "      <td>NaN</td>\n",
       "      <td>NaN</td>\n",
       "      <td>NaN</td>\n",
       "      <td>NaN</td>\n",
       "      <td>NaN</td>\n",
       "      <td>NaN</td>\n",
       "      <td>NaN</td>\n",
       "      <td>Producto basado en Software</td>\n",
       "      <td>201-500</td>\n",
       "      <td>6</td>\n",
       "    </tr>\n",
       "    <tr>\n",
       "      <th>2</th>\n",
       "      <td>Varón Cis</td>\n",
       "      <td>Ciudad Autónoma de Buenos Aires</td>\n",
       "      <td>Developer</td>\n",
       "      <td>Full-Time</td>\n",
       "      <td>148000</td>\n",
       "      <td>NaN</td>\n",
       "      <td>NaN</td>\n",
       "      <td>NaN</td>\n",
       "      <td>NaN</td>\n",
       "      <td>NaN</td>\n",
       "      <td>NaN</td>\n",
       "      <td>NaN</td>\n",
       "      <td>NaN</td>\n",
       "      <td>NaN</td>\n",
       "      <td>NaN</td>\n",
       "      <td>NaN</td>\n",
       "      <td>Producto basado en Software</td>\n",
       "      <td>11-50</td>\n",
       "      <td>15</td>\n",
       "    </tr>\n",
       "    <tr>\n",
       "      <th>3</th>\n",
       "      <td>Varón Cis</td>\n",
       "      <td>Ciudad Autónoma de Buenos Aires</td>\n",
       "      <td>Developer</td>\n",
       "      <td>Full-Time</td>\n",
       "      <td>115620</td>\n",
       "      <td>NaN</td>\n",
       "      <td>NaN</td>\n",
       "      <td>NaN</td>\n",
       "      <td>NaN</td>\n",
       "      <td>NaN</td>\n",
       "      <td>NaN</td>\n",
       "      <td>NaN</td>\n",
       "      <td>NaN</td>\n",
       "      <td>NaN</td>\n",
       "      <td>NaN</td>\n",
       "      <td>NaN</td>\n",
       "      <td>Servicios / Consultoría de Software / Digital</td>\n",
       "      <td>51-100</td>\n",
       "      <td>4</td>\n",
       "    </tr>\n",
       "    <tr>\n",
       "      <th>4</th>\n",
       "      <td>Varón Cis</td>\n",
       "      <td>Ciudad Autónoma de Buenos Aires</td>\n",
       "      <td>Developer</td>\n",
       "      <td>Full-Time</td>\n",
       "      <td>47300</td>\n",
       "      <td>4.0</td>\n",
       "      <td>0.0</td>\n",
       "      <td>0.0</td>\n",
       "      <td>Vivo solo/a</td>\n",
       "      <td>Sí</td>\n",
       "      <td>No</td>\n",
       "      <td>3.0</td>\n",
       "      <td>Cambié de trabajo, pero no por la pandemia</td>\n",
       "      <td>8.0</td>\n",
       "      <td>Se vio beneficiada</td>\n",
       "      <td>Ninguna de las anteriores</td>\n",
       "      <td>Producto basado en Software</td>\n",
       "      <td>51-100</td>\n",
       "      <td>0</td>\n",
       "    </tr>\n",
       "  </tbody>\n",
       "</table>\n",
       "</div>"
      ],
      "text/plain": [
       "  me_identifico           donde_estas_trabajando     trabajo_de  \\\n",
       "0     Varón Cis                          Córdoba            DBA   \n",
       "1     Varón Cis                          Córdoba  Data Engineer   \n",
       "2     Varón Cis  Ciudad Autónoma de Buenos Aires      Developer   \n",
       "3     Varón Cis  Ciudad Autónoma de Buenos Aires      Developer   \n",
       "4     Varón Cis  Ciudad Autónoma de Buenos Aires      Developer   \n",
       "\n",
       "                tipo_de_contrato  \\\n",
       "0                      Full-Time   \n",
       "1  Remoto (empresa de otro país)   \n",
       "2                      Full-Time   \n",
       "3                      Full-Time   \n",
       "4                      Full-Time   \n",
       "\n",
       "  salario_mensual_o_retiro_bruto_en_tu_moneda_local  \\\n",
       "0                                            115000   \n",
       "1                                            512000   \n",
       "2                                            148000   \n",
       "3                                            115620   \n",
       "4                                             47300   \n",
       "\n",
       "   como_venis_llevando_la_cuarentena  tenes_hijosas_menores_de_edad  \\\n",
       "0                                4.0                            0.0   \n",
       "1                                NaN                            NaN   \n",
       "2                                NaN                            NaN   \n",
       "3                                NaN                            NaN   \n",
       "4                                4.0                            0.0   \n",
       "\n",
       "   con_cuantas_personas_estas_conviviendo con_quienes_convivis  \\\n",
       "0                                     1.0               Pareja   \n",
       "1                                     NaN                  NaN   \n",
       "2                                     NaN                  NaN   \n",
       "3                                     NaN                  NaN   \n",
       "4                                     0.0          Vivo solo/a   \n",
       "\n",
       "  tenes_un_espacio_dedicado_para_el_trabajo  \\\n",
       "0                                        Sí   \n",
       "1                                       NaN   \n",
       "2                                       NaN   \n",
       "3                                       NaN   \n",
       "4                                        Sí   \n",
       "\n",
       "  tenes_que_compartir_tu_equipo_de_trabajo_con_alguien  \\\n",
       "0                                                 No     \n",
       "1                                                NaN     \n",
       "2                                                NaN     \n",
       "3                                                NaN     \n",
       "4                                                 No     \n",
       "\n",
       "   que_tipo_de_cuarentena_hiciste_estas_haciendo  \\\n",
       "0                                            4.0   \n",
       "1                                            NaN   \n",
       "2                                            NaN   \n",
       "3                                            NaN   \n",
       "4                                            3.0   \n",
       "\n",
       "  cambio_tu_situacion_laboral_a_raiz_de_la_pandemia  \\\n",
       "0                                                No   \n",
       "1                                               NaN   \n",
       "2                                               NaN   \n",
       "3                                               NaN   \n",
       "4        Cambié de trabajo, pero no por la pandemia   \n",
       "\n",
       "   que_tanto_sentis_que_te_esta_apoyando_tu_empresaorganizacion_en_esta_situacion  \\\n",
       "0                                                8.0                                \n",
       "1                                                NaN                                \n",
       "2                                                NaN                                \n",
       "3                                                NaN                                \n",
       "4                                                8.0                                \n",
       "\n",
       "  como_se_vio_afectada_tu_empresaorganizacion  \\\n",
       "0            No la afectó, Se vio beneficiada   \n",
       "1                                         NaN   \n",
       "2                                         NaN   \n",
       "3                                         NaN   \n",
       "4                          Se vio beneficiada   \n",
       "\n",
       "  instauraron_algun_beneficio_nuevo  \\\n",
       "0         Ninguna de las anteriores   \n",
       "1                               NaN   \n",
       "2                               NaN   \n",
       "3                               NaN   \n",
       "4         Ninguna de las anteriores   \n",
       "\n",
       "                             actividad_principal  \\\n",
       "0  Servicios / Consultoría de Software / Digital   \n",
       "1                    Producto basado en Software   \n",
       "2                    Producto basado en Software   \n",
       "3  Servicios / Consultoría de Software / Digital   \n",
       "4                    Producto basado en Software   \n",
       "\n",
       "  cantidad_de_personas_en_tu_organizacion  anos_de_experiencia  \n",
       "0                                 101-200                   13  \n",
       "1                                 201-500                    6  \n",
       "2                                   11-50                   15  \n",
       "3                                  51-100                    4  \n",
       "4                                  51-100                    0  "
      ]
     },
     "execution_count": 2,
     "metadata": {},
     "output_type": "execute_result"
    }
   ],
   "source": [
    "import pandas as pd\n",
    "import io\n",
    "import requests\n",
    "from time import sleep\n",
    "import matplotlib.pyplot as plt\n",
    "\n",
    "raw_dataframe = None\n",
    "source = requests.get(csv_url).content\n",
    "raw_dataframe = pd.read_csv(io.StringIO(source.decode(\"utf-8\")),\n",
    "                            skiprows=dataset_metadata[\"skiprows\"],\n",
    "                            thousands=\".\",\n",
    "                            decimal=\",\")\n",
    "\n",
    "import re\n",
    "\n",
    "regex_white_chars = re.compile(r\"\\s+\")\n",
    "regex_non_alphanum = re.compile(r\"\\W+_?\", re.I)\n",
    "\n",
    "raw_dataframe.columns = (raw_dataframe.columns.str.strip()\n",
    "                         .str.lower()\n",
    "                         .str.replace(regex_white_chars, \"_\")\n",
    "                         .str.replace(regex_non_alphanum, \"\")\n",
    "                         .str.translate(\"ñáéíóú\".maketrans({\"ñ\": \"n\", \"á\": \"a\", \"é\": \"e\", \"í\": \"i\", \"ó\": \"o\", \"ú\": \"u\"})))\n",
    "\n",
    "# Eliminamos los datos que no pertenezcan a Argentina\n",
    "raw_dataframe = raw_dataframe[raw_dataframe[\"estoy_trabajando_en\"] == \"Argentina\"]\n",
    "\n",
    "# Conservamos únicamente las columnas relacionadas con COVID-19\n",
    "columns_to_keep = [\"me_identifico\",\n",
    "                   \"donde_estas_trabajando\",\n",
    "                   \"trabajo_de\",\n",
    "                   \"tipo_de_contrato\",\n",
    "                   \"salario_mensual_o_retiro_bruto_en_tu_moneda_local\",\n",
    "                   \"como_venis_llevando_la_cuarentena\",\n",
    "                   \"tenes_hijosas_menores_de_edad\",\n",
    "                   \"con_cuantas_personas_estas_conviviendo\",\n",
    "                   \"con_quienes_convivis\",\n",
    "                   \"tenes_un_espacio_dedicado_para_el_trabajo\",\n",
    "                   \"tenes_que_compartir_tu_equipo_de_trabajo_con_alguien\",\n",
    "                   \"que_tipo_de_cuarentena_hiciste_estas_haciendo\",\n",
    "                   \"cambio_tu_situacion_laboral_a_raiz_de_la_pandemia\",\n",
    "                   \"que_tanto_sentis_que_te_esta_apoyando_tu_empresaorganizacion_en_esta_situacion\",\n",
    "                   \"como_se_vio_afectada_tu_empresaorganizacion\",\n",
    "                   \"instauraron_algun_beneficio_nuevo\",\n",
    "                   \"actividad_principal\",\n",
    "                   \"cantidad_de_personas_en_tu_organizacion\",\n",
    "                   \"anos_de_experiencia\"]\n",
    "\n",
    "raw_dataframe = raw_dataframe[columns_to_keep]\n",
    "\n",
    "\n",
    "df = raw_dataframe.copy()\n",
    "df.head()"
   ]
  },
  {
   "cell_type": "markdown",
   "metadata": {},
   "source": [
    "### 1.3. Sanitizamos/normalizamos datos que encontramos mal formados o repetidos"
   ]
  },
  {
   "cell_type": "code",
   "execution_count": 3,
   "metadata": {},
   "outputs": [],
   "source": [
    "import re\n",
    "\n",
    "# Given a Dataframe (df), a column name that identifies the column to sanitize,\n",
    "# applies an in-place replacement for each pair regex-value in the map\n",
    "\n",
    "def normalize_dataframe_column(df_in, column_name, regex_assign_map):\n",
    "    df_out = df_in.copy()\n",
    "    for regex, value in regex_assign_map.items():\n",
    "        compiled_regex = re.compile(regex, re.I)\n",
    "        mask = df_in[column_name].str.strip().str.match(compiled_regex, na=False)\n",
    "        df_out.loc[mask, column_name] = value\n",
    "    # debug\n",
    "    #     total, final = len(df_in[column_name].unique()), len(df_out[column_name].unique())\n",
    "    #     display(\"reduced in {:02f}\".format((total - final) / total))\n",
    "    return df_out\n",
    "\n",
    "\n",
    "def normalize_dataframe_column_replace(df_in, column_name, regex_replace_map):\n",
    "    df_out = df_in.copy()\n",
    "    for regex, pattern in regex_replace_map.items():\n",
    "        compiled_regex = re.compile(regex, re.I)\n",
    "        df_out[column_name] = (df_out[column_name].str.strip().str.replace(compiled_regex, pattern))\n",
    "    # debug\n",
    "    #     total, final = len(df_in[column_name].unique()), len(df_out[column_name].unique())\n",
    "    #     display(\"reduced in {:02f}\".format((total - final) / total))\n",
    "    return df_out"
   ]
  },
  {
   "cell_type": "markdown",
   "metadata": {},
   "source": [
    "#### 1.3.1. Regiones"
   ]
  },
  {
   "cell_type": "code",
   "execution_count": 4,
   "metadata": {},
   "outputs": [],
   "source": [
    "df = normalize_dataframe_column(df, \"donde_estas_trabajando\", {\"(GBA|Provincia de Buenos Aires)\": \"Buenos Aires\"})"
   ]
  },
  {
   "cell_type": "markdown",
   "metadata": {},
   "source": [
    "#### 1.3.2. Roles"
   ]
  },
  {
   "cell_type": "code",
   "execution_count": 5,
   "metadata": {},
   "outputs": [
    {
     "data": {
      "text/plain": [
       "Developer                    2401\n",
       "SysAdmin / DevOps / SRE       631\n",
       "Technical Leader              388\n",
       "QA / Tester                   258\n",
       "Manager / Director            255\n",
       "HelpDesk                      243\n",
       "Project Manager               170\n",
       "Consultant                    137\n",
       "BI Analyst / Data Analyst     133\n",
       "Architect                     133\n",
       "Name: trabajo_de, dtype: int64"
      ]
     },
     "execution_count": 5,
     "metadata": {},
     "output_type": "execute_result"
    }
   ],
   "source": [
    "df = normalize_dataframe_column_replace(df, \"trabajo_de\", \n",
    "                                        {\"Project Manager.*\": \"Project Manager\",\n",
    "                                         \"Director, Product Manager, Project Manager\": \"Manager / Director\",\n",
    "                                         \"Technical Leader.*\": \"Technical Leader\",\n",
    "                                         \"Team Leader.*\": \"Technical Leader\",\n",
    "                                         \"Full ?Stack Developer\": \"Developer\",\n",
    "                                         \"Seguridad Inform[aá]tica\": \"Infosec\",\n",
    "                                         \"(profesor|instructor|educador|docente|capacitador.*)\": \"Docente\",\n",
    "                                         \"^(Soporte T[ée]cnico|Technical support|Support)\": \"Technical Support\",\n",
    "                                         \"Software Engineer\": \"Developer\",\n",
    "                                         \"(Analista )?programador\": \"Developer\",\n",
    "                                         \"Analista Funcional\": \"Functional Analyst\",\n",
    "                                         \"Technical Functional Analyst\": \"Functional Analyst\",\n",
    "                                         \"administrativo\": \"Administrativo\",\n",
    "                                         \"^cto.*\": \"CTO\",\n",
    "                                         \"Asistant\": \"Assistant\",\n",
    "                                         \"helpdesk\": \"HelpDesk\",\n",
    "                                         \"(Analista de seguridad|Security.*)\": \"Infosec\",\n",
    "                                         \"BI Leader\": \"BI Analyst / Data Analyst\"})\n",
    "\n",
    "df_roles = df[\"trabajo_de\"].value_counts(sort=True)\n",
    "df_roles.head(10)"
   ]
  },
  {
   "cell_type": "markdown",
   "metadata": {},
   "source": [
    "#### 1.3.3. Experiencia"
   ]
  },
  {
   "cell_type": "code",
   "execution_count": 6,
   "metadata": {},
   "outputs": [],
   "source": [
    "df[\"seniority\"] = pd.cut(df[\"anos_de_experiencia\"].values, [0, 2, 5, 50], \n",
    "                         labels=[\"Junior\", \"Semi-Senior\", \"Senior\"])"
   ]
  },
  {
   "cell_type": "markdown",
   "metadata": {},
   "source": [
    "#### 1.3.4. Agrupamiento por género"
   ]
  },
  {
   "cell_type": "code",
   "execution_count": 7,
   "metadata": {},
   "outputs": [],
   "source": [
    "# gender simplification\n",
    "\n",
    "ix_varon = (df[\"me_identifico\"] == \"Varón Cis\") | (df.me_identifico == \"Varón Trans\")\n",
    "ix_mujer = (df.me_identifico == \"Mujer Cis\") | (df.me_identifico == \"Mujer Trans\")\n",
    "\n",
    "mask = [\"Varón Cis\", \"Mujer Cis\", \"No binarie\", \"Prefiero no decir\"]\n",
    "ix_rest = ~df.me_identifico.isin(mask)\n",
    "\n",
    "df[\"me_id\"] = df.me_identifico\n",
    "df.loc[ix_varon, \"me_id\"] = \"Varón\"\n",
    "df.loc[ix_mujer, \"me_id\"] = \"Mujer\"\n",
    "df.loc[ix_rest, \"me_id\"] = \"Otro\""
   ]
  },
  {
   "cell_type": "markdown",
   "metadata": {},
   "source": [
    "### 1.4. Eliminamos outliers"
   ]
  },
  {
   "cell_type": "code",
   "execution_count": 8,
   "metadata": {},
   "outputs": [],
   "source": [
    "def remove_outlier(df_in, col_name, iqr_factor=1.5):\n",
    "#   IQR outliers removal (https://machinelearningmastery.com/how-to-use-statistics-to-identify-outliers-in-data/)\n",
    "#   accept a dataframe, remove outliers, return cleaned data in a new dataframe\n",
    "#   see http://www.itl.nist.gov/div898/handbook/prc/section1/prc16.htm\n",
    "        \n",
    "    q1 = df_in[col_name].quantile(0.25)\n",
    "    q3 = df_in[col_name].quantile(0.75)\n",
    "    iqr = q3 - q1  # interquartile range\n",
    "    fence_low = q1 - iqr_factor * iqr\n",
    "    fence_high = q3 + iqr_factor * iqr\n",
    "    \n",
    "    df_inliers = df_in.loc[(df_in[col_name] > fence_low) & (df_in[col_name] < fence_high)]\n",
    "    df_outliers = df_in.loc[(df_in[col_name] < fence_low) | (df_in[col_name] > fence_high)]\n",
    "    \n",
    "    return df_inliers, df_outliers"
   ]
  },
  {
   "cell_type": "code",
   "execution_count": 9,
   "metadata": {},
   "outputs": [],
   "source": [
    "df.loc[:, \"_sal\"] = df[\n",
    "    \"salario_mensual_o_retiro_bruto_en_tu_moneda_local\"\n",
    "]"
   ]
  },
  {
   "cell_type": "code",
   "execution_count": 10,
   "metadata": {},
   "outputs": [
    {
     "data": {
      "text/plain": [
       "0.9613994743758213"
      ]
     },
     "metadata": {},
     "output_type": "display_data"
    }
   ],
   "source": [
    "df[\"salario_mensual_o_retiro_bruto_en_tu_moneda_local\"] = (\n",
    "    df[\"_sal\"]\n",
    "    .str.replace(\".\", \"\")\n",
    "    .str.replace(\",\", \".\")\n",
    "    .str.replace(\"$\", \"\")\n",
    "    .str.replace(r\"[^0-9\\.]\", \"\")\n",
    "    .str.replace(r\"^\\s*$\", \"0\")\n",
    "    .fillna(0)\n",
    "    .astype(float)\n",
    ")\n",
    "\n",
    "df_inliers, df_outliers = remove_outlier(\n",
    "    df, \"salario_mensual_o_retiro_bruto_en_tu_moneda_local\", 3.5\n",
    ")\n",
    "\n",
    "# inliers percent over total\n",
    "display(len(df_inliers) / len(df))"
   ]
  },
  {
   "cell_type": "code",
   "execution_count": 11,
   "metadata": {},
   "outputs": [],
   "source": [
    "minimum_salary = dataset_metadata[\"minimum_salary\"]\n",
    "\n",
    "df_outliers_lower_limit = df_inliers.query(\"salario_mensual_o_retiro_bruto_en_tu_moneda_local < @minimum_salary/2.0\")\n",
    "df_inliers_lower_limit = df_inliers.query(\"salario_mensual_o_retiro_bruto_en_tu_moneda_local >= @minimum_salary/2.0\")\n",
    "df = df_inliers_lower_limit"
   ]
  },
  {
   "cell_type": "markdown",
   "metadata": {},
   "source": [
    "## 2. Análisis de resultados"
   ]
  },
  {
   "cell_type": "markdown",
   "metadata": {},
   "source": [
    "#### Los resultados del análisis exploratorio se exportan en un JSON denominado 'charts'"
   ]
  },
  {
   "cell_type": "code",
   "execution_count": 12,
   "metadata": {},
   "outputs": [],
   "source": [
    "charts = {\n",
    "    \"total_surveyed\": len(raw_dataframe),\n",
    "    \"total_analyzed_surveyed\": len(df),\n",
    "}\n",
    "\n",
    "def to_rechart(df, max=0):\n",
    "  # if max is set, groups the exceeded rows into 'Otros' column, summing values\n",
    "    if max != 0:\n",
    "        # df = df.sort_values(by, ascending=False)\n",
    "        others = df[max:].sum()\n",
    "        df = df[:max]\n",
    "        df.loc[\"Otros\"] = others\n",
    "    return {\n",
    "        \"data\": [\n",
    "            {\"name\": str(name), **(data if isinstance(data, dict) else {\"value\": data})}\n",
    "            for name, data in df.T.to_dict().items()\n",
    "        ],\n",
    "    }"
   ]
  },
  {
   "cell_type": "markdown",
   "metadata": {},
   "source": [
    "### 2.1. Situación habitacional - Grupo familiar"
   ]
  },
  {
   "cell_type": "markdown",
   "metadata": {},
   "source": [
    "#### 2.1.1. ¿Con cuántas personas convivís?"
   ]
  },
  {
   "cell_type": "code",
   "execution_count": 66,
   "metadata": {},
   "outputs": [
    {
     "data": {
      "image/png": "[encoded data removed]",
      "text/plain": [
       "<Figure size 432x288 with 1 Axes>"
      ]
     },
     "metadata": {
      "needs_background": "light"
     },
     "output_type": "display_data"
    }
   ],
   "source": [
    "aux = df.copy().dropna()\n",
    "aux[\"con_cuantas_personas_estas_conviviendo\"] = aux[\"con_cuantas_personas_estas_conviviendo\"].astype(int).apply(str)\n",
    "\n",
    "aux = normalize_dataframe_column_replace(aux, \"con_cuantas_personas_estas_conviviendo\", {\"0\": \"Vivo solo/a\"})\n",
    "gph = aux[\"con_cuantas_personas_estas_conviviendo\"].value_counts(normalize=True, sort=True)\n",
    "gph.plot.barh();\n",
    "\n",
    "charts[\"convivencia_cuanti\"] = to_rechart(gph, 6)"
   ]
  },
  {
   "cell_type": "markdown",
   "metadata": {},
   "source": [
    "#### 2.1.2. ¿Con quiénes estás conviviendo?"
   ]
  },
  {
   "cell_type": "code",
   "execution_count": 67,
   "metadata": {},
   "outputs": [
    {
     "data": {
      "text/plain": [
       "Pareja                                                                             623\n",
       "Familia de origen (madre/padre/hermanos/as)                                        499\n",
       "Vivo solo/a                                                                        355\n",
       "Pareja, Hijos/as (tiempo completo)                                                 326\n",
       "Amigos/as / Roomates                                                                35\n",
       "Familia de origen (madre/padre/hermanos/as), Pareja                                 28\n",
       "Hijos/as (tiempo dividido)                                                          21\n",
       "Hijos/as (tiempo completo)                                                          18\n",
       "Pareja, Hijos/as mayores de 18                                                      13\n",
       "Pareja, Hijos/as mayores de 18, Hijos/as (tiempo completo)                          12\n",
       "Pareja, Hijos/as (tiempo completo), Hijos/as (tiempo dividido)                       9\n",
       "Pareja, Amigos/as / Roomates                                                         8\n",
       "Pareja, Hijos/as (tiempo dividido)                                                   7\n",
       "Familia de origen (madre/padre/hermanos/as), Hijos/as (tiempo completo)              7\n",
       "Familia de origen (madre/padre/hermanos/as), Pareja, Hijos/as (tiempo completo)      6\n",
       "Vivo solo/a, Familia de origen (madre/padre/hermanos/as)                             6\n",
       "Hijos/as mayores de 18                                                               6\n",
       "Vivo solo/a, Hijos/as (tiempo dividido)                                              3\n",
       "Vivo solo/a, Pareja                                                                  3\n",
       "Abuelos                                                                              3\n",
       "Pareja, Hijos/as (tiempo completo), Suegra                                           2\n",
       "Familia de origen (madre/padre/hermanos/as), Hijos/as (tiempo dividido)              2\n",
       "Con mi pareja y vamos un tiempo a su casa con su flia y otro tiempo con la mia.      2\n",
       "Abuela                                                                               2\n",
       "Familia de origen (madre/padre/hermanos/as), Amigos/as / Roomates                    2\n",
       "Name: con_quienes_convivis, dtype: int64"
      ]
     },
     "execution_count": 67,
     "metadata": {},
     "output_type": "execute_result"
    }
   ],
   "source": [
    "df[\"con_quienes_convivis\"].value_counts().head(25)"
   ]
  },
  {
   "cell_type": "code",
   "execution_count": 72,
   "metadata": {},
   "outputs": [
    {
     "data": {
      "image/png": "[encoded data removed]",
      "text/plain": [
       "<Figure size 432x288 with 1 Axes>"
      ]
     },
     "metadata": {
      "needs_background": "light"
     },
     "output_type": "display_data"
    }
   ],
   "source": [
    "aux = df.copy()\n",
    "\n",
    "gph = aux[\"con_quienes_convivis\"].value_counts(normalize=True, sort=True)\n",
    "gph[:10].plot.barh();\n",
    "\n",
    "charts[\"convivencia_cuali\"] = to_rechart(gph, 6)"
   ]
  },
  {
   "cell_type": "code",
   "execution_count": 69,
   "metadata": {},
   "outputs": [
    {
     "data": {
      "text/plain": [
       "{'data': [{'name': 'Pareja', 'value': 0.30735076467686234},\n",
       "  {'name': 'Familia de origen (madre/padre/hermanos/as)',\n",
       "   'value': 0.24617661568820917},\n",
       "  {'name': 'Vivo solo/a', 'value': 0.17513566847557968},\n",
       "  {'name': 'Pareja, Hijos/as (tiempo completo)', 'value': 0.160828811050814},\n",
       "  {'name': 'Amigos/as / Roomates', 'value': 0.01726689689195856},\n",
       "  {'name': 'Familia de origen (madre/padre/hermanos/as), Pareja',\n",
       "   'value': 0.013813517513566848},\n",
       "  {'name': 'Otros', 'value': 0.07942772570300938}]}"
      ]
     },
     "execution_count": 69,
     "metadata": {},
     "output_type": "execute_result"
    }
   ],
   "source": [
    "charts[\"convivencia_cuali\"]"
   ]
  },
  {
   "cell_type": "markdown",
   "metadata": {},
   "source": [
    "#### 2.1.3. ¿Tenés hijos/as menores de edad?"
   ]
  },
  {
   "cell_type": "code",
   "execution_count": 76,
   "metadata": {},
   "outputs": [
    {
     "data": {
      "image/png": "[encoded data removed]",
      "text/plain": [
       "<Figure size 432x288 with 1 Axes>"
      ]
     },
     "metadata": {
      "needs_background": "light"
     },
     "output_type": "display_data"
    }
   ],
   "source": [
    "aux = df.copy().dropna()\n",
    "aux[\"tenes_hijosas_menores_de_edad\"] = aux[\"tenes_hijosas_menores_de_edad\"].astype(int).apply(str)\n",
    "\n",
    "aux = normalize_dataframe_column_replace(aux, \"tenes_hijosas_menores_de_edad\", {\"0\": \"No\"})\n",
    "gph = aux[\"tenes_hijosas_menores_de_edad\"].value_counts(normalize=True)\n",
    "gph.plot.barh();\n",
    "\n",
    "charts[\"tenes_hijoas\"] = to_rechart(gph)"
   ]
  },
  {
   "cell_type": "markdown",
   "metadata": {},
   "source": [
    "### 2.2. Situación personal\n"
   ]
  },
  {
   "cell_type": "markdown",
   "metadata": {},
   "source": [
    "#### 2.2.1. ¿Cómo venís llevando la cuarentena?"
   ]
  },
  {
   "cell_type": "code",
   "execution_count": 101,
   "metadata": {},
   "outputs": [
    {
     "data": {
      "image/png": "[encoded data removed]",
      "text/plain": [
       "<Figure size 432x288 with 1 Axes>"
      ]
     },
     "metadata": {
      "needs_background": "light"
     },
     "output_type": "display_data"
    }
   ],
   "source": [
    "labels = {\"1\":\"Bastante mal\", \"2\":\"Mal\", \"3\":\"Bien\", \"4\":\"Muy bien\"}\n",
    "\n",
    "aux = df.copy().dropna()\n",
    "aux[\"como_venis_llevando_la_cuarentena\"] = aux[\"como_venis_llevando_la_cuarentena\"].astype(int).apply(str)\n",
    "\n",
    "aux = normalize_dataframe_column_replace(aux, \"como_venis_llevando_la_cuarentena\", labels)\n",
    "gph = aux[\"como_venis_llevando_la_cuarentena\"].value_counts(normalize=True)\n",
    "gph.plot.barh();\n",
    "\n",
    "charts[\"como_venis_llevando\"] = to_rechart(gph)"
   ]
  },
  {
   "cell_type": "markdown",
   "metadata": {},
   "source": [
    "#### 2.2.2. Quienes están pasándola \"Mal\" o \"Bastante mal\", ¿con quién/es conviven?\n"
   ]
  },
  {
   "cell_type": "code",
   "execution_count": 79,
   "metadata": {},
   "outputs": [
    {
     "data": {
      "text/html": [
       "<div>\n",
       "<style scoped>\n",
       "    .dataframe tbody tr th:only-of-type {\n",
       "        vertical-align: middle;\n",
       "    }\n",
       "\n",
       "    .dataframe tbody tr th {\n",
       "        vertical-align: top;\n",
       "    }\n",
       "\n",
       "    .dataframe thead th {\n",
       "        text-align: right;\n",
       "    }\n",
       "</style>\n",
       "<table border=\"1\" class=\"dataframe\">\n",
       "  <thead>\n",
       "    <tr style=\"text-align: right;\">\n",
       "      <th>pasandola_bien</th>\n",
       "      <th>False</th>\n",
       "      <th>True</th>\n",
       "    </tr>\n",
       "    <tr>\n",
       "      <th>con_quienes_convivis</th>\n",
       "      <th></th>\n",
       "      <th></th>\n",
       "    </tr>\n",
       "  </thead>\n",
       "  <tbody>\n",
       "    <tr>\n",
       "      <th>Pareja</th>\n",
       "      <td>0.176565</td>\n",
       "      <td>0.823435</td>\n",
       "    </tr>\n",
       "    <tr>\n",
       "      <th>Familia de origen (madre/padre/hermanos/as)</th>\n",
       "      <td>0.212425</td>\n",
       "      <td>0.787575</td>\n",
       "    </tr>\n",
       "    <tr>\n",
       "      <th>Pareja, Hijos/as (tiempo completo)</th>\n",
       "      <td>0.196319</td>\n",
       "      <td>0.803681</td>\n",
       "    </tr>\n",
       "    <tr>\n",
       "      <th>Vivo solo/a</th>\n",
       "      <td>0.267606</td>\n",
       "      <td>0.732394</td>\n",
       "    </tr>\n",
       "    <tr>\n",
       "      <th>Amigos/as / Roomates</th>\n",
       "      <td>0.200000</td>\n",
       "      <td>0.800000</td>\n",
       "    </tr>\n",
       "    <tr>\n",
       "      <th>Hijos/as (tiempo completo)</th>\n",
       "      <td>0.111111</td>\n",
       "      <td>0.888889</td>\n",
       "    </tr>\n",
       "  </tbody>\n",
       "</table>\n",
       "</div>"
      ],
      "text/plain": [
       "pasandola_bien                                  False     True \n",
       "con_quienes_convivis                                           \n",
       "Pareja                                       0.176565  0.823435\n",
       "Familia de origen (madre/padre/hermanos/as)  0.212425  0.787575\n",
       "Pareja, Hijos/as (tiempo completo)           0.196319  0.803681\n",
       "Vivo solo/a                                  0.267606  0.732394\n",
       "Amigos/as / Roomates                         0.200000  0.800000\n",
       "Hijos/as (tiempo completo)                   0.111111  0.888889"
      ]
     },
     "execution_count": 79,
     "metadata": {},
     "output_type": "execute_result"
    }
   ],
   "source": [
    "fgroup = [\"Pareja\", \"Familia de origen (madre/padre/hermanos/as)\", \"Vivo solo/a\", \"Pareja, Hijos/as (tiempo completo)\",\n",
    "       \"Hijos/as (tiempo completo)\", \"Amigos/as / Roomates\"]\n",
    "\n",
    "aux = df.copy()\n",
    "conv = aux['pasandola_bien'] = aux['como_venis_llevando_la_cuarentena'].isin([3, 4])\n",
    "conv = aux.groupby([\"pasandola_bien\", \"con_quienes_convivis\"])[\"con_quienes_convivis\"].count().unstack(\"pasandola_bien\").fillna(0).sort_values(by=1, ascending=False)\n",
    "\n",
    "conv = conv.query(\"con_quienes_convivis in @fgroup\")\n",
    "conv.div(conv.sum(axis=1), axis=0)"
   ]
  },
  {
   "cell_type": "code",
   "execution_count": 80,
   "metadata": {},
   "outputs": [
    {
     "data": {
      "image/png": "[encoded data removed]",
      "text/plain": [
       "<Figure size 432x288 with 1 Axes>"
      ]
     },
     "metadata": {
      "needs_background": "light"
     },
     "output_type": "display_data"
    }
   ],
   "source": [
    "conv.div(conv.sum(axis=1), axis=0).loc[:, 0].sort_values().plot(kind=\"barh\", ax=plt.gca());\n",
    "charts[\"convivencia_pasandola_mal\"] = to_rechart(conv)"
   ]
  },
  {
   "cell_type": "markdown",
   "metadata": {},
   "source": [
    "#### 2.2.3. ¿Qué tipo de cuarentena estás haciendo?"
   ]
  },
  {
   "cell_type": "code",
   "execution_count": 82,
   "metadata": {},
   "outputs": [
    {
     "data": {
      "image/png": "[encoded data removed]",
      "text/plain": [
       "<Figure size 432x288 with 1 Axes>"
      ]
     },
     "metadata": {
      "needs_background": "light"
     },
     "output_type": "display_data"
    }
   ],
   "source": [
    "labels = {\"1\":\"Nada estricta\", \"2\":\"Poco estricta\", \"3\":\"Estricta\", \"4\":\"Muy estricta\"}\n",
    "\n",
    "aux = df.copy().dropna()\n",
    "aux[\"que_tipo_de_cuarentena_hiciste_estas_haciendo\"] = aux[\"que_tipo_de_cuarentena_hiciste_estas_haciendo\"].astype(int).apply(str)\n",
    "\n",
    "aux = normalize_dataframe_column_replace(aux, \"que_tipo_de_cuarentena_hiciste_estas_haciendo\", labels)\n",
    "gph = aux[\"que_tipo_de_cuarentena_hiciste_estas_haciendo\"].value_counts(normalize=True)\n",
    "gph.plot.barh();\n",
    "\n",
    "charts[\"tipo_de_cuarentena\"] = to_rechart(gph)"
   ]
  },
  {
   "cell_type": "markdown",
   "metadata": {},
   "source": [
    "### 2.3. Espacio de trabajo"
   ]
  },
  {
   "cell_type": "markdown",
   "metadata": {},
   "source": [
    "#### 2.3.1. ¿Tenés un espacio dedicado para el trabajo?"
   ]
  },
  {
   "cell_type": "code",
   "execution_count": 83,
   "metadata": {},
   "outputs": [
    {
     "data": {
      "image/png": "[encoded data removed]",
      "text/plain": [
       "<Figure size 432x288 with 1 Axes>"
      ]
     },
     "metadata": {
      "needs_background": "light"
     },
     "output_type": "display_data"
    }
   ],
   "source": [
    "aux = df.copy()\n",
    "\n",
    "gph = aux[\"tenes_un_espacio_dedicado_para_el_trabajo\"].value_counts(normalize=True, sort=True)\n",
    "gph.plot.barh();\n",
    "\n",
    "charts[\"espacio_trabajo\"] = to_rechart(gph)"
   ]
  },
  {
   "cell_type": "markdown",
   "metadata": {},
   "source": [
    "#### 2.3.2. ¿Tenés que compartir tu equipo de trabajo con alguien?"
   ]
  },
  {
   "cell_type": "code",
   "execution_count": 84,
   "metadata": {},
   "outputs": [
    {
     "data": {
      "image/png": "[encoded data removed]",
      "text/plain": [
       "<Figure size 432x288 with 1 Axes>"
      ]
     },
     "metadata": {
      "needs_background": "light"
     },
     "output_type": "display_data"
    }
   ],
   "source": [
    "aux = df.copy()\n",
    "\n",
    "gph = aux[\"tenes_que_compartir_tu_equipo_de_trabajo_con_alguien\"].value_counts(normalize=True, sort=True)\n",
    "gph.plot.barh();\n",
    "\n",
    "charts[\"espacio_trabajo_compartido\"] = to_rechart(gph)"
   ]
  },
  {
   "cell_type": "markdown",
   "metadata": {},
   "source": [
    "#### 2.3.3. Cómo se lleva la cuarentena según espacio de trabajo"
   ]
  },
  {
   "cell_type": "markdown",
   "metadata": {},
   "source": [
    "#### ¿Influye el hecho de tener un espacio dedicado al trabajo a cómo se lleva la cuarentena?\n",
    "\n",
    "Como observamos en 2.2.1, el porcentaje de gente que la está pasando peor (Mal y Bastante Mal) es aproximadamente un 20%. Analizaremos cómo afecta a este hecho el tener un espacio de trabajo específico:"
   ]
  },
  {
   "cell_type": "code",
   "execution_count": 104,
   "metadata": {},
   "outputs": [
    {
     "data": {
      "text/plain": [
       "como_venis_llevando_la_cuarentena\n",
       "1.0    0.012773\n",
       "2.0    0.060892\n",
       "3.0    0.162905\n",
       "4.0    0.118110\n",
       "dtype: float64"
      ]
     },
     "metadata": {},
     "output_type": "display_data"
    },
    {
     "data": {
      "image/png": "[encoded data removed]",
      "text/plain": [
       "<Figure size 432x288 with 1 Axes>"
      ]
     },
     "metadata": {
      "needs_background": "light"
     },
     "output_type": "display_data"
    }
   ],
   "source": [
    "aux = df.copy()\n",
    "wp = aux.groupby([\"como_venis_llevando_la_cuarentena\", \"tenes_un_espacio_dedicado_para_el_trabajo\"])[\"tenes_un_espacio_dedicado_para_el_trabajo\"].count().unstack(\"como_venis_llevando_la_cuarentena\").fillna(0).sort_values(by=1, ascending=False)\n",
    "wp_rel = wp.div(wp.sum(axis=1), axis=0)\n",
    "display(wp.sum(axis=0) / (253 + 1048 + 2657 + 1757))\n",
    "wpp = wp_rel[[1, 2]].sum(axis=1)\n",
    "wpp.plot(kind='barh');\n",
    "charts[\"espacio_trabajo_llevando_cuarentena\"] = to_rechart(wpp)"
   ]
  },
  {
   "cell_type": "markdown",
   "metadata": {},
   "source": [
    "Podemos ver que dentro de la gente sin un espacio dedicado al trabajo hay un mayor porcentaje que se encuentra pasándola \"mal\" o \"bastante mal\" (25%), mientras que entre quienes si tienen un espacio laboral dedicado este número es del 17%. "
   ]
  },
  {
   "cell_type": "markdown",
   "metadata": {},
   "source": [
    "### 2.4. Situación laboral"
   ]
  },
  {
   "cell_type": "markdown",
   "metadata": {},
   "source": [
    "#### 2.4.1. ¿Cambió tu situación laboral a raíz de la pandemia?"
   ]
  },
  {
   "cell_type": "code",
   "execution_count": 106,
   "metadata": {},
   "outputs": [
    {
     "data": {
      "image/png": "[encoded data removed]",
      "text/plain": [
       "<Figure size 432x288 with 1 Axes>"
      ]
     },
     "metadata": {
      "needs_background": "light"
     },
     "output_type": "display_data"
    }
   ],
   "source": [
    "aux = df.copy()\n",
    "aux[\"cambio_situacion\"] = (aux.cambio_tu_situacion_laboral_a_raiz_de_la_pandemia != \"No\").apply(str)\n",
    "labels = {\"False\": \"No\", \"True\": \"Si\"}\n",
    "aux = normalize_dataframe_column_replace(aux, \"cambio_situacion\", labels)\n",
    "\n",
    "csl = aux[\"cambio_situacion\"].value_counts(normalize=True)\n",
    "csl.plot.barh();\n",
    "charts[\"cambio_situacion\"] = to_rechart(csl)"
   ]
  },
  {
   "cell_type": "markdown",
   "metadata": {},
   "source": [
    "#### 2.4.1.1. Cambio de situación laboral por género"
   ]
  },
  {
   "cell_type": "code",
   "execution_count": 107,
   "metadata": {},
   "outputs": [
    {
     "data": {
      "image/png": "[encoded data removed]",
      "text/plain": [
       "<Figure size 432x288 with 1 Axes>"
      ]
     },
     "metadata": {
      "needs_background": "light"
     },
     "output_type": "display_data"
    }
   ],
   "source": [
    "# 'Otros' con datos insuficientes\n",
    "gs = aux.groupby(['me_id', 'cambio_situacion'])['cambio_situacion'].count().unstack()\n",
    "gs = gs.div(gs.sum(axis=1), axis=0)\n",
    "gs.loc[['Varón', 'Mujer']].T.plot.barh();\n",
    "charts[\"cambio_situacion_genero\"] = to_rechart(gs)"
   ]
  },
  {
   "cell_type": "markdown",
   "metadata": {},
   "source": [
    "#### 2.4.1.2. Cambio de situación laboral por experiencia "
   ]
  },
  {
   "cell_type": "code",
   "execution_count": 108,
   "metadata": {},
   "outputs": [
    {
     "data": {
      "image/png": "[encoded data removed]",
      "text/plain": [
       "<Figure size 432x288 with 1 Axes>"
      ]
     },
     "metadata": {
      "needs_background": "light"
     },
     "output_type": "display_data"
    }
   ],
   "source": [
    "sen = aux.groupby(['seniority', 'cambio_situacion'])['cambio_situacion'].count().unstack()\n",
    "sen = sen.div(sen.sum(axis=1), axis=0)\n",
    "sen.loc[['Junior', 'Semi-Senior', 'Senior']].T.plot.barh();\n",
    "charts[\"cambio_situacion_seniority\"] = to_rechart(sen)"
   ]
  },
  {
   "cell_type": "markdown",
   "metadata": {},
   "source": [
    "#### 2.4.2. Si cambió, ¿cómo?"
   ]
  },
  {
   "cell_type": "code",
   "execution_count": 109,
   "metadata": {},
   "outputs": [
    {
     "data": {
      "image/png": "[encoded data removed]",
      "text/plain": [
       "<Figure size 432x288 with 1 Axes>"
      ]
     },
     "metadata": {
      "needs_background": "light"
     },
     "output_type": "display_data"
    }
   ],
   "source": [
    "reduction = r\"(reducci[óo]n|redujeron|reducir|reducieron|recortaron|bajaron|reduje|menos|paralizar[on]|sin aumento|eliminaron)\"\n",
    "hours = r\"(horas?|horario|hs)\"\n",
    "less_hours = rf\".*{reduction}.*{hours}.*\"\n",
    "money = \"(sueldo|aumento[s]|salario|ajustes|salarial)\"\n",
    "less_salary = rf\".*{reduction}.*{money}.*\"\n",
    "more_hours = rf\".*(m[aá]s|increment[oó]|aument[ée]).*{hours}|(trabajo).*\"\n",
    "homeoffice = r\".*(remoto|teletrabajo|home ?office|ho[nm]eworking|trabajo desde casa|wfh|remote-first|trabajar de forma remota|home office).*\"\n",
    "\n",
    "cambio_norm = normalize_dataframe_column(\n",
    "    aux[aux.cambio_situacion == \"Si\"],\n",
    "    \"cambio_tu_situacion_laboral_a_raiz_de_la_pandemia\",\n",
    "    {\n",
    "        less_salary: \"Se redujo mi salario\",\n",
    "        less_hours: \"Trabajo menos que antes\",\n",
    "        more_hours: \"Trabajo más que antes\",\n",
    "        homeoffice: \"Trabajo 100% remoto\",\n",
    "    },\n",
    ")\n",
    "\n",
    "csl_c = cambio_norm.cambio_tu_situacion_laboral_a_raiz_de_la_pandemia.value_counts(normalize=True)\n",
    "csl_c[:7].plot.barh()\n",
    "charts[\"como_cambio_norm\"] = to_rechart(csl_c[:7])"
   ]
  },
  {
   "cell_type": "markdown",
   "metadata": {},
   "source": [
    "#### 2.4.3. ¿Qué tanto sentís que te está apoyando tu empresa en esta situación?"
   ]
  },
  {
   "cell_type": "code",
   "execution_count": 110,
   "metadata": {},
   "outputs": [
    {
     "data": {
      "image/png": "[encoded data removed]",
      "text/plain": [
       "<Figure size 432x288 with 1 Axes>"
      ]
     },
     "metadata": {
      "needs_background": "light"
     },
     "output_type": "display_data"
    }
   ],
   "source": [
    "aux = df.copy()\n",
    "\n",
    "labels = [\"Nada\", \"Poco\", \"Algo\", \"Bastante\", \"Mucho\"]\n",
    "support = pd.cut(aux[\"que_tanto_sentis_que_te_esta_apoyando_tu_empresaorganizacion_en_esta_situacion\"], range(0, 11, 2), include_lowest=True, labels=labels).value_counts(normalize=True)\n",
    "support.plot.barh();\n",
    "charts[\"apoyando_empresa\"]= to_rechart(support)"
   ]
  },
  {
   "cell_type": "markdown",
   "metadata": {},
   "source": [
    "#### 2.4.4. ¿Se vio afectada tu empresa?"
   ]
  },
  {
   "cell_type": "code",
   "execution_count": 111,
   "metadata": {},
   "outputs": [
    {
     "data": {
      "image/png": "[encoded data removed]",
      "text/plain": [
       "<Figure size 432x288 with 1 Axes>"
      ]
     },
     "metadata": {
      "needs_background": "light"
     },
     "output_type": "display_data"
    }
   ],
   "source": [
    "aux = df.copy()\n",
    "aux[\"afecto_empresa\"] = aux.como_se_vio_afectada_tu_empresaorganizacion.str.contains(\"No la afectó\").dropna()\n",
    "aux[\"afecto_empresa\"] = ~aux[\"afecto_empresa\"].astype(bool)\n",
    "aux[\"afecto_empresa\"] = aux[\"afecto_empresa\"].apply(str)\n",
    "labels = {\"False\": \"No\", \"True\": \"Si\"}\n",
    "aux = normalize_dataframe_column_replace(aux, \"afecto_empresa\", labels)\n",
    "\n",
    "ae = aux[\"afecto_empresa\"].value_counts(normalize=True)\n",
    "ae.plot.barh();\n",
    "charts[\"afecto_empresa\"] = to_rechart(ae)"
   ]
  },
  {
   "cell_type": "markdown",
   "metadata": {},
   "source": [
    "#### 2.4.5. Empresas afectadas, por tipo de empresa"
   ]
  },
  {
   "cell_type": "code",
   "execution_count": 112,
   "metadata": {},
   "outputs": [
    {
     "data": {
      "image/png": "[encoded data removed]",
      "text/plain": [
       "<Figure size 432x288 with 1 Axes>"
      ]
     },
     "metadata": {
      "needs_background": "light"
     },
     "output_type": "display_data"
    }
   ],
   "source": [
    "ap = aux.groupby(['actividad_principal', 'afecto_empresa'])['afecto_empresa'].count().unstack('afecto_empresa')\n",
    "ap = ap.div(ap.sum(axis=1), axis=0)['Si']\n",
    "ap.plot.barh();\n",
    "charts[\"afecto_empresa_por_tipo\"] = to_rechart(ap)"
   ]
  },
  {
   "cell_type": "markdown",
   "metadata": {},
   "source": [
    "#### 2.4.6. Empresas afectadas, por tamaño de empresa"
   ]
  },
  {
   "cell_type": "code",
   "execution_count": 113,
   "metadata": {},
   "outputs": [
    {
     "data": {
      "image/png": "[encoded data removed]",
      "text/plain": [
       "<Figure size 432x288 with 1 Axes>"
      ]
     },
     "metadata": {
      "needs_background": "light"
     },
     "output_type": "display_data"
    }
   ],
   "source": [
    "aux = aux[aux[\"afecto_empresa\"] == \"Si\"]\n",
    "aff = aux.groupby([\"afecto_empresa\", \"cantidad_de_personas_en_tu_organizacion\"])[\"afecto_empresa\"].count().unstack(\"cantidad_de_personas_en_tu_organizacion\")\n",
    "aff = aff.div(aff.sum(axis=1), axis=0)\n",
    "\n",
    "aff.T.sort_values(by='Si').plot.barh();\n",
    "charts[\"afecto_empresa_por_tamaño\"] = to_rechart(aff)"
   ]
  },
  {
   "cell_type": "markdown",
   "metadata": {},
   "source": [
    "#### 2.4.7. ¿Cómo se vio afectada tu empresa?"
   ]
  },
  {
   "cell_type": "code",
   "execution_count": 114,
   "metadata": {},
   "outputs": [
    {
     "data": {
      "image/png": "[encoded data removed]",
      "text/plain": [
       "<Figure size 432x288 with 1 Axes>"
      ]
     },
     "metadata": {
      "needs_background": "light"
     },
     "output_type": "display_data"
    }
   ],
   "source": [
    "afecto_empresa = (\n",
    "    aux[aux[\"afecto_empresa\"] == \"Si\"].como_se_vio_afectada_tu_empresaorganizacion\n",
    "    .str.extractall(r\"(?P<value>[^,]+),? ?\")[\"value\"]\n",
    "    .value_counts(normalize=False, sort=True)\n",
    "    .to_frame()\n",
    "    .rename_axis(\"key\")\n",
    ")\n",
    "afecto_empresa.reset_index(level=0, inplace=True)\n",
    "\n",
    "afecto_empresa = normalize_dataframe_column(\n",
    "    afecto_empresa,\n",
    "    \"key\",\n",
    "    {\n",
    "        \".*(no|frenar).*(aumentos?|ajustes?).*$\": \"No hubo ajuste de sueldo\",\n",
    "        \"^(No se|a|pero existen|-|Cambie de trabajo)$\": \"DELETEME\",\n",
    "    },\n",
    ")\n",
    "afecto_empresa_total = afecto_empresa.query(\"key != 'DELETEME'\").groupby(\"key\").sum()[\"value\"].sum()\n",
    "afecto_empresa_f = (afecto_empresa.query(\"key != 'DELETEME'\").groupby(\"key\").sum()[\"value\"].sort_values(ascending=False).to_frame()  / afecto_empresa_total)\n",
    "\n",
    "afecto_empresa_f[:10].plot.barh()\n",
    "charts[\"afecto_empresa_como\"] = to_rechart(afecto_empresa_f[:10])"
   ]
  },
  {
   "cell_type": "markdown",
   "metadata": {},
   "source": [
    "#### 2.4.8. ¿Instauraron algún beneficio nuevo?"
   ]
  },
  {
   "cell_type": "code",
   "execution_count": 95,
   "metadata": {},
   "outputs": [
    {
     "data": {
      "image/png": "[encoded data removed]",
      "text/plain": [
       "<Figure size 432x288 with 1 Axes>"
      ]
     },
     "metadata": {
      "needs_background": "light"
     },
     "output_type": "display_data"
    }
   ],
   "source": [
    "aux = df.copy()\n",
    "aux[\"beneficio_nuevo\"] = (aux.instauraron_algun_beneficio_nuevo != \"No\").apply(str)\n",
    "labels = {\"False\": \"No\", \"True\": \"Si\"}\n",
    "aux = normalize_dataframe_column_replace(aux, \"beneficio_nuevo\", labels)\n",
    "bn = aux[\"beneficio_nuevo\"].value_counts(normalize=True)\n",
    "bn.plot.barh();\n",
    "charts[\"beneficio_nuevo\"] = to_rechart(bn)"
   ]
  },
  {
   "cell_type": "markdown",
   "metadata": {},
   "source": [
    "#### 2.4.9. ¿Cuál?"
   ]
  },
  {
   "cell_type": "code",
   "execution_count": 96,
   "metadata": {},
   "outputs": [
    {
     "data": {
      "image/png": "[encoded data removed]",
      "text/plain": [
       "<Figure size 432x288 with 1 Axes>"
      ]
     },
     "metadata": {
      "needs_background": "light"
     },
     "output_type": "display_data"
    }
   ],
   "source": [
    "# remove commas from values since they're used to separate different values later\n",
    "no_commas = aux[aux[\"beneficio_nuevo\"] == \"Si\"].instauraron_algun_beneficio_nuevo\n",
    "no_commas = no_commas.str.replace(\"\\(.*\\)\", \"\")\n",
    "\n",
    "beneficios = (\n",
    "    no_commas\n",
    "    .str.extractall(r\"(?P<value>[^,]+),? ?\")[\"value\"]\n",
    "    .value_counts(normalize=False, sort=True)\n",
    "    .to_frame()\n",
    "    .rename_axis(\"key\")\n",
    ")\n",
    "beneficios.reset_index(level=0, inplace=True)\n",
    "beneficios = normalize_dataframe_column(\n",
    "    beneficios,\n",
    "    \"key\",\n",
    "    {\n",
    "        \"(home ?office|teletrabajo?|trabajo remoto)\": \"Home office\",\n",
    "        \"^(No|etc)$\": \"DELETEME\",\n",
    "    },\n",
    ")\n",
    "beneficios_tot = beneficios.query(\"key != 'DELETEME'\").groupby(\"key\").sum()[\"value\"].sum()\n",
    "beneficios_f = beneficios.query(\"key != 'DELETEME'\").groupby(\"key\").sum()[\"value\"].sort_values(ascending=False).to_frame() / beneficios_tot\n",
    "beneficios_f[:10].plot.barh();\n",
    "charts[\"beneficios_extra\"] = to_rechart(beneficios_f[:10])"
   ]
  },
  {
   "cell_type": "code",
   "execution_count": 115,
   "metadata": {},
   "outputs": [
    {
     "data": {
      "text/plain": [
       "'{\"total_surveyed\": 6088, \"total_analyzed_surveyed\": 5599, \"convivencia_cuanti\": {\"data\": [{\"name\": \"1\", \"value\": 0.3699}, {\"name\": \"Vivo solo/a\", \"value\": 0.19449}, {\"name\": \"2\", \"value\": 0.17753}, {\"name\": \"3\", \"value\": 0.15845}, {\"name\": \"4\", \"value\": 0.06465}, {\"name\": \"5\", \"value\": 0.02385}, {\"name\": \"Otros\", \"value\": 0.01113}]}, \"convivencia_cuali\": {\"data\": [{\"name\": \"Pareja\", \"value\": 0.30735}, {\"name\": \"Familia de origen (madre/padre/hermanos/as)\", \"value\": 0.24618}, {\"name\": \"Vivo solo/a\", \"value\": 0.17514}, {\"name\": \"Pareja, Hijos/as (tiempo completo)\", \"value\": 0.16083}, {\"name\": \"Amigos/as / Roomates\", \"value\": 0.01727}, {\"name\": \"Familia de origen (madre/padre/hermanos/as), Pareja\", \"value\": 0.01381}, {\"name\": \"Otros\", \"value\": 0.07943}]}, \"convivencia_pasandola_mal\": {\"data\": [{\"name\": \"Pareja\", \"false\": 110.0, \"true\": 513.0}, {\"name\": \"Familia de origen (madre/padre/hermanos/as)\", \"false\": 106.0, \"true\": 393.0}, {\"name\": \"Pareja, Hijos/as (tiempo completo)\", \"false\": 64.0, \"true\": 262.0}, {\"name\": \"Vivo solo/a\", \"false\": 95.0, \"true\": 260.0}, {\"name\": \"Amigos/as / Roomates\", \"false\": 7.0, \"true\": 28.0}, {\"name\": \"Hijos/as (tiempo completo)\", \"false\": 2.0, \"true\": 16.0}]}, \"espacio_trabajo\": {\"data\": [{\"name\": \"S\\\\u00ed\", \"value\": 0.56734}, {\"name\": \"No\", \"value\": 0.43266}]}, \"espacio_trabajo_compartido\": {\"data\": [{\"name\": \"No\", \"value\": 0.91169}, {\"name\": \"S\\\\u00ed\", \"value\": 0.08831}]}, \"cambio_situacion\": {\"data\": [{\"name\": \"Si\", \"value\": 0.75513}, {\"name\": \"No\", \"value\": 0.24487}]}, \"cambio_situacion_genero\": {\"data\": [{\"name\": \"Mujer\", \"No\": 0.27562, \"Si\": 0.72438}, {\"name\": \"No binarie\", \"No\": 0.25806, \"Si\": 0.74194}, {\"name\": \"Otro\", \"No\": 0.15238, \"Si\": 0.84762}, {\"name\": \"Prefiero no decir\", \"No\": 0.19196, \"Si\": 0.80804}, {\"name\": \"Var\\\\u00f3n\", \"No\": 0.24597, \"Si\": 0.75403}]}, \"cambio_situacion_seniority\": {\"data\": [{\"name\": \"Junior\", \"No\": 0.25726, \"Si\": 0.74274}, {\"name\": \"Semi-Senior\", \"No\": 0.25204, \"Si\": 0.74796}, {\"name\": \"Senior\", \"No\": 0.25431, \"Si\": 0.74569}]}, \"como_cambio_norm\": {\"data\": [{\"name\": \"Cambi\\\\u00e9 de trabajo, pero no por la pandemia\", \"value\": 0.57774}, {\"name\": \"Decid\\\\u00ed buscar otro trabajo\", \"value\": 0.19817}, {\"name\": \"Trabajo 100% remoto\", \"value\": 0.03659}, {\"name\": \"Me despidieron\", \"value\": 0.03506}, {\"name\": \"Se redujo mi salario\", \"value\": 0.0061}, {\"name\": \"Trabajo menos que antes\", \"value\": 0.00305}, {\"name\": \"Empece en el rubro IT\", \"value\": 0.00305}]}, \"apoyando_empresa\": {\"data\": [{\"name\": \"Mucho\", \"value\": 0.36655}, {\"name\": \"Bastante\", \"value\": 0.35915}, {\"name\": \"Algo\", \"value\": 0.15688}, {\"name\": \"Poco\", \"value\": 0.06512}, {\"name\": \"Nada\", \"value\": 0.05229}]}, \"afecto_empresa\": {\"data\": [{\"name\": \"No\", \"value\": 0.83158}, {\"name\": \"Si\", \"value\": 0.16842}]}, \"afecto_empresa_por_tipo\": {\"data\": [{\"name\": \"Otras industrias\", \"value\": 0.15679}, {\"name\": \"Producto basado en Software\", \"value\": 0.18356}, {\"name\": \"Servicios / Consultor\\\\u00eda de Software / Digital\", \"value\": 0.16151}]}, \"afecto_empresa_por_tama\\\\u00f1o\": {\"data\": [{\"name\": \"Si\", \"1-10\": 0.06045, \"10001+\": 0.13043, \"1001-2000\": 0.06045, \"101-200\": 0.09756, \"11-50\": 0.16967, \"2001-5000\": 0.07211, \"201-500\": 0.12725, \"5001-10000\": 0.05938, \"501-1000\": 0.10498, \"51-100\": 0.11771}]}, \"afecto_empresa_como\": {\"data\": [{\"name\": \"Se vio beneficiada\", \"value\": 0.3242}, {\"name\": \"Frenaron las contrataciones\", \"value\": 0.19023}, {\"name\": \"Despidi\\\\u00f3 a algunas personas\", \"value\": 0.11843}, {\"name\": \"Cerr\\\\u00f3 oficinas\", \"value\": 0.09252}, {\"name\": \"Bajaron los sueldos o pagan parte\", \"value\": 0.07328}, {\"name\": \"Nos obligaron a tomarnos vacaciones\", \"value\": 0.03405}, {\"name\": \"No hubo ajuste de sueldo\", \"value\": 0.01406}, {\"name\": \"No est\\\\u00e1 pagando sueldos/aportes\", \"value\": 0.01258}, {\"name\": \"Present\\\\u00f3 la quiebra\", \"value\": 0.00518}, {\"name\": \"Se fue del pa\\\\u00eds\", \"value\": 0.00518}]}, \"beneficio_nuevo\": {\"data\": [{\"name\": \"Si\", \"value\": 0.99964}, {\"name\": \"No\", \"value\": 0.00036}]}, \"beneficios_extra\": {\"data\": [{\"name\": \"Ninguna de las anteriores\", \"value\": 0.39359}, {\"name\": \"Pago de abono de Internet\", \"value\": 0.12278}, {\"name\": \"Compra de accesorios \", \"value\": 0.11886}, {\"name\": \"Clases de yoga\", \"value\": 0.06584}, {\"name\": \"Almuerzo o delivery de snacks/bebidas \", \"value\": 0.06228}, {\"name\": \"Clases de meditaci\\\\u00f3n\", \"value\": 0.06085}, {\"name\": \"Clases de gimnasia\", \"value\": 0.04947}, {\"name\": \"D\\\\u00edas libres extras\", \"value\": 0.04626}, {\"name\": \"Pago de abono de celular\", \"value\": 0.01637}, {\"name\": \"Pago de abono de otros servicios\", \"value\": 0.0153}]}, \"tenes_hijoas\": {\"data\": [{\"name\": \"No\", \"value\": 0.74987}, {\"name\": \"1\", \"value\": 0.13514}, {\"name\": \"2\", \"value\": 0.09751}, {\"name\": \"3\", \"value\": 0.01431}, {\"name\": \"4\", \"value\": 0.00318}]}, \"como_venis_llevando\": {\"data\": [{\"name\": \"Bien\", \"value\": 0.46423}, {\"name\": \"Muy bien\", \"value\": 0.32856}, {\"name\": \"Mal\", \"value\": 0.17223}, {\"name\": \"Bastante mal\", \"value\": 0.03498}]}, \"tipo_de_cuarentena\": {\"data\": [{\"name\": \"Estricta\", \"value\": 0.50291}, {\"name\": \"Muy estricta\", \"value\": 0.31955}, {\"name\": \"Poco estricta\", \"value\": 0.14361}, {\"name\": \"Nada estricta\", \"value\": 0.03392}]}, \"espacio_trabajo_llevando_cuarentena\": {\"data\": [{\"name\": \"S\\\\u00ed\", \"value\": 0.17217}, {\"name\": \"No\", \"value\": 0.25428}]}}'"
      ]
     },
     "metadata": {},
     "output_type": "display_data"
    }
   ],
   "source": [
    "import json\n",
    "\n",
    "# formateamos valores flotantes para ahorrar caracteres (#macritips)\n",
    "display(\n",
    "    json.dumps(\n",
    "        json.loads(\n",
    "            json.dumps(charts, allow_nan=False),\n",
    "            parse_float=lambda x: round(float(x), 5),\n",
    "        )\n",
    "    )\n",
    ")"
   ]
  }
 ],
 "metadata": {
  "kernelspec": {
   "display_name": "Python 3",
   "language": "python",
   "name": "python3"
  },
  "language_info": {
   "codemirror_mode": {
    "name": "ipython",
    "version": 3
   },
   "file_extension": ".py",
   "mimetype": "text/x-python",
   "name": "python",
   "nbconvert_exporter": "python",
   "pygments_lexer": "ipython3",
   "version": "3.8.5"
  }
 },
 "nbformat": 4,
 "nbformat_minor": 4
}
