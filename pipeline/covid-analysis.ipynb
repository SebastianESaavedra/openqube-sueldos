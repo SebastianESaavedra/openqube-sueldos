{
 "cells": [
  {
   "cell_type": "markdown",
   "metadata": {},
   "source": [
    "# SysArmy - Análisis de encuesta 2020.02 - COVID"
   ]
  },
  {
   "cell_type": "markdown",
   "metadata": {},
   "source": [
    "## 1. Carga y sanitización de datos"
   ]
  },
  {
   "cell_type": "markdown",
   "metadata": {},
   "source": [
    "###  1.1. Definimos los metadatos asociados al dataset que vamos a analizar"
   ]
  },
  {
   "cell_type": "code",
   "execution_count": 1,
   "metadata": {},
   "outputs": [],
   "source": [
    "csv_url = \"https://raw.githubusercontent.com/openqube/openqube-sueldos/master/data/csv/argentina/2020.02.csv\"\n",
    "\n",
    "dataset_metadata = {\"year\": 2020,\n",
    "                    \"part\": 2,\n",
    "                    \"skiprows\": 0,\n",
    "                    \"publish_date\": \"2020-08-15\",\n",
    "                    \"minimum_salary\": 16875} # https://es.wikipedia.org/wiki/Anexo:Salario_m%C3%ADnimo_en_Argentina"
   ]
  },
  {
   "cell_type": "markdown",
   "metadata": {},
   "source": [
    "### 1.2. En base a los metadatos, cargamos el CSV, limpiamos columnas y las transformamos"
   ]
  },
  {
   "cell_type": "code",
   "execution_count": 2,
   "metadata": {},
   "outputs": [
    {
     "data": {
      "text/html": [
       "<div>\n",
       "<style scoped>\n",
       "    .dataframe tbody tr th:only-of-type {\n",
       "        vertical-align: middle;\n",
       "    }\n",
       "\n",
       "    .dataframe tbody tr th {\n",
       "        vertical-align: top;\n",
       "    }\n",
       "\n",
       "    .dataframe thead th {\n",
       "        text-align: right;\n",
       "    }\n",
       "</style>\n",
       "<table border=\"1\" class=\"dataframe\">\n",
       "  <thead>\n",
       "    <tr style=\"text-align: right;\">\n",
       "      <th></th>\n",
       "      <th>timestamp</th>\n",
       "      <th>me_identifico</th>\n",
       "      <th>donde_estas_trabajando</th>\n",
       "      <th>trabajo_de</th>\n",
       "      <th>tipo_de_contrato</th>\n",
       "      <th>salario_mensual_bruto_en_tu_moneda_local</th>\n",
       "      <th>como_venis_llevando_la_cuarentena</th>\n",
       "      <th>tenes_hijosas_menores_de_edad</th>\n",
       "      <th>con_cuantas_personas_estas_conviviendo</th>\n",
       "      <th>con_quienes_convivis</th>\n",
       "      <th>tenes_un_espacio_dedicado_para_el_trabajo</th>\n",
       "      <th>tenes_que_compartir_tu_equipo_de_trabajo_con_alguien</th>\n",
       "      <th>que_tipo_de_cuarentena_estas_haciendo</th>\n",
       "      <th>cambio_tu_situacion_laboral_a_raiz_de_la_pandemia</th>\n",
       "      <th>que_tanto_sentis_que_te_esta_apoyando_tu_empresa_en_esta_situacion</th>\n",
       "      <th>como_se_vio_afectada_tu_empresa</th>\n",
       "      <th>instauraron_algun_beneficio_nuevo</th>\n",
       "    </tr>\n",
       "  </thead>\n",
       "  <tbody>\n",
       "    <tr>\n",
       "      <th>0</th>\n",
       "      <td>7/6/2020 9:56:02</td>\n",
       "      <td>Mujer</td>\n",
       "      <td>Ciudad Autónoma de Buenos Aires</td>\n",
       "      <td>Consultant</td>\n",
       "      <td>Full-Time</td>\n",
       "      <td>53000</td>\n",
       "      <td>3</td>\n",
       "      <td>0</td>\n",
       "      <td>0</td>\n",
       "      <td>Vivo solo/a</td>\n",
       "      <td>No</td>\n",
       "      <td>No</td>\n",
       "      <td>4</td>\n",
       "      <td>Decidí buscar otro trabajo</td>\n",
       "      <td>7</td>\n",
       "      <td>No la afectó</td>\n",
       "      <td>No</td>\n",
       "    </tr>\n",
       "    <tr>\n",
       "      <th>1</th>\n",
       "      <td>7/6/2020 9:57:09</td>\n",
       "      <td>Hombre</td>\n",
       "      <td>Corrientes</td>\n",
       "      <td>Developer</td>\n",
       "      <td>Full-Time</td>\n",
       "      <td>79000</td>\n",
       "      <td>2</td>\n",
       "      <td>0</td>\n",
       "      <td>1</td>\n",
       "      <td>-</td>\n",
       "      <td>No</td>\n",
       "      <td>No</td>\n",
       "      <td>3</td>\n",
       "      <td>Cambié de trabajo, pero no por la pandemia</td>\n",
       "      <td>8</td>\n",
       "      <td>No la afectó</td>\n",
       "      <td>No</td>\n",
       "    </tr>\n",
       "    <tr>\n",
       "      <th>2</th>\n",
       "      <td>7/6/2020 9:58:09</td>\n",
       "      <td>Mujer</td>\n",
       "      <td>Ciudad Autónoma de Buenos Aires</td>\n",
       "      <td>Infosec</td>\n",
       "      <td>Full-Time</td>\n",
       "      <td>160000</td>\n",
       "      <td>3</td>\n",
       "      <td>0</td>\n",
       "      <td>1</td>\n",
       "      <td>Pareja</td>\n",
       "      <td>No</td>\n",
       "      <td>No</td>\n",
       "      <td>4</td>\n",
       "      <td>Cambié de trabajo, pero no por la pandemia</td>\n",
       "      <td>8</td>\n",
       "      <td>Se vio beneficiada</td>\n",
       "      <td>Clases de gimnasia, Clases de meditación, Clas...</td>\n",
       "    </tr>\n",
       "    <tr>\n",
       "      <th>3</th>\n",
       "      <td>7/6/2020 9:59:52</td>\n",
       "      <td>Hombre</td>\n",
       "      <td>Corrientes</td>\n",
       "      <td>SysAdmin / DevOps / SRE</td>\n",
       "      <td>Full-Time</td>\n",
       "      <td>130000</td>\n",
       "      <td>2</td>\n",
       "      <td>0</td>\n",
       "      <td>1</td>\n",
       "      <td>Pareja</td>\n",
       "      <td>Sí</td>\n",
       "      <td>No</td>\n",
       "      <td>4</td>\n",
       "      <td>No</td>\n",
       "      <td>4</td>\n",
       "      <td>Cerró oficinas, Bajaron los sueldos o pagan pa...</td>\n",
       "      <td>No</td>\n",
       "    </tr>\n",
       "    <tr>\n",
       "      <th>4</th>\n",
       "      <td>7/6/2020 10:01:27</td>\n",
       "      <td>Hombre</td>\n",
       "      <td>Ciudad Autónoma de Buenos Aires</td>\n",
       "      <td>Developer</td>\n",
       "      <td>Full-Time</td>\n",
       "      <td>140000</td>\n",
       "      <td>2</td>\n",
       "      <td>1</td>\n",
       "      <td>2</td>\n",
       "      <td>Pareja, Hijos/as (tiempo completo)</td>\n",
       "      <td>Sí</td>\n",
       "      <td>No</td>\n",
       "      <td>3</td>\n",
       "      <td>No</td>\n",
       "      <td>6</td>\n",
       "      <td>Nos obligaron a tomarnos vacaciones</td>\n",
       "      <td>No</td>\n",
       "    </tr>\n",
       "  </tbody>\n",
       "</table>\n",
       "</div>"
      ],
      "text/plain": [
       "           timestamp me_identifico           donde_estas_trabajando  \\\n",
       "0   7/6/2020 9:56:02         Mujer  Ciudad Autónoma de Buenos Aires   \n",
       "1   7/6/2020 9:57:09        Hombre                       Corrientes   \n",
       "2   7/6/2020 9:58:09         Mujer  Ciudad Autónoma de Buenos Aires   \n",
       "3   7/6/2020 9:59:52        Hombre                       Corrientes   \n",
       "4  7/6/2020 10:01:27        Hombre  Ciudad Autónoma de Buenos Aires   \n",
       "\n",
       "                trabajo_de tipo_de_contrato  \\\n",
       "0               Consultant        Full-Time   \n",
       "1                Developer        Full-Time   \n",
       "2                  Infosec        Full-Time   \n",
       "3  SysAdmin / DevOps / SRE        Full-Time   \n",
       "4                Developer        Full-Time   \n",
       "\n",
       "   salario_mensual_bruto_en_tu_moneda_local  \\\n",
       "0                                     53000   \n",
       "1                                     79000   \n",
       "2                                    160000   \n",
       "3                                    130000   \n",
       "4                                    140000   \n",
       "\n",
       "   como_venis_llevando_la_cuarentena  tenes_hijosas_menores_de_edad  \\\n",
       "0                                  3                              0   \n",
       "1                                  2                              0   \n",
       "2                                  3                              0   \n",
       "3                                  2                              0   \n",
       "4                                  2                              1   \n",
       "\n",
       "   con_cuantas_personas_estas_conviviendo                con_quienes_convivis  \\\n",
       "0                                       0                         Vivo solo/a   \n",
       "1                                       1                                   -   \n",
       "2                                       1                              Pareja   \n",
       "3                                       1                              Pareja   \n",
       "4                                       2  Pareja, Hijos/as (tiempo completo)   \n",
       "\n",
       "  tenes_un_espacio_dedicado_para_el_trabajo  \\\n",
       "0                                        No   \n",
       "1                                        No   \n",
       "2                                        No   \n",
       "3                                        Sí   \n",
       "4                                        Sí   \n",
       "\n",
       "  tenes_que_compartir_tu_equipo_de_trabajo_con_alguien  \\\n",
       "0                                                 No     \n",
       "1                                                 No     \n",
       "2                                                 No     \n",
       "3                                                 No     \n",
       "4                                                 No     \n",
       "\n",
       "   que_tipo_de_cuarentena_estas_haciendo  \\\n",
       "0                                      4   \n",
       "1                                      3   \n",
       "2                                      4   \n",
       "3                                      4   \n",
       "4                                      3   \n",
       "\n",
       "  cambio_tu_situacion_laboral_a_raiz_de_la_pandemia  \\\n",
       "0                        Decidí buscar otro trabajo   \n",
       "1        Cambié de trabajo, pero no por la pandemia   \n",
       "2        Cambié de trabajo, pero no por la pandemia   \n",
       "3                                                No   \n",
       "4                                                No   \n",
       "\n",
       "   que_tanto_sentis_que_te_esta_apoyando_tu_empresa_en_esta_situacion  \\\n",
       "0                                                  7                    \n",
       "1                                                  8                    \n",
       "2                                                  8                    \n",
       "3                                                  4                    \n",
       "4                                                  6                    \n",
       "\n",
       "                     como_se_vio_afectada_tu_empresa  \\\n",
       "0                                       No la afectó   \n",
       "1                                       No la afectó   \n",
       "2                                 Se vio beneficiada   \n",
       "3  Cerró oficinas, Bajaron los sueldos o pagan pa...   \n",
       "4                Nos obligaron a tomarnos vacaciones   \n",
       "\n",
       "                   instauraron_algun_beneficio_nuevo  \n",
       "0                                                 No  \n",
       "1                                                 No  \n",
       "2  Clases de gimnasia, Clases de meditación, Clas...  \n",
       "3                                                 No  \n",
       "4                                                 No  "
      ]
     },
     "execution_count": 2,
     "metadata": {},
     "output_type": "execute_result"
    }
   ],
   "source": [
    "import pandas as pd\n",
    "import io\n",
    "import requests\n",
    "from time import sleep\n",
    "import matplotlib.pyplot as plt\n",
    "\n",
    "raw_dataframe = None\n",
    "source = requests.get(csv_url).content\n",
    "raw_dataframe = pd.read_csv(io.StringIO(source.decode(\"utf-8\")),\n",
    "                            skiprows=dataset_metadata[\"skiprows\"],\n",
    "                            thousands=\".\",\n",
    "                            decimal=\",\")\n",
    "\n",
    "import re\n",
    "\n",
    "regex_white_chars = re.compile(r\"\\s+\")\n",
    "regex_non_alphanum = re.compile(r\"\\W+_?\", re.I)\n",
    "\n",
    "raw_dataframe.columns = (raw_dataframe.columns.str.strip()\n",
    "                         .str.lower()\n",
    "                         .str.replace(regex_white_chars, \"_\")\n",
    "                         .str.replace(regex_non_alphanum, \"\")\n",
    "                         .str.translate(\"ñáéíóú\".maketrans({\"ñ\": \"n\", \"á\": \"a\", \"é\": \"e\", \"í\": \"i\", \"ó\": \"o\", \"ú\": \"u\"})))\n",
    "\n",
    "# Eliminamos los datos que no pertenezcan a Argentina\n",
    "raw_dataframe = raw_dataframe[raw_dataframe[\"estoy_trabajando_en\"] == \"Argentina\"]\n",
    "\n",
    "# Conservamos únicamente las columnas relacionadas con COVID-19\n",
    "columns_to_keep = [\"timestamp\",\n",
    "                   \"me_identifico\",\n",
    "                   \"donde_estas_trabajando\",\n",
    "                   \"trabajo_de\",\n",
    "                   \"tipo_de_contrato\",\n",
    "                   \"salario_mensual_bruto_en_tu_moneda_local\",\n",
    "                   \"como_venis_llevando_la_cuarentena\",\n",
    "                   \"tenes_hijosas_menores_de_edad\",\n",
    "                   \"con_cuantas_personas_estas_conviviendo\",\n",
    "                   \"con_quienes_convivis\",\n",
    "                   \"tenes_un_espacio_dedicado_para_el_trabajo\",\n",
    "                   \"tenes_que_compartir_tu_equipo_de_trabajo_con_alguien\",\n",
    "                   \"que_tipo_de_cuarentena_estas_haciendo\",\n",
    "                   \"cambio_tu_situacion_laboral_a_raiz_de_la_pandemia\",\n",
    "                   \"que_tanto_sentis_que_te_esta_apoyando_tu_empresa_en_esta_situacion\",\n",
    "                   \"como_se_vio_afectada_tu_empresa\",\n",
    "                   \"instauraron_algun_beneficio_nuevo\"]\n",
    "\n",
    "raw_dataframe = raw_dataframe[columns_to_keep]\n",
    "\n",
    "\n",
    "df = raw_dataframe.copy()\n",
    "df.head()"
   ]
  },
  {
   "cell_type": "markdown",
   "metadata": {},
   "source": [
    "### 1.3. Sanitizamos/normalizamos datos que encontramos mal formados o repetidos"
   ]
  },
  {
   "cell_type": "code",
   "execution_count": 3,
   "metadata": {},
   "outputs": [],
   "source": [
    "import re\n",
    "\n",
    "# Given a Dataframe (df), a column name that identifies the column to sanitize,\n",
    "# applies an in-place replacement for each pair regex-value in the map\n",
    "\n",
    "def normalize_dataframe_column(df_in, column_name, regex_assign_map):\n",
    "    df_out = df_in.copy()\n",
    "    for regex, value in regex_assign_map.items():\n",
    "        compiled_regex = re.compile(regex, re.I)\n",
    "        mask = df_in[column_name].str.strip().str.match(compiled_regex, na=False)\n",
    "        df_out.loc[mask, column_name] = value\n",
    "    # debug\n",
    "    #     total, final = len(df_in[column_name].unique()), len(df_out[column_name].unique())\n",
    "    #     display(\"reduced in {:02f}\".format((total - final) / total))\n",
    "    return df_out\n",
    "\n",
    "\n",
    "def normalize_dataframe_column_replace(df_in, column_name, regex_replace_map):\n",
    "    df_out = df_in.copy()\n",
    "    for regex, pattern in regex_replace_map.items():\n",
    "        compiled_regex = re.compile(regex, re.I)\n",
    "        df_out[column_name] = (df_out[column_name].str.strip().str.replace(compiled_regex, pattern))\n",
    "    # debug\n",
    "    #     total, final = len(df_in[column_name].unique()), len(df_out[column_name].unique())\n",
    "    #     display(\"reduced in {:02f}\".format((total - final) / total))\n",
    "    return df_out"
   ]
  },
  {
   "cell_type": "markdown",
   "metadata": {},
   "source": [
    "#### 1.3.1. Regiones"
   ]
  },
  {
   "cell_type": "code",
   "execution_count": 4,
   "metadata": {},
   "outputs": [],
   "source": [
    "df = normalize_dataframe_column(df, \"donde_estas_trabajando\", {\"(GBA|Provincia de Buenos Aires)\": \"Buenos Aires\"})"
   ]
  },
  {
   "cell_type": "markdown",
   "metadata": {},
   "source": [
    "#### 1.3.2. Roles"
   ]
  },
  {
   "cell_type": "code",
   "execution_count": 5,
   "metadata": {},
   "outputs": [
    {
     "data": {
      "text/plain": [
       "Developer                         2411\n",
       "SysAdmin / DevOps / SRE            689\n",
       "Technical Leader                   400\n",
       "QA / Tester                        254\n",
       "Manager / Director                 231\n",
       "HelpDesk                           198\n",
       "Project Manager                    193\n",
       "Architect                          175\n",
       "Data Scientist / Data Engineer     140\n",
       "Consultant                         139\n",
       "Name: trabajo_de, dtype: int64"
      ]
     },
     "execution_count": 5,
     "metadata": {},
     "output_type": "execute_result"
    }
   ],
   "source": [
    "df = normalize_dataframe_column_replace(df, \"trabajo_de\", \n",
    "                                        {\"Project Manager.*\": \"Project Manager\",\n",
    "                                         \"Director, Product Manager, Project Manager\": \"Manager / Director\",\n",
    "                                         \"Technical Leader.*\": \"Technical Leader\",\n",
    "                                         \"Team Leader.*\": \"Technical Leader\",\n",
    "                                         \"Full ?Stack Developer\": \"Developer\",\n",
    "                                         \"Seguridad Inform[aá]tica\": \"Infosec\",\n",
    "                                         \"(profesor|instructor|educador|docente|capacitador.*)\": \"Docente\",\n",
    "                                         \"^(Soporte T[ée]cnico|Technical support|Support)\": \"Technical Support\",\n",
    "                                         \"Software Engineer\": \"Developer\",\n",
    "                                         \"(Analista )?programador\": \"Developer\",\n",
    "                                         \"Analista Funcional\": \"Functional Analyst\",\n",
    "                                         \"Technical Functional Analyst\": \"Functional Analyst\",\n",
    "                                         \"administrativo\": \"Administrativo\",\n",
    "                                         \"^cto.*\": \"CTO\",\n",
    "                                         \"Asistant\": \"Assistant\",\n",
    "                                         \"helpdesk\": \"HelpDesk\",\n",
    "                                         \"(Analista de seguridad|Security.*)\": \"Infosec\",\n",
    "                                         \"BI Leader\": \"BI Analyst / Data Analyst\"})\n",
    "\n",
    "df_roles = df[\"trabajo_de\"].value_counts(sort=True)\n",
    "df_roles.head(10)"
   ]
  },
  {
   "cell_type": "markdown",
   "metadata": {},
   "source": [
    "### 1.4. Eliminamos outliers"
   ]
  },
  {
   "cell_type": "code",
   "execution_count": 6,
   "metadata": {},
   "outputs": [],
   "source": [
    "def remove_outlier(df_in, col_name, iqr_factor=1.5):\n",
    "#   IQR outliers removal (https://machinelearningmastery.com/how-to-use-statistics-to-identify-outliers-in-data/)\n",
    "#   accept a dataframe, remove outliers, return cleaned data in a new dataframe\n",
    "#   see http://www.itl.nist.gov/div898/handbook/prc/section1/prc16.htm\n",
    "        \n",
    "    q1 = df_in[col_name].quantile(0.25)\n",
    "    q3 = df_in[col_name].quantile(0.75)\n",
    "    iqr = q3 - q1  # interquartile range\n",
    "    fence_low = q1 - iqr_factor * iqr\n",
    "    fence_high = q3 + iqr_factor * iqr\n",
    "    \n",
    "    df_inliers = df_in.loc[(df_in[col_name] > fence_low) & (df_in[col_name] < fence_high)]\n",
    "    df_outliers = df_in.loc[(df_in[col_name] < fence_low) | (df_in[col_name] > fence_high)]\n",
    "    \n",
    "    return df_inliers, df_outliers"
   ]
  },
  {
   "cell_type": "code",
   "execution_count": 7,
   "metadata": {},
   "outputs": [
    {
     "data": {
      "text/plain": [
       "0.9652173913043478"
      ]
     },
     "metadata": {},
     "output_type": "display_data"
    }
   ],
   "source": [
    "df_inliers, df_outliers = remove_outlier(df, \"salario_mensual_bruto_en_tu_moneda_local\", 3.5)\n",
    "\n",
    "# inliers percent over total\n",
    "display(len(df_inliers) / len(df))"
   ]
  },
  {
   "cell_type": "code",
   "execution_count": 8,
   "metadata": {},
   "outputs": [],
   "source": [
    "minimum_salary = dataset_metadata[\"minimum_salary\"]\n",
    "\n",
    "df_outliers_lower_limit = df_inliers.query(\"salario_mensual_bruto_en_tu_moneda_local < @minimum_salary/2.0\")\n",
    "df_inliers_lower_limit = df_inliers.query(\"salario_mensual_bruto_en_tu_moneda_local >= @minimum_salary/2.0\")\n",
    "df = df_inliers_lower_limit"
   ]
  },
  {
   "cell_type": "markdown",
   "metadata": {},
   "source": [
    "## 2. Análisis de resultados"
   ]
  },
  {
   "cell_type": "markdown",
   "metadata": {},
   "source": [
    "#### Los resultados del análisis exploratorio se exportan en un JSON denominado 'charts'"
   ]
  },
  {
   "cell_type": "code",
   "execution_count": 76,
   "metadata": {},
   "outputs": [],
   "source": [
    "charts = {\n",
    "    \"total_surveyed\": len(raw_dataframe),\n",
    "    \"total_analyzed_surveyed\": len(df),\n",
    "}\n",
    "\n",
    "def to_rechart(df, max=0):\n",
    "  # if max is set, groups the exceeded rows into 'Otros' column, summing values\n",
    "    if max != 0:\n",
    "        # df = df.sort_values(by, ascending=False)\n",
    "        others = df[max:].sum()\n",
    "        df = df[:max]\n",
    "        df.loc[\"Otros\"] = others\n",
    "    return {\n",
    "        \"data\": [\n",
    "            {\"name\": str(name), **(data if isinstance(data, dict) else {\"value\": data})}\n",
    "            for name, data in df.T.to_dict().items()\n",
    "        ],\n",
    "    }"
   ]
  },
  {
   "cell_type": "markdown",
   "metadata": {},
   "source": [
    "### 2.1. Situación personal"
   ]
  },
  {
   "cell_type": "markdown",
   "metadata": {},
   "source": [
    "#### 2.1.1. ¿Cómo venís llevando la cuarentena?"
   ]
  },
  {
   "cell_type": "code",
   "execution_count": 77,
   "metadata": {},
   "outputs": [
    {
     "data": {
      "image/png": "[encoded data removed]",
      "text/plain": [
       "<Figure size 432x288 with 1 Axes>"
      ]
     },
     "metadata": {
      "needs_background": "light"
     },
     "output_type": "display_data"
    }
   ],
   "source": [
    "############### TODO: ordenar labels ##########################\n",
    "\n",
    "labels = {\"1\":\"Bastante mal\", \"2\":\"Mal\", \"3\":\"Bien\", \"4\":\"Muy bien\"}\n",
    "\n",
    "aux = df.copy()\n",
    "aux[\"como_venis_llevando_la_cuarentena\"] = aux[\"como_venis_llevando_la_cuarentena\"].apply(str)\n",
    "\n",
    "aux = normalize_dataframe_column_replace(aux, \"como_venis_llevando_la_cuarentena\", labels)\n",
    "gph = aux[\"como_venis_llevando_la_cuarentena\"].value_counts(normalize=True)\n",
    "gph.plot.barh();\n",
    "\n",
    "charts[\"como_venis_llevando\"] = to_rechart(gph)"
   ]
  },
  {
   "cell_type": "code",
   "execution_count": 78,
   "metadata": {},
   "outputs": [
    {
     "data": {
      "text/plain": [
       "{'total_surveyed': 6095,\n",
       " 'total_analyzed_surveyed': 5715,\n",
       " 'como_venis_llevando': {'data': [{'name': 'Bien',\n",
       "    'value': 0.46491688538932635},\n",
       "   {'name': 'Muy bien', 'value': 0.30743657042869643},\n",
       "   {'name': 'Mal', 'value': 0.18337707786526683},\n",
       "   {'name': 'Bastante mal', 'value': 0.04426946631671041}]}}"
      ]
     },
     "execution_count": 78,
     "metadata": {},
     "output_type": "execute_result"
    }
   ],
   "source": [
    "charts"
   ]
  },
  {
   "cell_type": "markdown",
   "metadata": {},
   "source": [
    "#### 2.1.2. ¿Qué tipo de cuarentena estás haciendo?"
   ]
  },
  {
   "cell_type": "code",
   "execution_count": 73,
   "metadata": {},
   "outputs": [
    {
     "data": {
      "image/png": "[encoded data removed]",
      "text/plain": [
       "<Figure size 432x288 with 1 Axes>"
      ]
     },
     "metadata": {
      "needs_background": "light"
     },
     "output_type": "display_data"
    }
   ],
   "source": [
    "labels = {\"1\":\"Nada estricta\", \"2\":\"Poco estricta\", \"3\":\"Estricta\", \"4\":\"Muy estricta\"}\n",
    "\n",
    "aux = df.copy()\n",
    "aux[\"que_tipo_de_cuarentena_estas_haciendo\"] = aux[\"que_tipo_de_cuarentena_estas_haciendo\"].apply(str)\n",
    "\n",
    "aux = normalize_dataframe_column_replace(aux, \"que_tipo_de_cuarentena_estas_haciendo\", labels)\n",
    "gph = aux[\"que_tipo_de_cuarentena_estas_haciendo\"].value_counts(normalize=True)\n",
    "gph.plot.barh();"
   ]
  },
  {
   "cell_type": "markdown",
   "metadata": {},
   "source": [
    "### 2.2. Situación habitacional"
   ]
  },
  {
   "cell_type": "markdown",
   "metadata": {},
   "source": [
    "#### 2.2.1. ¿Con cuántas personas convivís?"
   ]
  },
  {
   "cell_type": "markdown",
   "metadata": {},
   "source": [
    "#### 2.2.2. ¿Con quiénes estás conviviendo?"
   ]
  },
  {
   "cell_type": "markdown",
   "metadata": {},
   "source": [
    "#### 2.2.3. ¿Tenés hijos/as menores de edad?"
   ]
  },
  {
   "cell_type": "markdown",
   "metadata": {},
   "source": [
    "#### 2.2.4. ¿Tenés un espacio dedidcado para el trabajo?"
   ]
  },
  {
   "cell_type": "markdown",
   "metadata": {},
   "source": [
    "#### 2.2.5. ¿Tenés que compartir tu equipo de trabajo con alguien?"
   ]
  },
  {
   "cell_type": "markdown",
   "metadata": {},
   "source": [
    "### 2.3. Situación laboral"
   ]
  },
  {
   "cell_type": "markdown",
   "metadata": {},
   "source": [
    "#### 2.3.1. ¿Cambió tu situación laboral a raíz de la pandemia?"
   ]
  },
  {
   "cell_type": "markdown",
   "metadata": {},
   "source": [
    "#### 2.3.2. ¿Qué tanto sentís que te está apoyando tu empresa en esta situación?"
   ]
  },
  {
   "cell_type": "markdown",
   "metadata": {},
   "source": [
    "#### 2.3.3. ¿Cómo se vio afectada tu empresa?"
   ]
  },
  {
   "cell_type": "markdown",
   "metadata": {},
   "source": [
    "#### 2.3.4. ¿Instauraron algún beneficio nuevo?"
   ]
  }
 ],
 "metadata": {
  "kernelspec": {
   "display_name": "Python 3",
   "language": "python",
   "name": "python3"
  },
  "language_info": {
   "codemirror_mode": {
    "name": "ipython",
    "version": 3
   },
   "file_extension": ".py",
   "mimetype": "text/x-python",
   "name": "python",
   "nbconvert_exporter": "python",
   "pygments_lexer": "ipython3",
   "version": "3.8.5"
  }
 },
 "nbformat": 4,
 "nbformat_minor": 4
}
