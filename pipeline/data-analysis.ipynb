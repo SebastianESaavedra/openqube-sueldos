{
 "cells": [
  {
   "cell_type": "markdown",
   "metadata": {
    "colab_type": "text",
    "id": "t5mCfGSsujOd"
   },
   "source": [
    "# SysArmy - Análisis de encuesta 2020.02"
   ]
  },
  {
   "cell_type": "markdown",
   "metadata": {
    "colab_type": "text",
    "id": "zC8Ka2f0vDIF"
   },
   "source": [
    "## 1. Carga y sanitización de datos"
   ]
  },
  {
   "cell_type": "markdown",
   "metadata": {
    "colab_type": "text",
    "id": "Dqs6ictGuPF8"
   },
   "source": [
    "###  1.1. Definimos los metadatos asociados al dataset que vamos a analizar"
   ]
  },
  {
   "cell_type": "code",
   "execution_count": 1,
   "metadata": {
    "colab": {},
    "colab_type": "code",
    "id": "gjcnLRV1Jlz3"
   },
   "outputs": [
    {
     "data": {
      "application/javascript": [
       "\n",
       "            setTimeout(function() {\n",
       "                var nbb_cell_id = 1;\n",
       "                var nbb_unformatted_code = \"%load_ext nb_black\\n\\ncsv_url = \\\"https://raw.githubusercontent.com/openqube/openqube-sueldos/release/2021.01/data/csv/argentina/2021.01.csv\\\"\\n\\ndataset_metadata = {\\n    \\\"year\\\": 2021,\\n    \\\"part\\\": 1,\\n    \\\"skiprows\\\": 0,\\n    \\\"publish_date\\\": \\\"2021-02-01\\\",\\n    \\\"minimum_salary\\\": 20587,  # https://es.wikipedia.org/wiki/Anexo:Salario_m%C3%ADnimo_en_Argentina\\n}\";\n",
       "                var nbb_formatted_code = \"%load_ext nb_black\\n\\ncsv_url = \\\"https://raw.githubusercontent.com/openqube/openqube-sueldos/release/2021.01/data/csv/argentina/2021.01.csv\\\"\\n\\ndataset_metadata = {\\n    \\\"year\\\": 2021,\\n    \\\"part\\\": 1,\\n    \\\"skiprows\\\": 0,\\n    \\\"publish_date\\\": \\\"2021-02-01\\\",\\n    \\\"minimum_salary\\\": 20587,  # https://es.wikipedia.org/wiki/Anexo:Salario_m%C3%ADnimo_en_Argentina\\n}\";\n",
       "                var nbb_cells = Jupyter.notebook.get_cells();\n",
       "                for (var i = 0; i < nbb_cells.length; ++i) {\n",
       "                    if (nbb_cells[i].input_prompt_number == nbb_cell_id) {\n",
       "                        if (nbb_cells[i].get_text() == nbb_unformatted_code) {\n",
       "                             nbb_cells[i].set_text(nbb_formatted_code);\n",
       "                        }\n",
       "                        break;\n",
       "                    }\n",
       "                }\n",
       "            }, 500);\n",
       "            "
      ],
      "text/plain": [
       "<IPython.core.display.Javascript object>"
      ]
     },
     "metadata": {},
     "output_type": "display_data"
    }
   ],
   "source": [
    "%load_ext nb_black\n",
    "\n",
    "csv_url = \"https://raw.githubusercontent.com/openqube/openqube-sueldos/release/2021.01/data/csv/argentina/2021.01.csv\"\n",
    "\n",
    "dataset_metadata = {\n",
    "    \"year\": 2021,\n",
    "    \"part\": 1,\n",
    "    \"skiprows\": 0,\n",
    "    \"publish_date\": \"2021-02-01\",\n",
    "    \"minimum_salary\": 20587,  # https://es.wikipedia.org/wiki/Anexo:Salario_m%C3%ADnimo_en_Argentina\n",
    "}"
   ]
  },
  {
   "cell_type": "markdown",
   "metadata": {
    "colab_type": "text",
    "id": "EWIhz3-XvVGe"
   },
   "source": [
    "### 1.2. En base a los metadatos, cargamos el CSV, limpiamos columnas y las transformamos"
   ]
  },
  {
   "cell_type": "code",
   "execution_count": 2,
   "metadata": {
    "colab": {
     "base_uri": "https://localhost:8080/",
     "height": 901
    },
    "colab_type": "code",
    "id": "LlLu_UgKXqpk",
    "outputId": "833540d6-4387-456f-e80f-c39c5511b30d"
   },
   "outputs": [
    {
     "data": {
      "text/plain": [
       "['timestamp',\n",
       " 'estoy_trabajando_en',\n",
       " 'donde_estas_trabajando',\n",
       " 'tipo_de_contrato',\n",
       " 'salario_mensual_o_retiro_bruto_en_tu_moneda_local',\n",
       " 'salario_mensual_o_retiro_neto_en_tu_moneda_local',\n",
       " 'pagos_en_dolares',\n",
       " 'cual_fue_el_ultimo_valor_de_dolar_que_tomaron',\n",
       " 'que_tan_conforme_estas_con_tu_sueldo',\n",
       " 'como_crees_que_esta_tu_sueldo_con_respecto_al_ultimo_semestre',\n",
       " 'recibis_algun_tipo_de_bono',\n",
       " 'a_que_esta_atado_el_bono',\n",
       " 'tuviste_ajustes_por_inflacion_durante_2020',\n",
       " 'de_que_fue_el_ajuste_total',\n",
       " 'en_que_mes_fue_el_ultimo_ajuste',\n",
       " 'trabajo_de',\n",
       " 'anos_de_experiencia',\n",
       " 'anos_en_la_empresa_actual',\n",
       " 'anos_en_el_puesto_actual',\n",
       " 'gente_a_cargo',\n",
       " 'plataformas',\n",
       " 'lenguajes_de_programacion_o_tecnologias',\n",
       " 'frameworksherramientas_y_librerias',\n",
       " 'bases_de_datos',\n",
       " 'qa_testing',\n",
       " 'ides',\n",
       " 'cantidad_de_personas_en_tu_organizacion',\n",
       " 'actividad_principal',\n",
       " 'la_recomendas_como_un_buen_lugar_para_trabajar',\n",
       " 'como_calificas_las_politicas_de_diversidad_e_inclusion',\n",
       " 'beneficios_extra',\n",
       " 'salir_o_seguir_contestando',\n",
       " 'nivel_de_estudios_alcanzado',\n",
       " 'estado',\n",
       " 'carrera',\n",
       " 'universidad',\n",
       " 'realizaste_cursos_de_especializacion',\n",
       " 'contribuis_a_proyectos_open_source',\n",
       " 'programas_como_hobbie',\n",
       " 'salir_o_seguir_contestando1',\n",
       " 'tenes_guardias',\n",
       " 'cuanto_cobras_por_guardia',\n",
       " 'porcentajebruto_o_neto',\n",
       " 'salir_o_seguir_contestando2',\n",
       " 'sufriste_o_presenciaste_situaciones_de_violencia_laboral',\n",
       " 'identidad_sexual',\n",
       " 'tenes_algun_tipo_de_discapacidad',\n",
       " 'sentis_que_esto_te_dificulto_el_conseguir_trabajo',\n",
       " 'salir_o_seguir_contestando3',\n",
       " 'como_venis_llevando_la_cuarentena',\n",
       " 'tenes_hijosas_menores_de_edad',\n",
       " 'con_cuantas_personas_estas_conviviendo',\n",
       " 'con_quienes_convivis',\n",
       " 'tenes_un_espacio_dedicado_para_el_trabajo',\n",
       " 'tenes_que_compartir_tu_equipo_de_trabajo_con_alguien',\n",
       " 'que_tipo_de_cuarentena_hiciste_estas_haciendo',\n",
       " 'cambio_tu_situacion_laboral_a_raiz_de_la_pandemia',\n",
       " 'que_tanto_sentis_que_te_esta_apoyando_tu_empresaorganizacion_en_esta_situacion',\n",
       " 'como_se_vio_afectada_tu_empresaorganizacion',\n",
       " 'instauraron_algun_beneficio_nuevo',\n",
       " 'tengo',\n",
       " 'me_identifico']"
      ]
     },
     "metadata": {},
     "output_type": "display_data"
    },
    {
     "data": {
      "application/javascript": [
       "\n",
       "            setTimeout(function() {\n",
       "                var nbb_cell_id = 2;\n",
       "                var nbb_unformatted_code = \"import pandas as pd\\nimport io\\nimport requests\\nfrom time import sleep\\nimport matplotlib.pyplot as plt\\n\\nraw_dataframe = None\\nsource = requests.get(\\n    csv_url.format(dataset_metadata[\\\"year\\\"], dataset_metadata[\\\"part\\\"])\\n).content\\nraw_dataframe = pd.read_csv(\\n    io.StringIO(source.decode(\\\"utf-8\\\")),\\n    skiprows=dataset_metadata[\\\"skiprows\\\"],\\n    thousands=\\\".\\\",\\n    decimal=\\\",\\\",\\n)\\n\\nimport re\\n\\nregex_white_chars = re.compile(r\\\"\\\\s+\\\")\\nregex_non_alphanum = re.compile(r\\\"\\\\W+_?\\\", re.I)\\n\\nraw_dataframe.columns = (\\n    raw_dataframe.columns.str.strip()\\n    .str.lower()\\n    .str.replace(regex_white_chars, \\\"_\\\")\\n    .str.replace(regex_non_alphanum, \\\"\\\")\\n    .str.translate(\\n        \\\"\\u00f1\\u00e1\\u00e9\\u00ed\\u00f3\\u00fa\\\".maketrans({\\\"\\u00f1\\\": \\\"n\\\", \\\"\\u00e1\\\": \\\"a\\\", \\\"\\u00e9\\\": \\\"e\\\", \\\"\\u00ed\\\": \\\"i\\\", \\\"\\u00f3\\\": \\\"o\\\", \\\"\\u00fa\\\": \\\"u\\\"})\\n    )\\n)\\n\\n# Eliminamos los datos que no pertenezcan a Argentina\\nraw_dataframe = raw_dataframe[raw_dataframe[\\\"estoy_trabajando_en\\\"] == \\\"Argentina\\\"]\\n\\ndataframe = raw_dataframe.copy()\\n\\ndisplay([column for column in dataframe.columns])\";\n",
       "                var nbb_formatted_code = \"import pandas as pd\\nimport io\\nimport requests\\nfrom time import sleep\\nimport matplotlib.pyplot as plt\\n\\nraw_dataframe = None\\nsource = requests.get(\\n    csv_url.format(dataset_metadata[\\\"year\\\"], dataset_metadata[\\\"part\\\"])\\n).content\\nraw_dataframe = pd.read_csv(\\n    io.StringIO(source.decode(\\\"utf-8\\\")),\\n    skiprows=dataset_metadata[\\\"skiprows\\\"],\\n    thousands=\\\".\\\",\\n    decimal=\\\",\\\",\\n)\\n\\nimport re\\n\\nregex_white_chars = re.compile(r\\\"\\\\s+\\\")\\nregex_non_alphanum = re.compile(r\\\"\\\\W+_?\\\", re.I)\\n\\nraw_dataframe.columns = (\\n    raw_dataframe.columns.str.strip()\\n    .str.lower()\\n    .str.replace(regex_white_chars, \\\"_\\\")\\n    .str.replace(regex_non_alphanum, \\\"\\\")\\n    .str.translate(\\n        \\\"\\u00f1\\u00e1\\u00e9\\u00ed\\u00f3\\u00fa\\\".maketrans({\\\"\\u00f1\\\": \\\"n\\\", \\\"\\u00e1\\\": \\\"a\\\", \\\"\\u00e9\\\": \\\"e\\\", \\\"\\u00ed\\\": \\\"i\\\", \\\"\\u00f3\\\": \\\"o\\\", \\\"\\u00fa\\\": \\\"u\\\"})\\n    )\\n)\\n\\n# Eliminamos los datos que no pertenezcan a Argentina\\nraw_dataframe = raw_dataframe[raw_dataframe[\\\"estoy_trabajando_en\\\"] == \\\"Argentina\\\"]\\n\\ndataframe = raw_dataframe.copy()\\n\\ndisplay([column for column in dataframe.columns])\";\n",
       "                var nbb_cells = Jupyter.notebook.get_cells();\n",
       "                for (var i = 0; i < nbb_cells.length; ++i) {\n",
       "                    if (nbb_cells[i].input_prompt_number == nbb_cell_id) {\n",
       "                        if (nbb_cells[i].get_text() == nbb_unformatted_code) {\n",
       "                             nbb_cells[i].set_text(nbb_formatted_code);\n",
       "                        }\n",
       "                        break;\n",
       "                    }\n",
       "                }\n",
       "            }, 500);\n",
       "            "
      ],
      "text/plain": [
       "<IPython.core.display.Javascript object>"
      ]
     },
     "metadata": {},
     "output_type": "display_data"
    }
   ],
   "source": [
    "import pandas as pd\n",
    "import io\n",
    "import requests\n",
    "from time import sleep\n",
    "import matplotlib.pyplot as plt\n",
    "\n",
    "raw_dataframe = None\n",
    "source = requests.get(\n",
    "    csv_url.format(dataset_metadata[\"year\"], dataset_metadata[\"part\"])\n",
    ").content\n",
    "raw_dataframe = pd.read_csv(\n",
    "    io.StringIO(source.decode(\"utf-8\")),\n",
    "    skiprows=dataset_metadata[\"skiprows\"],\n",
    "    thousands=\".\",\n",
    "    decimal=\",\",\n",
    ")\n",
    "\n",
    "import re\n",
    "\n",
    "regex_white_chars = re.compile(r\"\\s+\")\n",
    "regex_non_alphanum = re.compile(r\"\\W+_?\", re.I)\n",
    "\n",
    "raw_dataframe.columns = (\n",
    "    raw_dataframe.columns.str.strip()\n",
    "    .str.lower()\n",
    "    .str.replace(regex_white_chars, \"_\")\n",
    "    .str.replace(regex_non_alphanum, \"\")\n",
    "    .str.translate(\n",
    "        \"ñáéíóú\".maketrans({\"ñ\": \"n\", \"á\": \"a\", \"é\": \"e\", \"í\": \"i\", \"ó\": \"o\", \"ú\": \"u\"})\n",
    "    )\n",
    ")\n",
    "\n",
    "# Eliminamos los datos que no pertenezcan a Argentina\n",
    "raw_dataframe = raw_dataframe[raw_dataframe[\"estoy_trabajando_en\"] == \"Argentina\"]\n",
    "\n",
    "dataframe = raw_dataframe.copy()\n",
    "\n",
    "display([column for column in dataframe.columns])"
   ]
  },
  {
   "cell_type": "markdown",
   "metadata": {
    "colab_type": "text",
    "id": "moB4RnD0d8U8"
   },
   "source": [
    "### 1.3. Echamos un vistazo al dataframe previo a sanitizarlo"
   ]
  },
  {
   "cell_type": "code",
   "execution_count": 3,
   "metadata": {
    "colab": {
     "base_uri": "https://localhost:8080/",
     "height": 1000
    },
    "colab_type": "code",
    "id": "6Y42obeDePqR",
    "outputId": "6631028a-6629-45d3-991c-d2992ddcc2fd"
   },
   "outputs": [
    {
     "data": {
      "text/html": [
       "<div>\n",
       "<style scoped>\n",
       "    .dataframe tbody tr th:only-of-type {\n",
       "        vertical-align: middle;\n",
       "    }\n",
       "\n",
       "    .dataframe tbody tr th {\n",
       "        vertical-align: top;\n",
       "    }\n",
       "\n",
       "    .dataframe thead th {\n",
       "        text-align: right;\n",
       "    }\n",
       "</style>\n",
       "<table border=\"1\" class=\"dataframe\">\n",
       "  <thead>\n",
       "    <tr style=\"text-align: right;\">\n",
       "      <th></th>\n",
       "      <th>0</th>\n",
       "      <th>1</th>\n",
       "      <th>2</th>\n",
       "      <th>3</th>\n",
       "      <th>4</th>\n",
       "      <th>5</th>\n",
       "      <th>6</th>\n",
       "      <th>7</th>\n",
       "      <th>8</th>\n",
       "      <th>9</th>\n",
       "      <th>...</th>\n",
       "      <th>814</th>\n",
       "      <th>815</th>\n",
       "      <th>816</th>\n",
       "      <th>817</th>\n",
       "      <th>818</th>\n",
       "      <th>819</th>\n",
       "      <th>820</th>\n",
       "      <th>821</th>\n",
       "      <th>822</th>\n",
       "      <th>823</th>\n",
       "    </tr>\n",
       "  </thead>\n",
       "  <tbody>\n",
       "    <tr>\n",
       "      <th>timestamp</th>\n",
       "      <td>12/9/2020 11:56:36</td>\n",
       "      <td>12/9/2020 11:59:46</td>\n",
       "      <td>12/9/2020 12:02:52</td>\n",
       "      <td>12/9/2020 12:03:19</td>\n",
       "      <td>12/9/2020 12:04:07</td>\n",
       "      <td>12/9/2020 12:05:35</td>\n",
       "      <td>12/9/2020 12:06:13</td>\n",
       "      <td>12/9/2020 12:08:56</td>\n",
       "      <td>12/9/2020 12:09:42</td>\n",
       "      <td>12/9/2020 12:10:59</td>\n",
       "      <td>...</td>\n",
       "      <td>12/19/2020 19:16:23</td>\n",
       "      <td>12/19/2020 19:42:55</td>\n",
       "      <td>12/19/2020 20:36:02</td>\n",
       "      <td>12/19/2020 23:04:16</td>\n",
       "      <td>12/19/2020 23:06:40</td>\n",
       "      <td>12/20/2020 0:54:43</td>\n",
       "      <td>12/20/2020 2:05:50</td>\n",
       "      <td>12/20/2020 12:40:31</td>\n",
       "      <td>12/20/2020 17:55:05</td>\n",
       "      <td>12/20/2020 19:49:09</td>\n",
       "    </tr>\n",
       "    <tr>\n",
       "      <th>estoy_trabajando_en</th>\n",
       "      <td>Argentina</td>\n",
       "      <td>Argentina</td>\n",
       "      <td>Argentina</td>\n",
       "      <td>Argentina</td>\n",
       "      <td>Argentina</td>\n",
       "      <td>Argentina</td>\n",
       "      <td>Argentina</td>\n",
       "      <td>Argentina</td>\n",
       "      <td>Argentina</td>\n",
       "      <td>Argentina</td>\n",
       "      <td>...</td>\n",
       "      <td>Argentina</td>\n",
       "      <td>Argentina</td>\n",
       "      <td>Argentina</td>\n",
       "      <td>Argentina</td>\n",
       "      <td>Argentina</td>\n",
       "      <td>Argentina</td>\n",
       "      <td>Argentina</td>\n",
       "      <td>Argentina</td>\n",
       "      <td>Argentina</td>\n",
       "      <td>Argentina</td>\n",
       "    </tr>\n",
       "    <tr>\n",
       "      <th>donde_estas_trabajando</th>\n",
       "      <td>Córdoba</td>\n",
       "      <td>Córdoba</td>\n",
       "      <td>Ciudad Autónoma de Buenos Aires</td>\n",
       "      <td>Ciudad Autónoma de Buenos Aires</td>\n",
       "      <td>Ciudad Autónoma de Buenos Aires</td>\n",
       "      <td>Ciudad Autónoma de Buenos Aires</td>\n",
       "      <td>Ciudad Autónoma de Buenos Aires</td>\n",
       "      <td>Mendoza</td>\n",
       "      <td>Santa Fe</td>\n",
       "      <td>Ciudad Autónoma de Buenos Aires</td>\n",
       "      <td>...</td>\n",
       "      <td>San Juan</td>\n",
       "      <td>Ciudad Autónoma de Buenos Aires</td>\n",
       "      <td>GBA</td>\n",
       "      <td>Santa Fe</td>\n",
       "      <td>GBA</td>\n",
       "      <td>Santa Fe</td>\n",
       "      <td>Córdoba</td>\n",
       "      <td>Santa Fe</td>\n",
       "      <td>Ciudad Autónoma de Buenos Aires</td>\n",
       "      <td>Salta</td>\n",
       "    </tr>\n",
       "    <tr>\n",
       "      <th>tipo_de_contrato</th>\n",
       "      <td>Full-Time</td>\n",
       "      <td>Remoto (empresa de otro país)</td>\n",
       "      <td>Full-Time</td>\n",
       "      <td>Full-Time</td>\n",
       "      <td>Full-Time</td>\n",
       "      <td>Full-Time</td>\n",
       "      <td>Full-Time</td>\n",
       "      <td>Full-Time</td>\n",
       "      <td>Full-Time</td>\n",
       "      <td>Full-Time</td>\n",
       "      <td>...</td>\n",
       "      <td>Full-Time</td>\n",
       "      <td>Full-Time</td>\n",
       "      <td>Full-Time</td>\n",
       "      <td>Full-Time</td>\n",
       "      <td>Full-Time</td>\n",
       "      <td>Full-Time</td>\n",
       "      <td>Full-Time</td>\n",
       "      <td>Full-Time</td>\n",
       "      <td>Full-Time</td>\n",
       "      <td>Full-Time</td>\n",
       "    </tr>\n",
       "    <tr>\n",
       "      <th>salario_mensual_o_retiro_bruto_en_tu_moneda_local</th>\n",
       "      <td>115000</td>\n",
       "      <td>512000</td>\n",
       "      <td>148000</td>\n",
       "      <td>115620</td>\n",
       "      <td>47300</td>\n",
       "      <td>100000</td>\n",
       "      <td>214600</td>\n",
       "      <td>45000</td>\n",
       "      <td>150000</td>\n",
       "      <td>272000</td>\n",
       "      <td>...</td>\n",
       "      <td>100000</td>\n",
       "      <td>160000</td>\n",
       "      <td>300000</td>\n",
       "      <td>145000</td>\n",
       "      <td>Outlier</td>\n",
       "      <td>80000</td>\n",
       "      <td>50000</td>\n",
       "      <td>165000</td>\n",
       "      <td>90000</td>\n",
       "      <td>44000</td>\n",
       "    </tr>\n",
       "  </tbody>\n",
       "</table>\n",
       "<p>5 rows × 824 columns</p>\n",
       "</div>"
      ],
      "text/plain": [
       "                                                                  0    \\\n",
       "timestamp                                          12/9/2020 11:56:36   \n",
       "estoy_trabajando_en                                         Argentina   \n",
       "donde_estas_trabajando                                        Córdoba   \n",
       "tipo_de_contrato                                            Full-Time   \n",
       "salario_mensual_o_retiro_bruto_en_tu_moneda_local              115000   \n",
       "\n",
       "                                                                             1    \\\n",
       "timestamp                                                     12/9/2020 11:59:46   \n",
       "estoy_trabajando_en                                                    Argentina   \n",
       "donde_estas_trabajando                                                   Córdoba   \n",
       "tipo_de_contrato                                   Remoto (empresa de otro país)   \n",
       "salario_mensual_o_retiro_bruto_en_tu_moneda_local                         512000   \n",
       "\n",
       "                                                                               2    \\\n",
       "timestamp                                                       12/9/2020 12:02:52   \n",
       "estoy_trabajando_en                                                      Argentina   \n",
       "donde_estas_trabajando                             Ciudad Autónoma de Buenos Aires   \n",
       "tipo_de_contrato                                                         Full-Time   \n",
       "salario_mensual_o_retiro_bruto_en_tu_moneda_local                           148000   \n",
       "\n",
       "                                                                               3    \\\n",
       "timestamp                                                       12/9/2020 12:03:19   \n",
       "estoy_trabajando_en                                                      Argentina   \n",
       "donde_estas_trabajando                             Ciudad Autónoma de Buenos Aires   \n",
       "tipo_de_contrato                                                         Full-Time   \n",
       "salario_mensual_o_retiro_bruto_en_tu_moneda_local                           115620   \n",
       "\n",
       "                                                                               4    \\\n",
       "timestamp                                                       12/9/2020 12:04:07   \n",
       "estoy_trabajando_en                                                      Argentina   \n",
       "donde_estas_trabajando                             Ciudad Autónoma de Buenos Aires   \n",
       "tipo_de_contrato                                                         Full-Time   \n",
       "salario_mensual_o_retiro_bruto_en_tu_moneda_local                            47300   \n",
       "\n",
       "                                                                               5    \\\n",
       "timestamp                                                       12/9/2020 12:05:35   \n",
       "estoy_trabajando_en                                                      Argentina   \n",
       "donde_estas_trabajando                             Ciudad Autónoma de Buenos Aires   \n",
       "tipo_de_contrato                                                         Full-Time   \n",
       "salario_mensual_o_retiro_bruto_en_tu_moneda_local                           100000   \n",
       "\n",
       "                                                                               6    \\\n",
       "timestamp                                                       12/9/2020 12:06:13   \n",
       "estoy_trabajando_en                                                      Argentina   \n",
       "donde_estas_trabajando                             Ciudad Autónoma de Buenos Aires   \n",
       "tipo_de_contrato                                                         Full-Time   \n",
       "salario_mensual_o_retiro_bruto_en_tu_moneda_local                           214600   \n",
       "\n",
       "                                                                  7    \\\n",
       "timestamp                                          12/9/2020 12:08:56   \n",
       "estoy_trabajando_en                                         Argentina   \n",
       "donde_estas_trabajando                                        Mendoza   \n",
       "tipo_de_contrato                                            Full-Time   \n",
       "salario_mensual_o_retiro_bruto_en_tu_moneda_local               45000   \n",
       "\n",
       "                                                                  8    \\\n",
       "timestamp                                          12/9/2020 12:09:42   \n",
       "estoy_trabajando_en                                         Argentina   \n",
       "donde_estas_trabajando                                       Santa Fe   \n",
       "tipo_de_contrato                                            Full-Time   \n",
       "salario_mensual_o_retiro_bruto_en_tu_moneda_local              150000   \n",
       "\n",
       "                                                                               9    \\\n",
       "timestamp                                                       12/9/2020 12:10:59   \n",
       "estoy_trabajando_en                                                      Argentina   \n",
       "donde_estas_trabajando                             Ciudad Autónoma de Buenos Aires   \n",
       "tipo_de_contrato                                                         Full-Time   \n",
       "salario_mensual_o_retiro_bruto_en_tu_moneda_local                           272000   \n",
       "\n",
       "                                                   ...                  814  \\\n",
       "timestamp                                          ...  12/19/2020 19:16:23   \n",
       "estoy_trabajando_en                                ...            Argentina   \n",
       "donde_estas_trabajando                             ...             San Juan   \n",
       "tipo_de_contrato                                   ...            Full-Time   \n",
       "salario_mensual_o_retiro_bruto_en_tu_moneda_local  ...               100000   \n",
       "\n",
       "                                                                               815  \\\n",
       "timestamp                                                      12/19/2020 19:42:55   \n",
       "estoy_trabajando_en                                                      Argentina   \n",
       "donde_estas_trabajando                             Ciudad Autónoma de Buenos Aires   \n",
       "tipo_de_contrato                                                         Full-Time   \n",
       "salario_mensual_o_retiro_bruto_en_tu_moneda_local                           160000   \n",
       "\n",
       "                                                                   816  \\\n",
       "timestamp                                          12/19/2020 20:36:02   \n",
       "estoy_trabajando_en                                          Argentina   \n",
       "donde_estas_trabajando                                             GBA   \n",
       "tipo_de_contrato                                             Full-Time   \n",
       "salario_mensual_o_retiro_bruto_en_tu_moneda_local               300000   \n",
       "\n",
       "                                                                   817  \\\n",
       "timestamp                                          12/19/2020 23:04:16   \n",
       "estoy_trabajando_en                                          Argentina   \n",
       "donde_estas_trabajando                                        Santa Fe   \n",
       "tipo_de_contrato                                             Full-Time   \n",
       "salario_mensual_o_retiro_bruto_en_tu_moneda_local               145000   \n",
       "\n",
       "                                                                   818  \\\n",
       "timestamp                                          12/19/2020 23:06:40   \n",
       "estoy_trabajando_en                                          Argentina   \n",
       "donde_estas_trabajando                                             GBA   \n",
       "tipo_de_contrato                                             Full-Time   \n",
       "salario_mensual_o_retiro_bruto_en_tu_moneda_local              Outlier   \n",
       "\n",
       "                                                                  819  \\\n",
       "timestamp                                          12/20/2020 0:54:43   \n",
       "estoy_trabajando_en                                         Argentina   \n",
       "donde_estas_trabajando                                       Santa Fe   \n",
       "tipo_de_contrato                                            Full-Time   \n",
       "salario_mensual_o_retiro_bruto_en_tu_moneda_local               80000   \n",
       "\n",
       "                                                                  820  \\\n",
       "timestamp                                          12/20/2020 2:05:50   \n",
       "estoy_trabajando_en                                         Argentina   \n",
       "donde_estas_trabajando                                        Córdoba   \n",
       "tipo_de_contrato                                            Full-Time   \n",
       "salario_mensual_o_retiro_bruto_en_tu_moneda_local               50000   \n",
       "\n",
       "                                                                   821  \\\n",
       "timestamp                                          12/20/2020 12:40:31   \n",
       "estoy_trabajando_en                                          Argentina   \n",
       "donde_estas_trabajando                                        Santa Fe   \n",
       "tipo_de_contrato                                             Full-Time   \n",
       "salario_mensual_o_retiro_bruto_en_tu_moneda_local               165000   \n",
       "\n",
       "                                                                               822  \\\n",
       "timestamp                                                      12/20/2020 17:55:05   \n",
       "estoy_trabajando_en                                                      Argentina   \n",
       "donde_estas_trabajando                             Ciudad Autónoma de Buenos Aires   \n",
       "tipo_de_contrato                                                         Full-Time   \n",
       "salario_mensual_o_retiro_bruto_en_tu_moneda_local                            90000   \n",
       "\n",
       "                                                                   823  \n",
       "timestamp                                          12/20/2020 19:49:09  \n",
       "estoy_trabajando_en                                          Argentina  \n",
       "donde_estas_trabajando                                           Salta  \n",
       "tipo_de_contrato                                             Full-Time  \n",
       "salario_mensual_o_retiro_bruto_en_tu_moneda_local                44000  \n",
       "\n",
       "[5 rows x 824 columns]"
      ]
     },
     "execution_count": 3,
     "metadata": {},
     "output_type": "execute_result"
    },
    {
     "data": {
      "application/javascript": [
       "\n",
       "            setTimeout(function() {\n",
       "                var nbb_cell_id = 3;\n",
       "                var nbb_unformatted_code = \"raw_dataframe.T.head()\";\n",
       "                var nbb_formatted_code = \"raw_dataframe.T.head()\";\n",
       "                var nbb_cells = Jupyter.notebook.get_cells();\n",
       "                for (var i = 0; i < nbb_cells.length; ++i) {\n",
       "                    if (nbb_cells[i].input_prompt_number == nbb_cell_id) {\n",
       "                        if (nbb_cells[i].get_text() == nbb_unformatted_code) {\n",
       "                             nbb_cells[i].set_text(nbb_formatted_code);\n",
       "                        }\n",
       "                        break;\n",
       "                    }\n",
       "                }\n",
       "            }, 500);\n",
       "            "
      ],
      "text/plain": [
       "<IPython.core.display.Javascript object>"
      ]
     },
     "metadata": {},
     "output_type": "display_data"
    }
   ],
   "source": [
    "raw_dataframe.T.head()"
   ]
  },
  {
   "cell_type": "markdown",
   "metadata": {
    "colab_type": "text",
    "id": "mY9g6cyoPou2"
   },
   "source": [
    "### 1.4. Sanitizamos/normalizamos datos que encontramos mal formados o repetidos"
   ]
  },
  {
   "cell_type": "code",
   "execution_count": 4,
   "metadata": {
    "colab": {},
    "colab_type": "code",
    "id": "r-0F_bEXKvkJ"
   },
   "outputs": [
    {
     "data": {
      "application/javascript": [
       "\n",
       "            setTimeout(function() {\n",
       "                var nbb_cell_id = 4;\n",
       "                var nbb_unformatted_code = \"import re\\n\\n\\ndef normalize_dataframe_column(df_in, column_name, regex_assign_map):\\n    \\\"\\\"\\\"\\n  Given a Dataframe (df), a column name that identifies the column to sanitize,\\n  applies an in-place replacement for each pair regex-value in the map\\n  \\\"\\\"\\\"\\n    df_out = df_in.copy()\\n    for regex, value in regex_assign_map.items():\\n        compiled_regex = re.compile(regex, re.I)\\n        mask = df_in[column_name].str.strip().str.match(compiled_regex, na=False)\\n        df_out.loc[mask, column_name] = value\\n\\n    # debug\\n    total, final = len(df_in[column_name].unique()), len(df_out[column_name].unique())\\n    display(\\\"reduced in {:02f}\\\".format((total - final) / total))\\n    return df_out\\n\\n\\ndef normalize_dataframe_column_replace(df_in, column_name, regex_replace_map):\\n    \\\"\\\"\\\"\\n  Given a Dataframe (df), a column name that identifies the column to sanitize,\\n  applies an in-place replacement for each pair regex-value in the map\\n  \\\"\\\"\\\"\\n    df_out = df_in.copy()\\n    for regex, pattern in regex_replace_map.items():\\n        compiled_regex = re.compile(regex, re.I)\\n        df_out[column_name] = (\\n            df_out[column_name].str.strip().str.replace(compiled_regex, pattern)\\n        )\\n\\n    # debug\\n    total, final = len(df_in[column_name].unique()), len(df_out[column_name].unique())\\n    display(\\\"reduced in {:02f}\\\".format((total - final) / total))\\n    return df_out\";\n",
       "                var nbb_formatted_code = \"import re\\n\\n\\ndef normalize_dataframe_column(df_in, column_name, regex_assign_map):\\n    \\\"\\\"\\\"\\n  Given a Dataframe (df), a column name that identifies the column to sanitize,\\n  applies an in-place replacement for each pair regex-value in the map\\n  \\\"\\\"\\\"\\n    df_out = df_in.copy()\\n    for regex, value in regex_assign_map.items():\\n        compiled_regex = re.compile(regex, re.I)\\n        mask = df_in[column_name].str.strip().str.match(compiled_regex, na=False)\\n        df_out.loc[mask, column_name] = value\\n\\n    # debug\\n    total, final = len(df_in[column_name].unique()), len(df_out[column_name].unique())\\n    display(\\\"reduced in {:02f}\\\".format((total - final) / total))\\n    return df_out\\n\\n\\ndef normalize_dataframe_column_replace(df_in, column_name, regex_replace_map):\\n    \\\"\\\"\\\"\\n  Given a Dataframe (df), a column name that identifies the column to sanitize,\\n  applies an in-place replacement for each pair regex-value in the map\\n  \\\"\\\"\\\"\\n    df_out = df_in.copy()\\n    for regex, pattern in regex_replace_map.items():\\n        compiled_regex = re.compile(regex, re.I)\\n        df_out[column_name] = (\\n            df_out[column_name].str.strip().str.replace(compiled_regex, pattern)\\n        )\\n\\n    # debug\\n    total, final = len(df_in[column_name].unique()), len(df_out[column_name].unique())\\n    display(\\\"reduced in {:02f}\\\".format((total - final) / total))\\n    return df_out\";\n",
       "                var nbb_cells = Jupyter.notebook.get_cells();\n",
       "                for (var i = 0; i < nbb_cells.length; ++i) {\n",
       "                    if (nbb_cells[i].input_prompt_number == nbb_cell_id) {\n",
       "                        if (nbb_cells[i].get_text() == nbb_unformatted_code) {\n",
       "                             nbb_cells[i].set_text(nbb_formatted_code);\n",
       "                        }\n",
       "                        break;\n",
       "                    }\n",
       "                }\n",
       "            }, 500);\n",
       "            "
      ],
      "text/plain": [
       "<IPython.core.display.Javascript object>"
      ]
     },
     "metadata": {},
     "output_type": "display_data"
    }
   ],
   "source": [
    "import re\n",
    "\n",
    "\n",
    "def normalize_dataframe_column(df_in, column_name, regex_assign_map):\n",
    "    \"\"\"\n",
    "  Given a Dataframe (df), a column name that identifies the column to sanitize,\n",
    "  applies an in-place replacement for each pair regex-value in the map\n",
    "  \"\"\"\n",
    "    df_out = df_in.copy()\n",
    "    for regex, value in regex_assign_map.items():\n",
    "        compiled_regex = re.compile(regex, re.I)\n",
    "        mask = df_in[column_name].str.strip().str.match(compiled_regex, na=False)\n",
    "        df_out.loc[mask, column_name] = value\n",
    "\n",
    "    # debug\n",
    "    total, final = len(df_in[column_name].unique()), len(df_out[column_name].unique())\n",
    "    display(\"reduced in {:02f}\".format((total - final) / total))\n",
    "    return df_out\n",
    "\n",
    "\n",
    "def normalize_dataframe_column_replace(df_in, column_name, regex_replace_map):\n",
    "    \"\"\"\n",
    "  Given a Dataframe (df), a column name that identifies the column to sanitize,\n",
    "  applies an in-place replacement for each pair regex-value in the map\n",
    "  \"\"\"\n",
    "    df_out = df_in.copy()\n",
    "    for regex, pattern in regex_replace_map.items():\n",
    "        compiled_regex = re.compile(regex, re.I)\n",
    "        df_out[column_name] = (\n",
    "            df_out[column_name].str.strip().str.replace(compiled_regex, pattern)\n",
    "        )\n",
    "\n",
    "    # debug\n",
    "    total, final = len(df_in[column_name].unique()), len(df_out[column_name].unique())\n",
    "    display(\"reduced in {:02f}\".format((total - final) / total))\n",
    "    return df_out"
   ]
  },
  {
   "cell_type": "markdown",
   "metadata": {
    "colab_type": "text",
    "id": "P627T9mJK0pg"
   },
   "source": [
    "#### 1.4.1. Carreras"
   ]
  },
  {
   "cell_type": "code",
   "execution_count": 5,
   "metadata": {
    "colab": {
     "base_uri": "https://localhost:8080/",
     "height": 986
    },
    "colab_type": "code",
    "id": "8cMwWfl6K54A",
    "outputId": "09e311c3-a3d8-4aea-8d84-3b2da24b2f70"
   },
   "outputs": [
    {
     "data": {
      "text/plain": [
       "'reduced in 0.015152'"
      ]
     },
     "metadata": {},
     "output_type": "display_data"
    },
    {
     "data": {
      "text/plain": [
       "Ingeniería en Sistemas de Información                                        98\n",
       "Ingeniería en Informática                                                    48\n",
       "Analista de Sistemas                                                         39\n",
       "Licenciatura en Sistemas de Información                                      34\n",
       "Licenciatura en Ciencias de la Computación                                   27\n",
       "Licenciatura en Informática                                                  22\n",
       "Tecnicatura Superior en Programación                                         17\n",
       "Ingeniería Electrónica                                                       17\n",
       "Tecnicatura en Programación                                                  15\n",
       "Ingeniería en Computación                                                     8\n",
       "Licenciatura en Administración de Empresas                                    7\n",
       "Diseño Gráfico                                                                7\n",
       "Tecnicatura en Informática                                                    6\n",
       "Analista Programador                                                          5\n",
       "Tecnicatura en Sistemas                                                       5\n",
       "Analista de Computación                                                       5\n",
       "Licenciatura en Análisis de Sistemas                                          5\n",
       "Analista Programador Universitario                                            5\n",
       "Ingeniería en Telecomunicaciones                                              4\n",
       "Tecnicatura Superior en Análisis de Sistemas                                  4\n",
       "Tecnicatura Superior en Sistemas Informáticos                                 4\n",
       "Analista Universitario de Sistemas                                            4\n",
       "Diseño Multimedial                                                            3\n",
       "Ingeniería Industrial                                                         3\n",
       "Ingeniería en Software                                                        3\n",
       "Licenciatura en Psicología                                                    3\n",
       "Sistemas de Información                                                       2\n",
       "Programador web                                                               1\n",
       "Licenciatura en Relaciones del Trabajo                                        1\n",
       "Traductorado inglés                                                           1\n",
       "Ingeniería en Sistemas                                                        1\n",
       "Arte                                                                          1\n",
       "Diplomatura en sistemas embebidos                                             1\n",
       "Licenciatura en Sociología                                                    1\n",
       "Relaciones Internacionales                                                    1\n",
       "Licenciatura en Artes y Tecnologías                                           1\n",
       "Licenciatura en Comunicación de Datos                                         1\n",
       "tecnico superior en redes informaticas                                        1\n",
       "Tecnicatura en Desarrollo Web                                                 1\n",
       "Lic en Comercializacion                                                       1\n",
       "Tecnicatura Universitaria en Programación en UTN (antes llamada Superior)     1\n",
       "Diseño de Imágen y Sonido                                                     1\n",
       "Diseño Web                                                                    1\n",
       "Relaciones del Trabajo                                                        1\n",
       "Psicóloga                                                                     1\n",
       "Licenciatura en Letras                                                        1\n",
       "Desarrollo web                                                                1\n",
       "Lic. en Gestión IT                                                            1\n",
       "Técnicatura en infraestructura                                                1\n",
       "Licenciatura en Astronomía                                                    1\n",
       "maestria en telecomunicaciones                                                1\n",
       "Derecho                                                                       1\n",
       "RRII                                                                          1\n",
       "Diseñador Industrial                                                          1\n",
       "Tecnicatura Superior en Informática Aplicada                                  1\n",
       "Name: carrera, dtype: int64"
      ]
     },
     "metadata": {},
     "output_type": "display_data"
    },
    {
     "data": {
      "application/javascript": [
       "\n",
       "            setTimeout(function() {\n",
       "                var nbb_cell_id = 5;\n",
       "                var nbb_unformatted_code = \"dataframe = normalize_dataframe_column_replace(\\n    dataframe,\\n    \\\"carrera\\\",\\n    {\\n        \\\"(Derecho|Abogac[\\u00edi]a|abogad.)\\\": \\\"Derecho\\\",\\n        \\\"(Contador.*)\\\": \\\"Contador P\\u00fablico\\\",\\n        \\\"(Arquitect(o|a|ura))\\\": \\\"Arquitectura\\\",\\n        \\\"(Lic.*)?Psicolog[\\u00edi]a\\\": \\\"Licenciatura en Psicolog\\u00eda\\\",\\n        \\\"(Lic.*)?Marketing\\\": \\\"Licenciatura en Marketing\\\",\\n        \\\".*Comunicaci\\u00f3n\\\": \\\"Licenciatura en Comunicaci\\u00f3n\\\",\\n        \\\"Letras\\\": \\\"Licenciatura en Letras\\\",\\n        \\\"Tec.*Infraestructuras{0,2}\\\": \\\"Tecnicatura Superior en Soporte de Infraestructuras\\\",\\n        \\\"(lic.*qu[i\\u00ed]mica)\\\": \\\"Licenciatura en Qu\\u00edmica\\\",\\n        \\\"^(RRHH|Trabajo)\\\": \\\"Licenciatura en Relaciones del Trabajo\\\",\\n        \\\"(Lic.*)?Administraci[o\\u00f3]n( de empresas)?\\\": \\\"Licenciatura en Administraci\\u00f3n de Empresas\\\",\\n        \\\"Ed.*f[i\\u00ed]sica\\\": \\\"Educaci\\u00f3n F\\u00edsica\\\",\\n        \\\"Licenciatura en Cienciasdela Computaci\\u00f3n\\\": \\\"Licenciatura en Ciencias de la Computaci\\u00f3n\\\",\\n        \\\"Licenciatura en Ciencias dela Computaci\\u00f3n\\\": \\\"Licenciatura en Ciencias de la Computaci\\u00f3n\\\",\\n        \\\"(ningun(a|o)|-)\\\": \\\"DELETEME\\\",\\n        \\\"Lic.* Matem\\u00e1ticas?\\\": \\\"Licenciatura en Matem\\u00e1tica\\\",\\n        \\\"(lic.*)econom[\\u00edi]a\\\": \\\"Licenciatura en Econom\\u00eda\\\",\\n        \\\"ingenier[\\u00edi]a de sistemas\\\": \\\"Ingenier\\u00eda en Sistemas\\\",\\n        \\\"^(.*)\\\\.$\\\": \\\"\\\\\\\\1\\\",\\n    },\\n)\\n\\ndf = dataframe[\\\"carrera\\\"].value_counts(sort=True)\\ndisplay(df[:55])\";\n",
       "                var nbb_formatted_code = \"dataframe = normalize_dataframe_column_replace(\\n    dataframe,\\n    \\\"carrera\\\",\\n    {\\n        \\\"(Derecho|Abogac[\\u00edi]a|abogad.)\\\": \\\"Derecho\\\",\\n        \\\"(Contador.*)\\\": \\\"Contador P\\u00fablico\\\",\\n        \\\"(Arquitect(o|a|ura))\\\": \\\"Arquitectura\\\",\\n        \\\"(Lic.*)?Psicolog[\\u00edi]a\\\": \\\"Licenciatura en Psicolog\\u00eda\\\",\\n        \\\"(Lic.*)?Marketing\\\": \\\"Licenciatura en Marketing\\\",\\n        \\\".*Comunicaci\\u00f3n\\\": \\\"Licenciatura en Comunicaci\\u00f3n\\\",\\n        \\\"Letras\\\": \\\"Licenciatura en Letras\\\",\\n        \\\"Tec.*Infraestructuras{0,2}\\\": \\\"Tecnicatura Superior en Soporte de Infraestructuras\\\",\\n        \\\"(lic.*qu[i\\u00ed]mica)\\\": \\\"Licenciatura en Qu\\u00edmica\\\",\\n        \\\"^(RRHH|Trabajo)\\\": \\\"Licenciatura en Relaciones del Trabajo\\\",\\n        \\\"(Lic.*)?Administraci[o\\u00f3]n( de empresas)?\\\": \\\"Licenciatura en Administraci\\u00f3n de Empresas\\\",\\n        \\\"Ed.*f[i\\u00ed]sica\\\": \\\"Educaci\\u00f3n F\\u00edsica\\\",\\n        \\\"Licenciatura en Cienciasdela Computaci\\u00f3n\\\": \\\"Licenciatura en Ciencias de la Computaci\\u00f3n\\\",\\n        \\\"Licenciatura en Ciencias dela Computaci\\u00f3n\\\": \\\"Licenciatura en Ciencias de la Computaci\\u00f3n\\\",\\n        \\\"(ningun(a|o)|-)\\\": \\\"DELETEME\\\",\\n        \\\"Lic.* Matem\\u00e1ticas?\\\": \\\"Licenciatura en Matem\\u00e1tica\\\",\\n        \\\"(lic.*)econom[\\u00edi]a\\\": \\\"Licenciatura en Econom\\u00eda\\\",\\n        \\\"ingenier[\\u00edi]a de sistemas\\\": \\\"Ingenier\\u00eda en Sistemas\\\",\\n        \\\"^(.*)\\\\.$\\\": \\\"\\\\\\\\1\\\",\\n    },\\n)\\n\\ndf = dataframe[\\\"carrera\\\"].value_counts(sort=True)\\ndisplay(df[:55])\";\n",
       "                var nbb_cells = Jupyter.notebook.get_cells();\n",
       "                for (var i = 0; i < nbb_cells.length; ++i) {\n",
       "                    if (nbb_cells[i].input_prompt_number == nbb_cell_id) {\n",
       "                        if (nbb_cells[i].get_text() == nbb_unformatted_code) {\n",
       "                             nbb_cells[i].set_text(nbb_formatted_code);\n",
       "                        }\n",
       "                        break;\n",
       "                    }\n",
       "                }\n",
       "            }, 500);\n",
       "            "
      ],
      "text/plain": [
       "<IPython.core.display.Javascript object>"
      ]
     },
     "metadata": {},
     "output_type": "display_data"
    }
   ],
   "source": [
    "dataframe = normalize_dataframe_column_replace(\n",
    "    dataframe,\n",
    "    \"carrera\",\n",
    "    {\n",
    "        \"(Derecho|Abogac[íi]a|abogad.)\": \"Derecho\",\n",
    "        \"(Contador.*)\": \"Contador Público\",\n",
    "        \"(Arquitect(o|a|ura))\": \"Arquitectura\",\n",
    "        \"(Lic.*)?Psicolog[íi]a\": \"Licenciatura en Psicología\",\n",
    "        \"(Lic.*)?Marketing\": \"Licenciatura en Marketing\",\n",
    "        \".*Comunicación\": \"Licenciatura en Comunicación\",\n",
    "        \"Letras\": \"Licenciatura en Letras\",\n",
    "        \"Tec.*Infraestructuras{0,2}\": \"Tecnicatura Superior en Soporte de Infraestructuras\",\n",
    "        \"(lic.*qu[ií]mica)\": \"Licenciatura en Química\",\n",
    "        \"^(RRHH|Trabajo)\": \"Licenciatura en Relaciones del Trabajo\",\n",
    "        \"(Lic.*)?Administraci[oó]n( de empresas)?\": \"Licenciatura en Administración de Empresas\",\n",
    "        \"Ed.*f[ií]sica\": \"Educación Física\",\n",
    "        \"Licenciatura en Cienciasdela Computación\": \"Licenciatura en Ciencias de la Computación\",\n",
    "        \"Licenciatura en Ciencias dela Computación\": \"Licenciatura en Ciencias de la Computación\",\n",
    "        \"(ningun(a|o)|-)\": \"DELETEME\",\n",
    "        \"Lic.* Matemáticas?\": \"Licenciatura en Matemática\",\n",
    "        \"(lic.*)econom[íi]a\": \"Licenciatura en Economía\",\n",
    "        \"ingenier[íi]a de sistemas\": \"Ingeniería en Sistemas\",\n",
    "        \"^(.*)\\.$\": \"\\\\1\",\n",
    "    },\n",
    ")\n",
    "\n",
    "df = dataframe[\"carrera\"].value_counts(sort=True)\n",
    "display(df[:55])"
   ]
  },
  {
   "cell_type": "markdown",
   "metadata": {
    "colab_type": "text",
    "id": "oQ7gB6a2K-r_"
   },
   "source": [
    "#### 1.4.2. Universidades"
   ]
  },
  {
   "cell_type": "code",
   "execution_count": 6,
   "metadata": {
    "colab": {
     "base_uri": "https://localhost:8080/",
     "height": 119
    },
    "colab_type": "code",
    "id": "asrZNd9cwTKu",
    "outputId": "17da893e-ca49-4c2f-fcc0-557f1fb302aa"
   },
   "outputs": [
    {
     "name": "stderr",
     "output_type": "stream",
     "text": [
      "/home/nad/.pyenv/versions/system-3.8.5/lib/python3.8/site-packages/pandas/core/indexing.py:670: SettingWithCopyWarning: \n",
      "A value is trying to be set on a copy of a slice from a DataFrame\n",
      "\n",
      "See the caveats in the documentation: https://pandas.pydata.org/pandas-docs/stable/user_guide/indexing.html#returning-a-view-versus-a-copy\n",
      "  iloc._setitem_with_indexer(indexer, value)\n"
     ]
    },
    {
     "data": {
      "text/plain": [
       "Series([], Name: universidad, dtype: object)"
      ]
     },
     "metadata": {},
     "output_type": "display_data"
    },
    {
     "data": {
      "application/javascript": [
       "\n",
       "            setTimeout(function() {\n",
       "                var nbb_cell_id = 6;\n",
       "                var nbb_unformatted_code = \"# En Mendoza se asocia UM a la Universidad de Mendoza, y en Buenos Aires, a la Universidad de Mor\\u00f3n\\nmask = dataframe.eval(\\n    'universidad in [\\\"UM\\\", \\\"Um\\\"] and donde_estas_trabajando == \\\"Mendoza\\\"'\\n)\\ndataframe.universidad.loc[mask] = \\\"Universidad Nacional de Mendoza\\\"\\ndisplay(dataframe[mask].universidad)\";\n",
       "                var nbb_formatted_code = \"# En Mendoza se asocia UM a la Universidad de Mendoza, y en Buenos Aires, a la Universidad de Mor\\u00f3n\\nmask = dataframe.eval(\\n    'universidad in [\\\"UM\\\", \\\"Um\\\"] and donde_estas_trabajando == \\\"Mendoza\\\"'\\n)\\ndataframe.universidad.loc[mask] = \\\"Universidad Nacional de Mendoza\\\"\\ndisplay(dataframe[mask].universidad)\";\n",
       "                var nbb_cells = Jupyter.notebook.get_cells();\n",
       "                for (var i = 0; i < nbb_cells.length; ++i) {\n",
       "                    if (nbb_cells[i].input_prompt_number == nbb_cell_id) {\n",
       "                        if (nbb_cells[i].get_text() == nbb_unformatted_code) {\n",
       "                             nbb_cells[i].set_text(nbb_formatted_code);\n",
       "                        }\n",
       "                        break;\n",
       "                    }\n",
       "                }\n",
       "            }, 500);\n",
       "            "
      ],
      "text/plain": [
       "<IPython.core.display.Javascript object>"
      ]
     },
     "metadata": {},
     "output_type": "display_data"
    }
   ],
   "source": [
    "# En Mendoza se asocia UM a la Universidad de Mendoza, y en Buenos Aires, a la Universidad de Morón\n",
    "mask = dataframe.eval(\n",
    "    'universidad in [\"UM\", \"Um\"] and donde_estas_trabajando == \"Mendoza\"'\n",
    ")\n",
    "dataframe.universidad.loc[mask] = \"Universidad Nacional de Mendoza\"\n",
    "display(dataframe[mask].universidad)"
   ]
  },
  {
   "cell_type": "code",
   "execution_count": 7,
   "metadata": {
    "colab": {
     "base_uri": "https://localhost:8080/",
     "height": 1000
    },
    "colab_type": "code",
    "id": "7a468l-ILCl7",
    "outputId": "e6e6e645-12c6-46ca-fe6c-50156a98c7b0"
   },
   "outputs": [
    {
     "data": {
      "text/plain": [
       "'reduced in 0.010309'"
      ]
     },
     "metadata": {},
     "output_type": "display_data"
    },
    {
     "data": {
      "text/plain": [
       "UTN - Universidad Tecnológica Nacional                                        123\n",
       "UBA - Universidad de Buenos Aires                                              53\n",
       "UADE - Universidad Argentina De la Empresa                                     19\n",
       "UNLP - Universidad Nacional de La Plata                                        15\n",
       "UAI - Universidad Abierta Interamericana                                       15\n",
       "UNR - Universidad Nacional de Rosario                                          14\n",
       "UNLaM - Universidad Nacional de La Matanza                                     14\n",
       "UNC - Universidad Nacional de Córdoba                                          12\n",
       "UNQ - Universidad Nacional de Quilmes                                           8\n",
       "UCAECE - Centro de Altos Estudios en Ciencias Exactas                           7\n",
       "Escuela Da Vinci                                                                6\n",
       "UP - Universidad de Palermo                                                     6\n",
       "Universidad Siglo 21                                                            5\n",
       "UNS - Universidad Nacional del Sur                                              5\n",
       "ORT                                                                             5\n",
       "UK - Universidad Kennedy                                                        5\n",
       "UNSAM - Universidad de San Martín                                               4\n",
       "UNICEN - Universidad Nacional del Centro de la Provincia de Buenos Aires        4\n",
       "UNL - Universidad Nacional del Litoral                                          4\n",
       "UCA - Universidad Católica Argentina                                            3\n",
       "ISTEA - Instituto Superior Tecnológico Empresarial Argentino                    3\n",
       "Universidad Austral                                                             3\n",
       "Teclab                                                                          3\n",
       "USAL - Universidad del Salvador                                                 3\n",
       "ICES                                                                            2\n",
       "UNLu - Universidad Nacional de Luján                                            2\n",
       "UM - Universidad de Morón                                                       2\n",
       "UNA                                                                             2\n",
       "UNLA - Universidad Nacional de Lanús                                            2\n",
       "UNNOBA - Universidad Nacional del Noroeste de la Provincia de Buenos Aires      2\n",
       "CAECE                                                                           2\n",
       "ITBA - Instituto Tecnológico de Buenos Aires                                    2\n",
       "UNLaR - Universidad Nacional De La Rioja                                        2\n",
       "IUA - Instituto Universitario Aeronáutico                                       2\n",
       "UNRC - Universidad Nacional de Río Cuarto                                       2\n",
       "UNDAV - Universidad Nacional de Avellaneda                                      2\n",
       "Universidad Mendoza                                                             2\n",
       "Maimonides                                                                      2\n",
       "UNCOMA - Universidad Nacional del Comahue                                       2\n",
       "ISSD - Instituto Superior Santo Domingo                                         2\n",
       "Universidad de palermo                                                          1\n",
       "Nuestra Señora de Lujan del Buen Viaje                                          1\n",
       "UNSa - Universidad Nacional de Salta                                            1\n",
       "IUGT                                                                            1\n",
       "ITM                                                                             1\n",
       "IFTS 12                                                                         1\n",
       "UCC - Universidad Catolica de Cordoba                                           1\n",
       "Venezolana                                                                      1\n",
       "Universidad Dr. Jose Gregorio Hernandez                                         1\n",
       "UM - Universidad de Mendoza                                                     1\n",
       "Universidad Nacional de Moreno                                                  1\n",
       "Instituto Superior de formación técnica N189                                    1\n",
       "ISO SUTERH                                                                      1\n",
       "UCC                                                                             1\n",
       "Ipbaj                                                                           1\n",
       "ESLAI                                                                           1\n",
       "Image Campus                                                                    1\n",
       "Urquiza                                                                         1\n",
       "UNTREF - Universidad Nacional de Tres de Febrero                                1\n",
       "UNSE - Universidad Nacional de Santiago del Estero                              1\n",
       "Name: universidad, dtype: int64"
      ]
     },
     "metadata": {},
     "output_type": "display_data"
    },
    {
     "data": {
      "application/javascript": [
       "\n",
       "            setTimeout(function() {\n",
       "                var nbb_cell_id = 7;\n",
       "                var nbb_unformatted_code = \"dataframe = normalize_dataframe_column(\\n    dataframe,\\n    \\\"universidad\\\",\\n    {\\n        \\\"(UNSJ|.*Nacional de San Juan)\\\": \\\"UNSJ - Universidad Nacional de San Juan\\\",\\n        \\\"IRSO\\\": \\\"IRSO - Instituto Ra\\u00fal Scalabrini Ort\\u00edz\\\",\\n        \\\"(UNPSJB|.*Patagonia San Juan Bosco.*)\\\": \\\"UNPSJB - Universidad Nacional de la Patagonia San Juan Bosco\\\",\\n        \\\"(UNSL|Universidad Nacional de San Luis)\\\": \\\"UNSL - Universidad Nacional de San Luis\\\",\\n        \\\"IFTS18\\\": \\\"IFTS18 - Instituto de Formaci\\u00f3n T\\u00e9cnica Superior N\\u00b018\\\",\\n        \\\"UCASAL\\\": \\\"UCASAL - Universidad Cat\\u00f3lica de Salta\\\",\\n        \\\"Universidad de Mendoza\\\": \\\"UM - Universidad de Mendoza\\\",\\n        \\\"UNTREF\\\": \\\"UNTREF - Universidad Nacional de Tres de Febrero\\\",\\n        \\\"(UNL[uU]|Universidad Nacional de Luj[a\\u00e1]n)\\\": \\\"UNLu - Universidad Nacional de Luj\\u00e1n\\\",\\n        \\\"(UAA|.*Atl[a\\u00e1]ntida.*)\\\": \\\"UAA - Universidad Atl\\u00e1ntida Argentina\\\",\\n        \\\"([fF]?IUPFA)\\\": \\\"IUPFA - Instituto Universitario de la Polic\\u00eda Federal Argentina\\\",\\n        \\\"([uU]?FASTA)\\\": \\\"FASTA - Fraternidad de Agrupaciones Santo Tom\\u00e1s de Aquino\\\",\\n        \\\"(UCSE)\\\": \\\"UCSE - Universidad Cat\\u00f3lica de Santiago del Estero\\\",\\n        \\\"(ISIV|.*Virasoro.*)\\\": \\\"ISIV - Instituto Superior de Inform\\u00e1tica Virasoro\\\",\\n        \\\"(UN[Aa]M)\\\": \\\"UNaM - Universidad Nacional de Misiones\\\",\\n        \\\"(-|ninguna)$\\\": \\\"DELETEME\\\",\\n    },\\n)\\n\\ndf = dataframe[\\\"universidad\\\"].value_counts(sort=True)\\ndisplay(df[:60])\";\n",
       "                var nbb_formatted_code = \"dataframe = normalize_dataframe_column(\\n    dataframe,\\n    \\\"universidad\\\",\\n    {\\n        \\\"(UNSJ|.*Nacional de San Juan)\\\": \\\"UNSJ - Universidad Nacional de San Juan\\\",\\n        \\\"IRSO\\\": \\\"IRSO - Instituto Ra\\u00fal Scalabrini Ort\\u00edz\\\",\\n        \\\"(UNPSJB|.*Patagonia San Juan Bosco.*)\\\": \\\"UNPSJB - Universidad Nacional de la Patagonia San Juan Bosco\\\",\\n        \\\"(UNSL|Universidad Nacional de San Luis)\\\": \\\"UNSL - Universidad Nacional de San Luis\\\",\\n        \\\"IFTS18\\\": \\\"IFTS18 - Instituto de Formaci\\u00f3n T\\u00e9cnica Superior N\\u00b018\\\",\\n        \\\"UCASAL\\\": \\\"UCASAL - Universidad Cat\\u00f3lica de Salta\\\",\\n        \\\"Universidad de Mendoza\\\": \\\"UM - Universidad de Mendoza\\\",\\n        \\\"UNTREF\\\": \\\"UNTREF - Universidad Nacional de Tres de Febrero\\\",\\n        \\\"(UNL[uU]|Universidad Nacional de Luj[a\\u00e1]n)\\\": \\\"UNLu - Universidad Nacional de Luj\\u00e1n\\\",\\n        \\\"(UAA|.*Atl[a\\u00e1]ntida.*)\\\": \\\"UAA - Universidad Atl\\u00e1ntida Argentina\\\",\\n        \\\"([fF]?IUPFA)\\\": \\\"IUPFA - Instituto Universitario de la Polic\\u00eda Federal Argentina\\\",\\n        \\\"([uU]?FASTA)\\\": \\\"FASTA - Fraternidad de Agrupaciones Santo Tom\\u00e1s de Aquino\\\",\\n        \\\"(UCSE)\\\": \\\"UCSE - Universidad Cat\\u00f3lica de Santiago del Estero\\\",\\n        \\\"(ISIV|.*Virasoro.*)\\\": \\\"ISIV - Instituto Superior de Inform\\u00e1tica Virasoro\\\",\\n        \\\"(UN[Aa]M)\\\": \\\"UNaM - Universidad Nacional de Misiones\\\",\\n        \\\"(-|ninguna)$\\\": \\\"DELETEME\\\",\\n    },\\n)\\n\\ndf = dataframe[\\\"universidad\\\"].value_counts(sort=True)\\ndisplay(df[:60])\";\n",
       "                var nbb_cells = Jupyter.notebook.get_cells();\n",
       "                for (var i = 0; i < nbb_cells.length; ++i) {\n",
       "                    if (nbb_cells[i].input_prompt_number == nbb_cell_id) {\n",
       "                        if (nbb_cells[i].get_text() == nbb_unformatted_code) {\n",
       "                             nbb_cells[i].set_text(nbb_formatted_code);\n",
       "                        }\n",
       "                        break;\n",
       "                    }\n",
       "                }\n",
       "            }, 500);\n",
       "            "
      ],
      "text/plain": [
       "<IPython.core.display.Javascript object>"
      ]
     },
     "metadata": {},
     "output_type": "display_data"
    }
   ],
   "source": [
    "dataframe = normalize_dataframe_column(\n",
    "    dataframe,\n",
    "    \"universidad\",\n",
    "    {\n",
    "        \"(UNSJ|.*Nacional de San Juan)\": \"UNSJ - Universidad Nacional de San Juan\",\n",
    "        \"IRSO\": \"IRSO - Instituto Raúl Scalabrini Ortíz\",\n",
    "        \"(UNPSJB|.*Patagonia San Juan Bosco.*)\": \"UNPSJB - Universidad Nacional de la Patagonia San Juan Bosco\",\n",
    "        \"(UNSL|Universidad Nacional de San Luis)\": \"UNSL - Universidad Nacional de San Luis\",\n",
    "        \"IFTS18\": \"IFTS18 - Instituto de Formación Técnica Superior N°18\",\n",
    "        \"UCASAL\": \"UCASAL - Universidad Católica de Salta\",\n",
    "        \"Universidad de Mendoza\": \"UM - Universidad de Mendoza\",\n",
    "        \"UNTREF\": \"UNTREF - Universidad Nacional de Tres de Febrero\",\n",
    "        \"(UNL[uU]|Universidad Nacional de Luj[aá]n)\": \"UNLu - Universidad Nacional de Luján\",\n",
    "        \"(UAA|.*Atl[aá]ntida.*)\": \"UAA - Universidad Atlántida Argentina\",\n",
    "        \"([fF]?IUPFA)\": \"IUPFA - Instituto Universitario de la Policía Federal Argentina\",\n",
    "        \"([uU]?FASTA)\": \"FASTA - Fraternidad de Agrupaciones Santo Tomás de Aquino\",\n",
    "        \"(UCSE)\": \"UCSE - Universidad Católica de Santiago del Estero\",\n",
    "        \"(ISIV|.*Virasoro.*)\": \"ISIV - Instituto Superior de Informática Virasoro\",\n",
    "        \"(UN[Aa]M)\": \"UNaM - Universidad Nacional de Misiones\",\n",
    "        \"(-|ninguna)$\": \"DELETEME\",\n",
    "    },\n",
    ")\n",
    "\n",
    "df = dataframe[\"universidad\"].value_counts(sort=True)\n",
    "display(df[:60])"
   ]
  },
  {
   "cell_type": "markdown",
   "metadata": {
    "colab_type": "text",
    "id": "yfeHRVkWZhAd"
   },
   "source": [
    "#### 1.4.3. Experiencia"
   ]
  },
  {
   "cell_type": "code",
   "execution_count": 8,
   "metadata": {
    "colab": {},
    "colab_type": "code",
    "id": "t8_W82poZgNs"
   },
   "outputs": [
    {
     "data": {
      "application/javascript": [
       "\n",
       "            setTimeout(function() {\n",
       "                var nbb_cell_id = 8;\n",
       "                var nbb_unformatted_code = \"dataframe[\\\"anos_de_experiencia\\\"] = dataframe[\\\"anos_de_experiencia\\\"].astype(int)\\ndataframe[\\\"anos_en_la_empresa_actual\\\"] = dataframe[\\\"anos_en_la_empresa_actual\\\"].astype(\\n    int\\n)\\ndataframe[\\\"anos_en_el_puesto_actual\\\"] = dataframe[\\\"anos_en_el_puesto_actual\\\"].astype(\\n    int\\n)\";\n",
       "                var nbb_formatted_code = \"dataframe[\\\"anos_de_experiencia\\\"] = dataframe[\\\"anos_de_experiencia\\\"].astype(int)\\ndataframe[\\\"anos_en_la_empresa_actual\\\"] = dataframe[\\\"anos_en_la_empresa_actual\\\"].astype(\\n    int\\n)\\ndataframe[\\\"anos_en_el_puesto_actual\\\"] = dataframe[\\\"anos_en_el_puesto_actual\\\"].astype(\\n    int\\n)\";\n",
       "                var nbb_cells = Jupyter.notebook.get_cells();\n",
       "                for (var i = 0; i < nbb_cells.length; ++i) {\n",
       "                    if (nbb_cells[i].input_prompt_number == nbb_cell_id) {\n",
       "                        if (nbb_cells[i].get_text() == nbb_unformatted_code) {\n",
       "                             nbb_cells[i].set_text(nbb_formatted_code);\n",
       "                        }\n",
       "                        break;\n",
       "                    }\n",
       "                }\n",
       "            }, 500);\n",
       "            "
      ],
      "text/plain": [
       "<IPython.core.display.Javascript object>"
      ]
     },
     "metadata": {},
     "output_type": "display_data"
    }
   ],
   "source": [
    "dataframe[\"anos_de_experiencia\"] = dataframe[\"anos_de_experiencia\"].astype(int)\n",
    "dataframe[\"anos_en_la_empresa_actual\"] = dataframe[\"anos_en_la_empresa_actual\"].astype(\n",
    "    int\n",
    ")\n",
    "dataframe[\"anos_en_el_puesto_actual\"] = dataframe[\"anos_en_el_puesto_actual\"].astype(\n",
    "    int\n",
    ")"
   ]
  },
  {
   "cell_type": "markdown",
   "metadata": {
    "colab_type": "text",
    "id": "cB36Tr24LGHl"
   },
   "source": [
    "#### 1.4.4. Regiones"
   ]
  },
  {
   "cell_type": "code",
   "execution_count": 9,
   "metadata": {
    "colab": {
     "base_uri": "https://localhost:8080/",
     "height": 136
    },
    "colab_type": "code",
    "id": "_F97cIQZLLkZ",
    "outputId": "f62900c2-b48d-4746-cff2-50fce2ea5f3e"
   },
   "outputs": [
    {
     "data": {
      "text/plain": [
       "'reduced in 0.045455'"
      ]
     },
     "metadata": {},
     "output_type": "display_data"
    },
    {
     "data": {
      "text/plain": [
       "array(['Córdoba', 'Ciudad Autónoma de Buenos Aires', 'Mendoza',\n",
       "       'Santa Fe', 'Buenos Aires', 'Río Negro', 'Entre Ríos', 'San Juan',\n",
       "       'Jujuy', 'Tucumán', 'Salta', 'Chaco', 'Corrientes', 'Misiones',\n",
       "       'Neuquén', 'Formosa', 'La Rioja', 'San Luis', 'Chubut',\n",
       "       'Santiago del Estero', 'Tierra del Fuego'], dtype=object)"
      ]
     },
     "metadata": {},
     "output_type": "display_data"
    },
    {
     "data": {
      "application/javascript": [
       "\n",
       "            setTimeout(function() {\n",
       "                var nbb_cell_id = 9;\n",
       "                var nbb_unformatted_code = \"dataframe = normalize_dataframe_column(\\n    dataframe,\\n    \\\"donde_estas_trabajando\\\",\\n    {\\\"(GBA|Provincia de Buenos Aires)\\\": \\\"Buenos Aires\\\",},\\n)\\n\\ndisplay(dataframe[\\\"donde_estas_trabajando\\\"].unique())\";\n",
       "                var nbb_formatted_code = \"dataframe = normalize_dataframe_column(\\n    dataframe,\\n    \\\"donde_estas_trabajando\\\",\\n    {\\\"(GBA|Provincia de Buenos Aires)\\\": \\\"Buenos Aires\\\",},\\n)\\n\\ndisplay(dataframe[\\\"donde_estas_trabajando\\\"].unique())\";\n",
       "                var nbb_cells = Jupyter.notebook.get_cells();\n",
       "                for (var i = 0; i < nbb_cells.length; ++i) {\n",
       "                    if (nbb_cells[i].input_prompt_number == nbb_cell_id) {\n",
       "                        if (nbb_cells[i].get_text() == nbb_unformatted_code) {\n",
       "                             nbb_cells[i].set_text(nbb_formatted_code);\n",
       "                        }\n",
       "                        break;\n",
       "                    }\n",
       "                }\n",
       "            }, 500);\n",
       "            "
      ],
      "text/plain": [
       "<IPython.core.display.Javascript object>"
      ]
     },
     "metadata": {},
     "output_type": "display_data"
    }
   ],
   "source": [
    "dataframe = normalize_dataframe_column(\n",
    "    dataframe,\n",
    "    \"donde_estas_trabajando\",\n",
    "    {\"(GBA|Provincia de Buenos Aires)\": \"Buenos Aires\",},\n",
    ")\n",
    "\n",
    "display(dataframe[\"donde_estas_trabajando\"].unique())"
   ]
  },
  {
   "cell_type": "markdown",
   "metadata": {
    "colab_type": "text",
    "id": "0hWIWbdUCDPd"
   },
   "source": [
    "#### 1.4.5. Discapacidad"
   ]
  },
  {
   "cell_type": "code",
   "execution_count": 10,
   "metadata": {
    "colab": {
     "base_uri": "https://localhost:8080/",
     "height": 153
    },
    "colab_type": "code",
    "id": "C51vasUdCDiL",
    "outputId": "2fb3ac96-7217-4ab6-ecae-7fa2144ee62d"
   },
   "outputs": [
    {
     "data": {
      "text/plain": [
       "'reduced in 0.200000'"
      ]
     },
     "metadata": {},
     "output_type": "display_data"
    },
    {
     "data": {
      "text/plain": [
       "Visual                                                                        19\n",
       "Mental                                                                         2\n",
       "Motriz                                                                         2\n",
       "autismo pero nadie lo sabe                                                     1\n",
       "Visceral                                                                       1\n",
       "Vote por los K en el 2003 y luego a la Konchuda... Pero ya me cure creo...     1\n",
       "Name: tenes_algun_tipo_de_discapacidad, dtype: int64"
      ]
     },
     "metadata": {},
     "output_type": "display_data"
    },
    {
     "data": {
      "application/javascript": [
       "\n",
       "            setTimeout(function() {\n",
       "                var nbb_cell_id = 10;\n",
       "                var nbb_unformatted_code = \"dataframe = normalize_dataframe_column(\\n    dataframe,\\n    \\\"tenes_algun_tipo_de_discapacidad\\\",\\n    {\\n        \\\"^(_|-|no( tengo)?|ningun[oa]|nada|0|ni)$\\\": None,\\n        \\\".*auditiv[oa].*\\\": \\\"Auditiva\\\",\\n        \\\".*visual.*\\\": \\\"Visual\\\",\\n        \\\"mental\\\": \\\"Mental\\\",\\n        \\\"motriz\\\": \\\"Motriz\\\",\\n        \\\"vis?ceral\\\": \\\"Visceral\\\",\\n    },\\n)\\n\\ndf = dataframe[\\\"tenes_algun_tipo_de_discapacidad\\\"].value_counts(sort=True)\\ndisplay(df[:6])\";\n",
       "                var nbb_formatted_code = \"dataframe = normalize_dataframe_column(\\n    dataframe,\\n    \\\"tenes_algun_tipo_de_discapacidad\\\",\\n    {\\n        \\\"^(_|-|no( tengo)?|ningun[oa]|nada|0|ni)$\\\": None,\\n        \\\".*auditiv[oa].*\\\": \\\"Auditiva\\\",\\n        \\\".*visual.*\\\": \\\"Visual\\\",\\n        \\\"mental\\\": \\\"Mental\\\",\\n        \\\"motriz\\\": \\\"Motriz\\\",\\n        \\\"vis?ceral\\\": \\\"Visceral\\\",\\n    },\\n)\\n\\ndf = dataframe[\\\"tenes_algun_tipo_de_discapacidad\\\"].value_counts(sort=True)\\ndisplay(df[:6])\";\n",
       "                var nbb_cells = Jupyter.notebook.get_cells();\n",
       "                for (var i = 0; i < nbb_cells.length; ++i) {\n",
       "                    if (nbb_cells[i].input_prompt_number == nbb_cell_id) {\n",
       "                        if (nbb_cells[i].get_text() == nbb_unformatted_code) {\n",
       "                             nbb_cells[i].set_text(nbb_formatted_code);\n",
       "                        }\n",
       "                        break;\n",
       "                    }\n",
       "                }\n",
       "            }, 500);\n",
       "            "
      ],
      "text/plain": [
       "<IPython.core.display.Javascript object>"
      ]
     },
     "metadata": {},
     "output_type": "display_data"
    }
   ],
   "source": [
    "dataframe = normalize_dataframe_column(\n",
    "    dataframe,\n",
    "    \"tenes_algun_tipo_de_discapacidad\",\n",
    "    {\n",
    "        \"^(_|-|no( tengo)?|ningun[oa]|nada|0|ni)$\": None,\n",
    "        \".*auditiv[oa].*\": \"Auditiva\",\n",
    "        \".*visual.*\": \"Visual\",\n",
    "        \"mental\": \"Mental\",\n",
    "        \"motriz\": \"Motriz\",\n",
    "        \"vis?ceral\": \"Visceral\",\n",
    "    },\n",
    ")\n",
    "\n",
    "df = dataframe[\"tenes_algun_tipo_de_discapacidad\"].value_counts(sort=True)\n",
    "display(df[:6])"
   ]
  },
  {
   "cell_type": "markdown",
   "metadata": {
    "colab_type": "text",
    "id": "KvAo5XsatSW3"
   },
   "source": [
    "#### 1.4.5. Roles"
   ]
  },
  {
   "cell_type": "code",
   "execution_count": 11,
   "metadata": {
    "colab": {
     "base_uri": "https://localhost:8080/",
     "height": 901
    },
    "colab_type": "code",
    "id": "dVX2g1qjtUe2",
    "outputId": "5cf6e466-9aa6-42a6-9dd3-64331c4b6e1e"
   },
   "outputs": [
    {
     "data": {
      "text/plain": [
       "'reduced in 0.054054'"
      ]
     },
     "metadata": {},
     "output_type": "display_data"
    },
    {
     "data": {
      "text/plain": [
       "Developer                                                                            373\n",
       "SysAdmin / DevOps / SRE                                                               94\n",
       "Technical Leader                                                                      42\n",
       "QA / Tester                                                                           39\n",
       "HelpDesk                                                                              22\n",
       "Infosec                                                                               19\n",
       "Architect                                                                             19\n",
       "Consultant                                                                            18\n",
       "Project Manager                                                                       18\n",
       "Business Analyst                                                                      16\n",
       "BI Analyst / Data Analyst                                                             16\n",
       "Manager / Director                                                                    15\n",
       "Data Scientist                                                                        15\n",
       "Networking                                                                            15\n",
       "Data Engineer                                                                         15\n",
       "DBA                                                                                   10\n",
       "Product Manager                                                                        8\n",
       "Designer                                                                               4\n",
       "Sales / Pre-Sales                                                                      4\n",
       "VP / C-Level                                                                           4\n",
       "UX                                                                                     3\n",
       "Scrum Master                                                                           2\n",
       "Recruiter / HR                                                                         2\n",
       "Technical Support                                                                      2\n",
       "Functional Analyst                                                                     2\n",
       "Servicio Tecnico                                                                       2\n",
       "Change management                                                                      2\n",
       "BI Sr. Manager                                                                         1\n",
       "Supervisor                                                                             1\n",
       "Sector IT                                                                              1\n",
       "suprervisor HelpDesk                                                                   1\n",
       "Coordinador tecnico y pulpo                                                            1\n",
       "Functional Analyst sap                                                                 1\n",
       "Service Delivery Manager                                                               1\n",
       "Supervisor / Jefe TI                                                                   1\n",
       "NLP                                                                                    1\n",
       "Comercial                                                                              1\n",
       "Soporte de aplicaciones                                                                1\n",
       "Técnico microinformatica                                                               1\n",
       "Responsable IT                                                                         1\n",
       "Field Technician                                                                       1\n",
       "SAP Basis                                                                              1\n",
       "Atlassian Administrator                                                                1\n",
       "Functional Analyst ux                                                                  1\n",
       "Responsable de tecnologías                                                             1\n",
       "Soporte nivel 1 y 2                                                                    1\n",
       "Cloud engineer                                                                         1\n",
       "Product Owner                                                                          1\n",
       "Technical Support, SysAdmin, Proyectos, Desarrollos web pequeños, Infraestructura      1\n",
       "DevOps                                                                                 1\n",
       "Name: trabajo_de, dtype: int64"
      ]
     },
     "metadata": {},
     "output_type": "display_data"
    },
    {
     "data": {
      "application/javascript": [
       "\n",
       "            setTimeout(function() {\n",
       "                var nbb_cell_id = 11;\n",
       "                var nbb_unformatted_code = \"dataframe = normalize_dataframe_column_replace(\\n    dataframe,\\n    \\\"trabajo_de\\\",\\n    {\\n        \\\"Project Manager.*\\\": \\\"Project Manager\\\",\\n        \\\"Director, Product Manager, Project Manager\\\": \\\"Manager / Director\\\",\\n        \\\"Technical Leader.*\\\": \\\"Technical Leader\\\",\\n        \\\"Team Leader.*\\\": \\\"Technical Leader\\\",\\n        \\\"Full ?Stack Developer\\\": \\\"Developer\\\",\\n        \\\"Seguridad Inform[a\\u00e1]tica\\\": \\\"Infosec\\\",\\n        \\\"(profesor|instructor|educador|docente|capacitador.*)\\\": \\\"Docente\\\",\\n        \\\"^(Soporte T[\\u00e9e]cnico|Technical support|Support)\\\": \\\"Technical Support\\\",\\n        \\\"Software Engineer\\\": \\\"Developer\\\",\\n        \\\"(Analista )?programador\\\": \\\"Developer\\\",\\n        \\\"Analista Funcional\\\": \\\"Functional Analyst\\\",\\n        \\\"Technical Functional Analyst\\\": \\\"Functional Analyst\\\",\\n        \\\"administrativo\\\": \\\"Administrativo\\\",\\n        \\\"^cto.*\\\": \\\"CTO\\\",\\n        \\\"Asistant\\\": \\\"Assistant\\\",\\n        \\\"helpdesk\\\": \\\"HelpDesk\\\",\\n        \\\"(Analista de seguridad|Security.*)\\\": \\\"Infosec\\\",\\n        \\\"BI Leader\\\": \\\"BI Analyst / Data Analyst\\\",\\n    },\\n)\\n\\ndf = dataframe[\\\"trabajo_de\\\"].value_counts(sort=True)\\ndisplay(df[0:50])\";\n",
       "                var nbb_formatted_code = \"dataframe = normalize_dataframe_column_replace(\\n    dataframe,\\n    \\\"trabajo_de\\\",\\n    {\\n        \\\"Project Manager.*\\\": \\\"Project Manager\\\",\\n        \\\"Director, Product Manager, Project Manager\\\": \\\"Manager / Director\\\",\\n        \\\"Technical Leader.*\\\": \\\"Technical Leader\\\",\\n        \\\"Team Leader.*\\\": \\\"Technical Leader\\\",\\n        \\\"Full ?Stack Developer\\\": \\\"Developer\\\",\\n        \\\"Seguridad Inform[a\\u00e1]tica\\\": \\\"Infosec\\\",\\n        \\\"(profesor|instructor|educador|docente|capacitador.*)\\\": \\\"Docente\\\",\\n        \\\"^(Soporte T[\\u00e9e]cnico|Technical support|Support)\\\": \\\"Technical Support\\\",\\n        \\\"Software Engineer\\\": \\\"Developer\\\",\\n        \\\"(Analista )?programador\\\": \\\"Developer\\\",\\n        \\\"Analista Funcional\\\": \\\"Functional Analyst\\\",\\n        \\\"Technical Functional Analyst\\\": \\\"Functional Analyst\\\",\\n        \\\"administrativo\\\": \\\"Administrativo\\\",\\n        \\\"^cto.*\\\": \\\"CTO\\\",\\n        \\\"Asistant\\\": \\\"Assistant\\\",\\n        \\\"helpdesk\\\": \\\"HelpDesk\\\",\\n        \\\"(Analista de seguridad|Security.*)\\\": \\\"Infosec\\\",\\n        \\\"BI Leader\\\": \\\"BI Analyst / Data Analyst\\\",\\n    },\\n)\\n\\ndf = dataframe[\\\"trabajo_de\\\"].value_counts(sort=True)\\ndisplay(df[0:50])\";\n",
       "                var nbb_cells = Jupyter.notebook.get_cells();\n",
       "                for (var i = 0; i < nbb_cells.length; ++i) {\n",
       "                    if (nbb_cells[i].input_prompt_number == nbb_cell_id) {\n",
       "                        if (nbb_cells[i].get_text() == nbb_unformatted_code) {\n",
       "                             nbb_cells[i].set_text(nbb_formatted_code);\n",
       "                        }\n",
       "                        break;\n",
       "                    }\n",
       "                }\n",
       "            }, 500);\n",
       "            "
      ],
      "text/plain": [
       "<IPython.core.display.Javascript object>"
      ]
     },
     "metadata": {},
     "output_type": "display_data"
    }
   ],
   "source": [
    "dataframe = normalize_dataframe_column_replace(\n",
    "    dataframe,\n",
    "    \"trabajo_de\",\n",
    "    {\n",
    "        \"Project Manager.*\": \"Project Manager\",\n",
    "        \"Director, Product Manager, Project Manager\": \"Manager / Director\",\n",
    "        \"Technical Leader.*\": \"Technical Leader\",\n",
    "        \"Team Leader.*\": \"Technical Leader\",\n",
    "        \"Full ?Stack Developer\": \"Developer\",\n",
    "        \"Seguridad Inform[aá]tica\": \"Infosec\",\n",
    "        \"(profesor|instructor|educador|docente|capacitador.*)\": \"Docente\",\n",
    "        \"^(Soporte T[ée]cnico|Technical support|Support)\": \"Technical Support\",\n",
    "        \"Software Engineer\": \"Developer\",\n",
    "        \"(Analista )?programador\": \"Developer\",\n",
    "        \"Analista Funcional\": \"Functional Analyst\",\n",
    "        \"Technical Functional Analyst\": \"Functional Analyst\",\n",
    "        \"administrativo\": \"Administrativo\",\n",
    "        \"^cto.*\": \"CTO\",\n",
    "        \"Asistant\": \"Assistant\",\n",
    "        \"helpdesk\": \"HelpDesk\",\n",
    "        \"(Analista de seguridad|Security.*)\": \"Infosec\",\n",
    "        \"BI Leader\": \"BI Analyst / Data Analyst\",\n",
    "    },\n",
    ")\n",
    "\n",
    "df = dataframe[\"trabajo_de\"].value_counts(sort=True)\n",
    "display(df[0:50])"
   ]
  },
  {
   "cell_type": "markdown",
   "metadata": {
    "colab_type": "text",
    "id": "h7qZerX8bxIY"
   },
   "source": [
    "#### 1.4.6. Salario (corrección de numeración)"
   ]
  },
  {
   "cell_type": "code",
   "execution_count": 12,
   "metadata": {
    "colab": {},
    "colab_type": "code",
    "id": "xOQqa_HKbnk8"
   },
   "outputs": [
    {
     "data": {
      "application/javascript": [
       "\n",
       "            setTimeout(function() {\n",
       "                var nbb_cell_id = 12;\n",
       "                var nbb_unformatted_code = \"# Algunos salarios est\\u00e1n cargados, pareciera ser, en miles\";\n",
       "                var nbb_formatted_code = \"# Algunos salarios est\\u00e1n cargados, pareciera ser, en miles\";\n",
       "                var nbb_cells = Jupyter.notebook.get_cells();\n",
       "                for (var i = 0; i < nbb_cells.length; ++i) {\n",
       "                    if (nbb_cells[i].input_prompt_number == nbb_cell_id) {\n",
       "                        if (nbb_cells[i].get_text() == nbb_unformatted_code) {\n",
       "                             nbb_cells[i].set_text(nbb_formatted_code);\n",
       "                        }\n",
       "                        break;\n",
       "                    }\n",
       "                }\n",
       "            }, 500);\n",
       "            "
      ],
      "text/plain": [
       "<IPython.core.display.Javascript object>"
      ]
     },
     "metadata": {},
     "output_type": "display_data"
    }
   ],
   "source": [
    "# Algunos salarios están cargados, pareciera ser, en miles"
   ]
  },
  {
   "cell_type": "markdown",
   "metadata": {
    "colab_type": "text",
    "id": "R1Tl3Z5InfWK"
   },
   "source": [
    "#### 1.4.7. Sueldo dolarizado"
   ]
  },
  {
   "cell_type": "code",
   "execution_count": 13,
   "metadata": {},
   "outputs": [
    {
     "data": {
      "application/javascript": [
       "\n",
       "            setTimeout(function() {\n",
       "                var nbb_cell_id = 13;\n",
       "                var nbb_unformatted_code = \"mask = dataframe[\\\"pagos_en_dolares\\\"].str.contains(\\\"\\\", na=False)\\ncolumn_name = \\\"sueldo_dolarizado\\\"\\n\\ndataframe.loc[~mask, column_name] = False\\ndataframe.loc[mask, column_name] = True\\ndataframe.loc[:, column_name] = dataframe[\\\"sueldo_dolarizado\\\"].astype(bool)\";\n",
       "                var nbb_formatted_code = \"mask = dataframe[\\\"pagos_en_dolares\\\"].str.contains(\\\"\\\", na=False)\\ncolumn_name = \\\"sueldo_dolarizado\\\"\\n\\ndataframe.loc[~mask, column_name] = False\\ndataframe.loc[mask, column_name] = True\\ndataframe.loc[:, column_name] = dataframe[\\\"sueldo_dolarizado\\\"].astype(bool)\";\n",
       "                var nbb_cells = Jupyter.notebook.get_cells();\n",
       "                for (var i = 0; i < nbb_cells.length; ++i) {\n",
       "                    if (nbb_cells[i].input_prompt_number == nbb_cell_id) {\n",
       "                        if (nbb_cells[i].get_text() == nbb_unformatted_code) {\n",
       "                             nbb_cells[i].set_text(nbb_formatted_code);\n",
       "                        }\n",
       "                        break;\n",
       "                    }\n",
       "                }\n",
       "            }, 500);\n",
       "            "
      ],
      "text/plain": [
       "<IPython.core.display.Javascript object>"
      ]
     },
     "metadata": {},
     "output_type": "display_data"
    }
   ],
   "source": [
    "mask = dataframe[\"pagos_en_dolares\"].str.contains(\"\", na=False)\n",
    "column_name = \"sueldo_dolarizado\"\n",
    "\n",
    "dataframe.loc[~mask, column_name] = False\n",
    "dataframe.loc[mask, column_name] = True\n",
    "dataframe.loc[:, column_name] = dataframe[\"sueldo_dolarizado\"].astype(bool)"
   ]
  },
  {
   "cell_type": "markdown",
   "metadata": {
    "colab_type": "text",
    "id": "_Cvr9dTmj-xZ"
   },
   "source": [
    "### 1.5. Agregamos columnas calculadas"
   ]
  },
  {
   "cell_type": "code",
   "execution_count": 14,
   "metadata": {
    "colab": {
     "base_uri": "https://localhost:8080/",
     "height": 238
    },
    "colab_type": "code",
    "id": "ICP3jvlpkDFc",
    "outputId": "0ff8318b-7115-4461-b98d-bb37beac0cbc"
   },
   "outputs": [
    {
     "data": {
      "text/plain": [
       "0           Senior\n",
       "1           Senior\n",
       "2           Senior\n",
       "3      Semi-Senior\n",
       "4           Junior\n",
       "          ...     \n",
       "819         Junior\n",
       "820         Junior\n",
       "821         Senior\n",
       "822    Semi-Senior\n",
       "823         Junior\n",
       "Name: seniority, Length: 824, dtype: category\n",
       "Categories (3, object): ['Junior' < 'Semi-Senior' < 'Senior']"
      ]
     },
     "metadata": {},
     "output_type": "display_data"
    },
    {
     "data": {
      "application/javascript": [
       "\n",
       "            setTimeout(function() {\n",
       "                var nbb_cell_id = 14;\n",
       "                var nbb_unformatted_code = \"dataframe[\\\"seniority\\\"] = pd.cut(\\n    dataframe[\\\"anos_de_experiencia\\\"].values,\\n    [-1, 2, 5, 50],\\n    labels=[\\\"Junior\\\", \\\"Semi-Senior\\\", \\\"Senior\\\"],\\n)\\ndisplay(dataframe[\\\"seniority\\\"])\";\n",
       "                var nbb_formatted_code = \"dataframe[\\\"seniority\\\"] = pd.cut(\\n    dataframe[\\\"anos_de_experiencia\\\"].values,\\n    [-1, 2, 5, 50],\\n    labels=[\\\"Junior\\\", \\\"Semi-Senior\\\", \\\"Senior\\\"],\\n)\\ndisplay(dataframe[\\\"seniority\\\"])\";\n",
       "                var nbb_cells = Jupyter.notebook.get_cells();\n",
       "                for (var i = 0; i < nbb_cells.length; ++i) {\n",
       "                    if (nbb_cells[i].input_prompt_number == nbb_cell_id) {\n",
       "                        if (nbb_cells[i].get_text() == nbb_unformatted_code) {\n",
       "                             nbb_cells[i].set_text(nbb_formatted_code);\n",
       "                        }\n",
       "                        break;\n",
       "                    }\n",
       "                }\n",
       "            }, 500);\n",
       "            "
      ],
      "text/plain": [
       "<IPython.core.display.Javascript object>"
      ]
     },
     "metadata": {},
     "output_type": "display_data"
    }
   ],
   "source": [
    "dataframe[\"seniority\"] = pd.cut(\n",
    "    dataframe[\"anos_de_experiencia\"].values,\n",
    "    [-1, 2, 5, 50],\n",
    "    labels=[\"Junior\", \"Semi-Senior\", \"Senior\"],\n",
    ")\n",
    "display(dataframe[\"seniority\"])"
   ]
  },
  {
   "cell_type": "markdown",
   "metadata": {
    "colab_type": "text",
    "id": "RBcbzOqQLRTZ"
   },
   "source": [
    "### 1.6. Eliminamos outliers"
   ]
  },
  {
   "cell_type": "code",
   "execution_count": 15,
   "metadata": {
    "colab": {},
    "colab_type": "code",
    "id": "lrWXOes2LpBD"
   },
   "outputs": [
    {
     "data": {
      "application/javascript": [
       "\n",
       "            setTimeout(function() {\n",
       "                var nbb_cell_id = 15;\n",
       "                var nbb_unformatted_code = \"salary_debug_columns = [\\n    \\\"tengo\\\",\\n    \\\"anos_de_experiencia\\\",\\n    \\\"estoy_trabajando_en\\\",\\n    \\\"tipo_de_contrato\\\",\\n    \\\"salario_mensual_o_retiro_bruto_en_tu_moneda_local\\\",\\n]\\n\\n\\ndef remove_outlier(df_in, col_name, iqr_factor=1.5):\\n    \\\"\\\"\\\"\\n  IQR outliers removal (https://machinelearningmastery.com/how-to-use-statistics-to-identify-outliers-in-data/)\\n  accept a dataframe, remove outliers, return cleaned data in a new dataframe\\n  see http://www.itl.nist.gov/div898/handbook/prc/section1/prc16.htm\\n  \\\"\\\"\\\"\\n    q1 = df_in[col_name].quantile(0.25)\\n    q3 = df_in[col_name].quantile(0.75)\\n    iqr = q3 - q1  # interquartile range\\n    fence_low = q1 - iqr_factor * iqr\\n    fence_high = q3 + iqr_factor * iqr\\n    df_inliers = df_in.loc[\\n        (df_in[col_name] > fence_low) & (df_in[col_name] < fence_high)\\n    ]\\n    df_outliers = df_in.loc[\\n        (df_in[col_name] < fence_low) | (df_in[col_name] > fence_high)\\n    ]\\n    return df_inliers, df_outliers\";\n",
       "                var nbb_formatted_code = \"salary_debug_columns = [\\n    \\\"tengo\\\",\\n    \\\"anos_de_experiencia\\\",\\n    \\\"estoy_trabajando_en\\\",\\n    \\\"tipo_de_contrato\\\",\\n    \\\"salario_mensual_o_retiro_bruto_en_tu_moneda_local\\\",\\n]\\n\\n\\ndef remove_outlier(df_in, col_name, iqr_factor=1.5):\\n    \\\"\\\"\\\"\\n  IQR outliers removal (https://machinelearningmastery.com/how-to-use-statistics-to-identify-outliers-in-data/)\\n  accept a dataframe, remove outliers, return cleaned data in a new dataframe\\n  see http://www.itl.nist.gov/div898/handbook/prc/section1/prc16.htm\\n  \\\"\\\"\\\"\\n    q1 = df_in[col_name].quantile(0.25)\\n    q3 = df_in[col_name].quantile(0.75)\\n    iqr = q3 - q1  # interquartile range\\n    fence_low = q1 - iqr_factor * iqr\\n    fence_high = q3 + iqr_factor * iqr\\n    df_inliers = df_in.loc[\\n        (df_in[col_name] > fence_low) & (df_in[col_name] < fence_high)\\n    ]\\n    df_outliers = df_in.loc[\\n        (df_in[col_name] < fence_low) | (df_in[col_name] > fence_high)\\n    ]\\n    return df_inliers, df_outliers\";\n",
       "                var nbb_cells = Jupyter.notebook.get_cells();\n",
       "                for (var i = 0; i < nbb_cells.length; ++i) {\n",
       "                    if (nbb_cells[i].input_prompt_number == nbb_cell_id) {\n",
       "                        if (nbb_cells[i].get_text() == nbb_unformatted_code) {\n",
       "                             nbb_cells[i].set_text(nbb_formatted_code);\n",
       "                        }\n",
       "                        break;\n",
       "                    }\n",
       "                }\n",
       "            }, 500);\n",
       "            "
      ],
      "text/plain": [
       "<IPython.core.display.Javascript object>"
      ]
     },
     "metadata": {},
     "output_type": "display_data"
    }
   ],
   "source": [
    "salary_debug_columns = [\n",
    "    \"tengo\",\n",
    "    \"anos_de_experiencia\",\n",
    "    \"estoy_trabajando_en\",\n",
    "    \"tipo_de_contrato\",\n",
    "    \"salario_mensual_o_retiro_bruto_en_tu_moneda_local\",\n",
    "]\n",
    "\n",
    "\n",
    "def remove_outlier(df_in, col_name, iqr_factor=1.5):\n",
    "    \"\"\"\n",
    "  IQR outliers removal (https://machinelearningmastery.com/how-to-use-statistics-to-identify-outliers-in-data/)\n",
    "  accept a dataframe, remove outliers, return cleaned data in a new dataframe\n",
    "  see http://www.itl.nist.gov/div898/handbook/prc/section1/prc16.htm\n",
    "  \"\"\"\n",
    "    q1 = df_in[col_name].quantile(0.25)\n",
    "    q3 = df_in[col_name].quantile(0.75)\n",
    "    iqr = q3 - q1  # interquartile range\n",
    "    fence_low = q1 - iqr_factor * iqr\n",
    "    fence_high = q3 + iqr_factor * iqr\n",
    "    df_inliers = df_in.loc[\n",
    "        (df_in[col_name] > fence_low) & (df_in[col_name] < fence_high)\n",
    "    ]\n",
    "    df_outliers = df_in.loc[\n",
    "        (df_in[col_name] < fence_low) | (df_in[col_name] > fence_high)\n",
    "    ]\n",
    "    return df_inliers, df_outliers"
   ]
  },
  {
   "cell_type": "markdown",
   "metadata": {
    "colab_type": "text",
    "id": "kzSJ833HLkM2"
   },
   "source": [
    "#### 1.6.1. Salarios"
   ]
  },
  {
   "cell_type": "code",
   "execution_count": 16,
   "metadata": {
    "colab": {
     "base_uri": "https://localhost:8080/",
     "height": 436
    },
    "colab_type": "code",
    "id": "pSHnuu4EQNLl",
    "outputId": "a418be71-314d-4958-adfa-d868953d4d6c"
   },
   "outputs": [
    {
     "data": {
      "text/plain": [
       "0.9502427184466019"
      ]
     },
     "metadata": {},
     "output_type": "display_data"
    },
    {
     "data": {
      "text/html": [
       "<div>\n",
       "<style scoped>\n",
       "    .dataframe tbody tr th:only-of-type {\n",
       "        vertical-align: middle;\n",
       "    }\n",
       "\n",
       "    .dataframe tbody tr th {\n",
       "        vertical-align: top;\n",
       "    }\n",
       "\n",
       "    .dataframe thead th {\n",
       "        text-align: right;\n",
       "    }\n",
       "</style>\n",
       "<table border=\"1\" class=\"dataframe\">\n",
       "  <thead>\n",
       "    <tr style=\"text-align: right;\">\n",
       "      <th></th>\n",
       "      <th>tengo</th>\n",
       "      <th>anos_de_experiencia</th>\n",
       "      <th>estoy_trabajando_en</th>\n",
       "      <th>tipo_de_contrato</th>\n",
       "      <th>salario_mensual_o_retiro_bruto_en_tu_moneda_local</th>\n",
       "    </tr>\n",
       "  </thead>\n",
       "  <tbody>\n",
       "    <tr>\n",
       "      <th>1</th>\n",
       "      <td>29</td>\n",
       "      <td>6</td>\n",
       "      <td>Argentina</td>\n",
       "      <td>Remoto (empresa de otro país)</td>\n",
       "      <td>512000</td>\n",
       "    </tr>\n",
       "    <tr>\n",
       "      <th>50</th>\n",
       "      <td>30</td>\n",
       "      <td>1</td>\n",
       "      <td>Argentina</td>\n",
       "      <td>Full-Time</td>\n",
       "      <td>11341059</td>\n",
       "    </tr>\n",
       "    <tr>\n",
       "      <th>56</th>\n",
       "      <td>30</td>\n",
       "      <td>3</td>\n",
       "      <td>Argentina</td>\n",
       "      <td>Full-Time</td>\n",
       "      <td>6798012</td>\n",
       "    </tr>\n",
       "    <tr>\n",
       "      <th>72</th>\n",
       "      <td>33</td>\n",
       "      <td>1</td>\n",
       "      <td>Argentina</td>\n",
       "      <td>Full-Time</td>\n",
       "      <td>4780992</td>\n",
       "    </tr>\n",
       "    <tr>\n",
       "      <th>74</th>\n",
       "      <td>27</td>\n",
       "      <td>9</td>\n",
       "      <td>Argentina</td>\n",
       "      <td>Full-Time</td>\n",
       "      <td>1550000</td>\n",
       "    </tr>\n",
       "    <tr>\n",
       "      <th>119</th>\n",
       "      <td>38</td>\n",
       "      <td>17</td>\n",
       "      <td>Argentina</td>\n",
       "      <td>Full-Time</td>\n",
       "      <td>5592146</td>\n",
       "    </tr>\n",
       "    <tr>\n",
       "      <th>182</th>\n",
       "      <td>32</td>\n",
       "      <td>4</td>\n",
       "      <td>Argentina</td>\n",
       "      <td>Full-Time</td>\n",
       "      <td>715000</td>\n",
       "    </tr>\n",
       "    <tr>\n",
       "      <th>188</th>\n",
       "      <td>55</td>\n",
       "      <td>30</td>\n",
       "      <td>Argentina</td>\n",
       "      <td>Remoto (empresa de otro país)</td>\n",
       "      <td>1000000</td>\n",
       "    </tr>\n",
       "    <tr>\n",
       "      <th>257</th>\n",
       "      <td>33</td>\n",
       "      <td>13</td>\n",
       "      <td>Argentina</td>\n",
       "      <td>Remoto (empresa de otro país)</td>\n",
       "      <td>600000</td>\n",
       "    </tr>\n",
       "    <tr>\n",
       "      <th>265</th>\n",
       "      <td>34</td>\n",
       "      <td>7</td>\n",
       "      <td>Argentina</td>\n",
       "      <td>Remoto (empresa de otro país)</td>\n",
       "      <td>1000000</td>\n",
       "    </tr>\n",
       "    <tr>\n",
       "      <th>271</th>\n",
       "      <td>31</td>\n",
       "      <td>10</td>\n",
       "      <td>Argentina</td>\n",
       "      <td>Remoto (empresa de otro país)</td>\n",
       "      <td>1235000</td>\n",
       "    </tr>\n",
       "    <tr>\n",
       "      <th>272</th>\n",
       "      <td>33</td>\n",
       "      <td>1</td>\n",
       "      <td>Argentina</td>\n",
       "      <td>Full-Time</td>\n",
       "      <td>9502726</td>\n",
       "    </tr>\n",
       "    <tr>\n",
       "      <th>280</th>\n",
       "      <td>35</td>\n",
       "      <td>8</td>\n",
       "      <td>Argentina</td>\n",
       "      <td>Full-Time</td>\n",
       "      <td>12179913</td>\n",
       "    </tr>\n",
       "    <tr>\n",
       "      <th>293</th>\n",
       "      <td>27</td>\n",
       "      <td>0</td>\n",
       "      <td>Argentina</td>\n",
       "      <td>Full-Time</td>\n",
       "      <td>8318314</td>\n",
       "    </tr>\n",
       "    <tr>\n",
       "      <th>329</th>\n",
       "      <td>46</td>\n",
       "      <td>15</td>\n",
       "      <td>Argentina</td>\n",
       "      <td>Full-Time</td>\n",
       "      <td>1000000</td>\n",
       "    </tr>\n",
       "    <tr>\n",
       "      <th>343</th>\n",
       "      <td>19</td>\n",
       "      <td>0</td>\n",
       "      <td>Argentina</td>\n",
       "      <td>Full-Time</td>\n",
       "      <td>1641334</td>\n",
       "    </tr>\n",
       "    <tr>\n",
       "      <th>374</th>\n",
       "      <td>40</td>\n",
       "      <td>20</td>\n",
       "      <td>Argentina</td>\n",
       "      <td>Remoto (empresa de otro país)</td>\n",
       "      <td>1330230</td>\n",
       "    </tr>\n",
       "    <tr>\n",
       "      <th>380</th>\n",
       "      <td>45</td>\n",
       "      <td>25</td>\n",
       "      <td>Argentina</td>\n",
       "      <td>Remoto (empresa de otro país)</td>\n",
       "      <td>900000</td>\n",
       "    </tr>\n",
       "    <tr>\n",
       "      <th>423</th>\n",
       "      <td>31</td>\n",
       "      <td>9</td>\n",
       "      <td>Argentina</td>\n",
       "      <td>Full-Time</td>\n",
       "      <td>495000</td>\n",
       "    </tr>\n",
       "    <tr>\n",
       "      <th>428</th>\n",
       "      <td>38</td>\n",
       "      <td>15</td>\n",
       "      <td>Argentina</td>\n",
       "      <td>Remoto (empresa de otro país)</td>\n",
       "      <td>648000</td>\n",
       "    </tr>\n",
       "    <tr>\n",
       "      <th>451</th>\n",
       "      <td>35</td>\n",
       "      <td>8</td>\n",
       "      <td>Argentina</td>\n",
       "      <td>Remoto (empresa de otro país)</td>\n",
       "      <td>600000</td>\n",
       "    </tr>\n",
       "    <tr>\n",
       "      <th>469</th>\n",
       "      <td>45</td>\n",
       "      <td>20</td>\n",
       "      <td>Argentina</td>\n",
       "      <td>Remoto (empresa de otro país)</td>\n",
       "      <td>1000000</td>\n",
       "    </tr>\n",
       "    <tr>\n",
       "      <th>494</th>\n",
       "      <td>42</td>\n",
       "      <td>20</td>\n",
       "      <td>Argentina</td>\n",
       "      <td>Remoto (empresa de otro país)</td>\n",
       "      <td>600000</td>\n",
       "    </tr>\n",
       "    <tr>\n",
       "      <th>524</th>\n",
       "      <td>34</td>\n",
       "      <td>13</td>\n",
       "      <td>Argentina</td>\n",
       "      <td>Remoto (empresa de otro país)</td>\n",
       "      <td>600000</td>\n",
       "    </tr>\n",
       "    <tr>\n",
       "      <th>551</th>\n",
       "      <td>30</td>\n",
       "      <td>3</td>\n",
       "      <td>Argentina</td>\n",
       "      <td>Full-Time</td>\n",
       "      <td>6000000</td>\n",
       "    </tr>\n",
       "    <tr>\n",
       "      <th>558</th>\n",
       "      <td>27</td>\n",
       "      <td>7</td>\n",
       "      <td>Argentina</td>\n",
       "      <td>Remoto (empresa de otro país)</td>\n",
       "      <td>1200000</td>\n",
       "    </tr>\n",
       "    <tr>\n",
       "      <th>560</th>\n",
       "      <td>39</td>\n",
       "      <td>15</td>\n",
       "      <td>Argentina</td>\n",
       "      <td>Remoto (empresa de otro país)</td>\n",
       "      <td>530000</td>\n",
       "    </tr>\n",
       "    <tr>\n",
       "      <th>626</th>\n",
       "      <td>30</td>\n",
       "      <td>7</td>\n",
       "      <td>Argentina</td>\n",
       "      <td>Full-Time</td>\n",
       "      <td>21760353</td>\n",
       "    </tr>\n",
       "    <tr>\n",
       "      <th>650</th>\n",
       "      <td>27</td>\n",
       "      <td>4</td>\n",
       "      <td>Argentina</td>\n",
       "      <td>Remoto (empresa de otro país)</td>\n",
       "      <td>514800</td>\n",
       "    </tr>\n",
       "    <tr>\n",
       "      <th>656</th>\n",
       "      <td>27</td>\n",
       "      <td>2</td>\n",
       "      <td>Argentina</td>\n",
       "      <td>Full-Time</td>\n",
       "      <td>10454887</td>\n",
       "    </tr>\n",
       "    <tr>\n",
       "      <th>659</th>\n",
       "      <td>28</td>\n",
       "      <td>4</td>\n",
       "      <td>Argentina</td>\n",
       "      <td>Remoto (empresa de otro país)</td>\n",
       "      <td>945000</td>\n",
       "    </tr>\n",
       "    <tr>\n",
       "      <th>686</th>\n",
       "      <td>30</td>\n",
       "      <td>5</td>\n",
       "      <td>Argentina</td>\n",
       "      <td>Remoto (empresa de otro país)</td>\n",
       "      <td>1500000</td>\n",
       "    </tr>\n",
       "    <tr>\n",
       "      <th>690</th>\n",
       "      <td>40</td>\n",
       "      <td>20</td>\n",
       "      <td>Argentina</td>\n",
       "      <td>Remoto (empresa de otro país)</td>\n",
       "      <td>750000</td>\n",
       "    </tr>\n",
       "    <tr>\n",
       "      <th>730</th>\n",
       "      <td>35</td>\n",
       "      <td>17</td>\n",
       "      <td>Argentina</td>\n",
       "      <td>Tercerizado (trabajo a través de consultora o ...</td>\n",
       "      <td>1500000</td>\n",
       "    </tr>\n",
       "    <tr>\n",
       "      <th>734</th>\n",
       "      <td>35</td>\n",
       "      <td>17</td>\n",
       "      <td>Argentina</td>\n",
       "      <td>Tercerizado (trabajo a través de consultora o ...</td>\n",
       "      <td>1500000</td>\n",
       "    </tr>\n",
       "    <tr>\n",
       "      <th>768</th>\n",
       "      <td>38</td>\n",
       "      <td>19</td>\n",
       "      <td>Argentina</td>\n",
       "      <td>Remoto (empresa de otro país)</td>\n",
       "      <td>700000</td>\n",
       "    </tr>\n",
       "    <tr>\n",
       "      <th>781</th>\n",
       "      <td>24</td>\n",
       "      <td>4</td>\n",
       "      <td>Argentina</td>\n",
       "      <td>Remoto (empresa de otro país)</td>\n",
       "      <td>505000</td>\n",
       "    </tr>\n",
       "    <tr>\n",
       "      <th>784</th>\n",
       "      <td>33</td>\n",
       "      <td>12</td>\n",
       "      <td>Argentina</td>\n",
       "      <td>Full-Time</td>\n",
       "      <td>1499234</td>\n",
       "    </tr>\n",
       "    <tr>\n",
       "      <th>789</th>\n",
       "      <td>47</td>\n",
       "      <td>20</td>\n",
       "      <td>Argentina</td>\n",
       "      <td>Remoto (empresa de otro país)</td>\n",
       "      <td>630000</td>\n",
       "    </tr>\n",
       "    <tr>\n",
       "      <th>795</th>\n",
       "      <td>42</td>\n",
       "      <td>10</td>\n",
       "      <td>Argentina</td>\n",
       "      <td>Full-Time</td>\n",
       "      <td>12867836</td>\n",
       "    </tr>\n",
       "    <tr>\n",
       "      <th>799</th>\n",
       "      <td>39</td>\n",
       "      <td>20</td>\n",
       "      <td>Argentina</td>\n",
       "      <td>Remoto (empresa de otro país)</td>\n",
       "      <td>900000</td>\n",
       "    </tr>\n",
       "  </tbody>\n",
       "</table>\n",
       "</div>"
      ],
      "text/plain": [
       "     tengo  anos_de_experiencia estoy_trabajando_en  \\\n",
       "1       29                    6           Argentina   \n",
       "50      30                    1           Argentina   \n",
       "56      30                    3           Argentina   \n",
       "72      33                    1           Argentina   \n",
       "74      27                    9           Argentina   \n",
       "119     38                   17           Argentina   \n",
       "182     32                    4           Argentina   \n",
       "188     55                   30           Argentina   \n",
       "257     33                   13           Argentina   \n",
       "265     34                    7           Argentina   \n",
       "271     31                   10           Argentina   \n",
       "272     33                    1           Argentina   \n",
       "280     35                    8           Argentina   \n",
       "293     27                    0           Argentina   \n",
       "329     46                   15           Argentina   \n",
       "343     19                    0           Argentina   \n",
       "374     40                   20           Argentina   \n",
       "380     45                   25           Argentina   \n",
       "423     31                    9           Argentina   \n",
       "428     38                   15           Argentina   \n",
       "451     35                    8           Argentina   \n",
       "469     45                   20           Argentina   \n",
       "494     42                   20           Argentina   \n",
       "524     34                   13           Argentina   \n",
       "551     30                    3           Argentina   \n",
       "558     27                    7           Argentina   \n",
       "560     39                   15           Argentina   \n",
       "626     30                    7           Argentina   \n",
       "650     27                    4           Argentina   \n",
       "656     27                    2           Argentina   \n",
       "659     28                    4           Argentina   \n",
       "686     30                    5           Argentina   \n",
       "690     40                   20           Argentina   \n",
       "730     35                   17           Argentina   \n",
       "734     35                   17           Argentina   \n",
       "768     38                   19           Argentina   \n",
       "781     24                    4           Argentina   \n",
       "784     33                   12           Argentina   \n",
       "789     47                   20           Argentina   \n",
       "795     42                   10           Argentina   \n",
       "799     39                   20           Argentina   \n",
       "\n",
       "                                      tipo_de_contrato  \\\n",
       "1                        Remoto (empresa de otro país)   \n",
       "50                                           Full-Time   \n",
       "56                                           Full-Time   \n",
       "72                                           Full-Time   \n",
       "74                                           Full-Time   \n",
       "119                                          Full-Time   \n",
       "182                                          Full-Time   \n",
       "188                      Remoto (empresa de otro país)   \n",
       "257                      Remoto (empresa de otro país)   \n",
       "265                      Remoto (empresa de otro país)   \n",
       "271                      Remoto (empresa de otro país)   \n",
       "272                                          Full-Time   \n",
       "280                                          Full-Time   \n",
       "293                                          Full-Time   \n",
       "329                                          Full-Time   \n",
       "343                                          Full-Time   \n",
       "374                      Remoto (empresa de otro país)   \n",
       "380                      Remoto (empresa de otro país)   \n",
       "423                                          Full-Time   \n",
       "428                      Remoto (empresa de otro país)   \n",
       "451                      Remoto (empresa de otro país)   \n",
       "469                      Remoto (empresa de otro país)   \n",
       "494                      Remoto (empresa de otro país)   \n",
       "524                      Remoto (empresa de otro país)   \n",
       "551                                          Full-Time   \n",
       "558                      Remoto (empresa de otro país)   \n",
       "560                      Remoto (empresa de otro país)   \n",
       "626                                          Full-Time   \n",
       "650                      Remoto (empresa de otro país)   \n",
       "656                                          Full-Time   \n",
       "659                      Remoto (empresa de otro país)   \n",
       "686                      Remoto (empresa de otro país)   \n",
       "690                      Remoto (empresa de otro país)   \n",
       "730  Tercerizado (trabajo a través de consultora o ...   \n",
       "734  Tercerizado (trabajo a través de consultora o ...   \n",
       "768                      Remoto (empresa de otro país)   \n",
       "781                      Remoto (empresa de otro país)   \n",
       "784                                          Full-Time   \n",
       "789                      Remoto (empresa de otro país)   \n",
       "795                                          Full-Time   \n",
       "799                      Remoto (empresa de otro país)   \n",
       "\n",
       "     salario_mensual_o_retiro_bruto_en_tu_moneda_local  \n",
       "1                                               512000  \n",
       "50                                            11341059  \n",
       "56                                             6798012  \n",
       "72                                             4780992  \n",
       "74                                             1550000  \n",
       "119                                            5592146  \n",
       "182                                             715000  \n",
       "188                                            1000000  \n",
       "257                                             600000  \n",
       "265                                            1000000  \n",
       "271                                            1235000  \n",
       "272                                            9502726  \n",
       "280                                           12179913  \n",
       "293                                            8318314  \n",
       "329                                            1000000  \n",
       "343                                            1641334  \n",
       "374                                            1330230  \n",
       "380                                             900000  \n",
       "423                                             495000  \n",
       "428                                             648000  \n",
       "451                                             600000  \n",
       "469                                            1000000  \n",
       "494                                             600000  \n",
       "524                                             600000  \n",
       "551                                            6000000  \n",
       "558                                            1200000  \n",
       "560                                             530000  \n",
       "626                                           21760353  \n",
       "650                                             514800  \n",
       "656                                           10454887  \n",
       "659                                             945000  \n",
       "686                                            1500000  \n",
       "690                                             750000  \n",
       "730                                            1500000  \n",
       "734                                            1500000  \n",
       "768                                             700000  \n",
       "781                                             505000  \n",
       "784                                            1499234  \n",
       "789                                             630000  \n",
       "795                                           12867836  \n",
       "799                                             900000  "
      ]
     },
     "metadata": {},
     "output_type": "display_data"
    },
    {
     "data": {
      "application/javascript": [
       "\n",
       "            setTimeout(function() {\n",
       "                var nbb_cell_id = 16;\n",
       "                var nbb_unformatted_code = \"dataframe[\\\"salario_mensual_o_retiro_bruto_en_tu_moneda_local\\\"] = (\\n    dataframe[\\\"salario_mensual_o_retiro_bruto_en_tu_moneda_local\\\"]\\n    .str.replace(\\\",\\\", \\\"\\\")\\n    .str.replace(\\\".\\\", \\\"\\\")\\n    .str.replace(\\\"$\\\", \\\"\\\")\\n    .str.replace(r\\\"\\\\D\\\", \\\"0\\\")\\n    .str.extract(\\\"(\\\\d+)\\\", expand=False)\\n    .fillna(0)\\n    .astype(int)\\n)\\n\\ndf_inliers, df_outliers = remove_outlier(\\n    dataframe, \\\"salario_mensual_o_retiro_bruto_en_tu_moneda_local\\\", 3.5\\n)\\n\\n# inliers percent over total\\ndisplay(len(df_inliers) / len(dataframe))\\n\\n# display outliers\\ndisplay(df_outliers[salary_debug_columns])\";\n",
       "                var nbb_formatted_code = \"dataframe[\\\"salario_mensual_o_retiro_bruto_en_tu_moneda_local\\\"] = (\\n    dataframe[\\\"salario_mensual_o_retiro_bruto_en_tu_moneda_local\\\"]\\n    .str.replace(\\\",\\\", \\\"\\\")\\n    .str.replace(\\\".\\\", \\\"\\\")\\n    .str.replace(\\\"$\\\", \\\"\\\")\\n    .str.replace(r\\\"\\\\D\\\", \\\"0\\\")\\n    .str.extract(\\\"(\\\\d+)\\\", expand=False)\\n    .fillna(0)\\n    .astype(int)\\n)\\n\\ndf_inliers, df_outliers = remove_outlier(\\n    dataframe, \\\"salario_mensual_o_retiro_bruto_en_tu_moneda_local\\\", 3.5\\n)\\n\\n# inliers percent over total\\ndisplay(len(df_inliers) / len(dataframe))\\n\\n# display outliers\\ndisplay(df_outliers[salary_debug_columns])\";\n",
       "                var nbb_cells = Jupyter.notebook.get_cells();\n",
       "                for (var i = 0; i < nbb_cells.length; ++i) {\n",
       "                    if (nbb_cells[i].input_prompt_number == nbb_cell_id) {\n",
       "                        if (nbb_cells[i].get_text() == nbb_unformatted_code) {\n",
       "                             nbb_cells[i].set_text(nbb_formatted_code);\n",
       "                        }\n",
       "                        break;\n",
       "                    }\n",
       "                }\n",
       "            }, 500);\n",
       "            "
      ],
      "text/plain": [
       "<IPython.core.display.Javascript object>"
      ]
     },
     "metadata": {},
     "output_type": "display_data"
    }
   ],
   "source": [
    "dataframe[\"salario_mensual_o_retiro_bruto_en_tu_moneda_local\"] = (\n",
    "    dataframe[\"salario_mensual_o_retiro_bruto_en_tu_moneda_local\"]\n",
    "    .str.replace(\",\", \"\")\n",
    "    .str.replace(\".\", \"\")\n",
    "    .str.replace(\"$\", \"\")\n",
    "    .str.replace(r\"\\D\", \"0\")\n",
    "    .str.extract(\"(\\d+)\", expand=False)\n",
    "    .fillna(0)\n",
    "    .astype(int)\n",
    ")\n",
    "\n",
    "df_inliers, df_outliers = remove_outlier(\n",
    "    dataframe, \"salario_mensual_o_retiro_bruto_en_tu_moneda_local\", 3.5\n",
    ")\n",
    "\n",
    "# inliers percent over total\n",
    "display(len(df_inliers) / len(dataframe))\n",
    "\n",
    "# display outliers\n",
    "display(df_outliers[salary_debug_columns])"
   ]
  },
  {
   "cell_type": "code",
   "execution_count": null,
   "metadata": {
    "colab": {
     "base_uri": "https://localhost:8080/",
     "height": 436
    },
    "colab_type": "code",
    "id": "aSFOKJf8XGLW",
    "outputId": "85f92551-3281-4d3a-d1b0-d99b66a3f1ae"
   },
   "outputs": [],
   "source": [
    "minimum_salary = dataset_metadata[\"minimum_salary\"]\n",
    "df_outliers_lower_limit = df_inliers.query(\n",
    "    \"salario_mensual_bruto_en_tu_moneda_local < @minimum_salary/2.0\"\n",
    ")\n",
    "display(len(df_outliers_lower_limit))\n",
    "display(df_outliers_lower_limit[salary_debug_columns])\n",
    "df_inliers_lower_limit = df_inliers.query(\n",
    "    \"salario_mensual_bruto_en_tu_moneda_local >= @minimum_salary/2.0\"\n",
    ")\n",
    "\n",
    "dataframe = df_inliers_lower_limit"
   ]
  },
  {
   "cell_type": "markdown",
   "metadata": {
    "colab_type": "text",
    "id": "eK4q7bPE0HcU"
   },
   "source": [
    "### 1.7 Helper functions"
   ]
  },
  {
   "cell_type": "code",
   "execution_count": null,
   "metadata": {
    "colab": {},
    "colab_type": "code",
    "id": "UWClfafD0QU_"
   },
   "outputs": [],
   "source": [
    "def invert_non_representative_values(\n",
    "    dataframe,\n",
    "    column,\n",
    "    representative_values,\n",
    "    value_column=\"salario_mensual_bruto_en_tu_moneda_local\",\n",
    "):\n",
    "    df.loc[\n",
    "        df.eval(\"{} not in @representative_values\".format(column)), value_column\n",
    "    ] *= -1\n",
    "    return df\n",
    "\n",
    "\n",
    "def filter_valid_top_values(\n",
    "    dataframe,\n",
    "    column,\n",
    "    top_values,\n",
    "    value_column=\"salario_mensual_bruto_en_tu_moneda_local\",\n",
    "):\n",
    "    return dataframe.query(\n",
    "        '{} in @top_values & {} != \"DELETEME\"'.format(column, column)\n",
    "    )\n",
    "\n",
    "\n",
    "def get_two_dimensional_median_with_outliers_filtered(\n",
    "    dataframe, group_by_columns, value_column=\"salario_mensual_bruto_en_tu_moneda_local\"\n",
    "):\n",
    "    \"\"\"\n",
    "  Given a dataframe, groups data by the first given column in group_by_columns, computes median\n",
    "  and sets to zero all values that have less than 5% of representation on the second column\n",
    "  \"\"\"\n",
    "    dfl = (\n",
    "        dataframe.groupby(group_by_columns)\n",
    "        .size()\n",
    "        .to_frame()\n",
    "        .groupby(level=0)\n",
    "        .apply(lambda x: x / float(x.sum()))\n",
    "        .rename(columns={0: \"population\"})\n",
    "        .query(\"population > 0.05\")\n",
    "        .drop(columns=[\"population\"])\n",
    "        .reset_index()\n",
    "    )\n",
    "    dfr = (\n",
    "        dataframe.groupby(group_by_columns)\n",
    "        .median()[value_column]\n",
    "        .fillna(0)\n",
    "        .to_frame()\n",
    "        .reset_index()\n",
    "    )\n",
    "    return (\n",
    "        pd.merge(dfl, dfr, on=group_by_columns, how=\"inner\")\n",
    "        .groupby(group_by_columns)\n",
    "        .min()\n",
    "        .unstack(group_by_columns[1])[value_column]\n",
    "        .fillna(0)\n",
    "    )"
   ]
  },
  {
   "cell_type": "markdown",
   "metadata": {
    "colab_type": "text",
    "id": "5AnmRksKsF2C"
   },
   "source": [
    "## 2. Análisis de resultados\n",
    "\n",
    "Análisis exploratorio de los datos, los resultados se exportan en un JSON llamado 'charts'"
   ]
  },
  {
   "cell_type": "code",
   "execution_count": null,
   "metadata": {
    "colab": {
     "base_uri": "https://localhost:8080/",
     "height": 34
    },
    "colab_type": "code",
    "id": "YavbnV9V8S1d",
    "outputId": "a74a5978-baa6-49f7-9930-c55a481fc024"
   },
   "outputs": [],
   "source": [
    "charts = {\n",
    "    \"total_surveyed\": len(raw_dataframe),\n",
    "    \"total_analyzed_surveyed\": len(dataframe),\n",
    "}\n",
    "\n",
    "display(charts)\n",
    "\n",
    "\n",
    "def to_rechart(df, max=0):\n",
    "    \"\"\"\n",
    "  if max is set, groups the exceeded rows into 'Otros' column, summing values\n",
    "  \"\"\"\n",
    "    if max != 0:\n",
    "        # df = df.sort_values(by, ascending=False)\n",
    "        others = df[max:].sum()\n",
    "        df = df[:max]\n",
    "        df.loc[\"Otros\"] = others\n",
    "    return {\n",
    "        \"data\": [\n",
    "            {\"name\": str(name), **(data if isinstance(data, dict) else {\"value\": data})}\n",
    "            for name, data in df.T.to_dict().items()\n",
    "        ],\n",
    "    }"
   ]
  },
  {
   "cell_type": "markdown",
   "metadata": {
    "colab_type": "text",
    "id": "aA2B_mdpstgu"
   },
   "source": [
    "### 2.1. Perfiles"
   ]
  },
  {
   "cell_type": "markdown",
   "metadata": {
    "colab_type": "text",
    "id": "fIVfsN0rtmTE"
   },
   "source": [
    "#### 2.1.1. Regiones"
   ]
  },
  {
   "cell_type": "code",
   "execution_count": null,
   "metadata": {
    "colab": {
     "base_uri": "https://localhost:8080/",
     "height": 265
    },
    "colab_type": "code",
    "id": "Ds2H-QVihjI8",
    "outputId": "e88907c7-3de4-4a70-a490-ece96cd736bb"
   },
   "outputs": [],
   "source": [
    "df = dataframe[\"donde_estas_trabajando\"].value_counts(normalize=True, sort=True)\n",
    "\n",
    "df.plot(kind=\"barh\", logx=False)\n",
    "charts[\"regions_percent\"] = to_rechart(df)"
   ]
  },
  {
   "cell_type": "markdown",
   "metadata": {
    "colab_type": "text",
    "id": "a3BGy0QAuclW"
   },
   "source": [
    "#### 2.1.2. Roles (Posición, Open Source, Hobbie)"
   ]
  },
  {
   "cell_type": "code",
   "execution_count": null,
   "metadata": {
    "colab": {
     "base_uri": "https://localhost:8080/",
     "height": 266
    },
    "colab_type": "code",
    "id": "NeCT2zbiuclX",
    "outputId": "2dbf1c5c-88aa-463f-ce80-50730d52a1c2"
   },
   "outputs": [],
   "source": [
    "df = dataframe[\"trabajo_de\"].value_counts(normalize=True, sort=True)\n",
    "\n",
    "df[:30].plot.barh()\n",
    "charts[\"roles_percent\"] = to_rechart(df, 30)"
   ]
  },
  {
   "cell_type": "code",
   "execution_count": null,
   "metadata": {
    "colab": {
     "base_uri": "https://localhost:8080/",
     "height": 265
    },
    "colab_type": "code",
    "id": "wabc6fflucla",
    "outputId": "e8a0bf6e-146a-4e68-f5b5-72df6983605a"
   },
   "outputs": [],
   "source": [
    "df = dataframe[\"contribuis_a_proyectos_open_source\"].value_counts(\n",
    "    normalize=True, sort=True\n",
    ")\n",
    "\n",
    "df.plot.barh()\n",
    "charts[\"opensource_percent\"] = to_rechart(df)"
   ]
  },
  {
   "cell_type": "code",
   "execution_count": null,
   "metadata": {
    "colab": {
     "base_uri": "https://localhost:8080/",
     "height": 265
    },
    "colab_type": "code",
    "id": "Hn3lo1JfvsrK",
    "outputId": "ab9f1a2c-dbd3-4c21-bedb-cc3debe509d7"
   },
   "outputs": [],
   "source": [
    "df = dataframe[\"programas_como_hobbie\"].value_counts(normalize=True, sort=True)\n",
    "\n",
    "df.plot.barh()\n",
    "charts[\"hobbie_percent\"] = to_rechart(df)"
   ]
  },
  {
   "cell_type": "markdown",
   "metadata": {
    "colab_type": "text",
    "id": "9I7wftJlwMny"
   },
   "source": [
    "#### 2.1.3. Experiencia"
   ]
  },
  {
   "cell_type": "code",
   "execution_count": null,
   "metadata": {
    "colab": {
     "base_uri": "https://localhost:8080/",
     "height": 265
    },
    "colab_type": "code",
    "id": "6Ajc_AYDwMn1",
    "outputId": "90e49c5b-2ffc-4bb6-a365-99635e2daafa"
   },
   "outputs": [],
   "source": [
    "df = dataframe[\"anos_de_experiencia\"].copy()\n",
    "df = df.groupby(\n",
    "    pd.cut(\n",
    "        df.values,\n",
    "        [0, 1, 2, 3, 5, 8, 13, 21, 34, 55],\n",
    "        labels=[\"0-1\", \"2\", \"3\", \"4-5\", \"6-8\", \"9-13\", \"14-21\", \"22-34\", \"35-55\"],\n",
    "    )\n",
    ").count() / len(df)\n",
    "\n",
    "df.plot.barh()\n",
    "charts[\"experience_years_percent\"] = to_rechart(df.sort_index())"
   ]
  },
  {
   "cell_type": "code",
   "execution_count": null,
   "metadata": {
    "colab": {
     "base_uri": "https://localhost:8080/",
     "height": 265
    },
    "colab_type": "code",
    "id": "QrsshohswMn4",
    "outputId": "3e01a9ff-c923-4802-f98a-db0ba2d8655f"
   },
   "outputs": [],
   "source": [
    "df = dataframe[\"anos_en_la_empresa_actual\"].copy()\n",
    "df = df.groupby(\n",
    "    pd.cut(\n",
    "        df.values,\n",
    "        [0, 1, 2, 3, 5, 8, 13, 21, 34],\n",
    "        labels=[\"0-1\", \"2\", \"3\", \"4-5\", \"6-8\", \"9-13\", \"14-21\", \"22-34\"],\n",
    "    )\n",
    ").count() / len(df)\n",
    "\n",
    "df.plot.barh()\n",
    "charts[\"experience_years_in_company\"] = to_rechart(df.sort_index())"
   ]
  },
  {
   "cell_type": "code",
   "execution_count": null,
   "metadata": {
    "colab": {
     "base_uri": "https://localhost:8080/",
     "height": 265
    },
    "colab_type": "code",
    "id": "t-tse5hjwMn9",
    "outputId": "9fbb3b6c-753f-4aa4-83bd-d7e1fc3a00a1"
   },
   "outputs": [],
   "source": [
    "df = dataframe[\"anos_en_el_puesto_actual\"].copy()\n",
    "df = df.groupby(\n",
    "    pd.cut(\n",
    "        df.values,\n",
    "        [0, 1, 2, 3, 5, 8, 13, 21, 34],\n",
    "        labels=[\"0-1\", \"2\", \"3\", \"4-5\", \"6-8\", \"9-13\", \"14-21\", \"22-34\"],\n",
    "    )\n",
    ").count() / len(df)\n",
    "\n",
    "df.plot.barh()\n",
    "charts[\"experience_years_in_position\"] = to_rechart(df.sort_index())"
   ]
  },
  {
   "cell_type": "markdown",
   "metadata": {
    "colab_type": "text",
    "id": "0zvr4DkVxyM3"
   },
   "source": [
    "#### 2.1.4. Educación"
   ]
  },
  {
   "cell_type": "code",
   "execution_count": null,
   "metadata": {
    "colab": {
     "base_uri": "https://localhost:8080/",
     "height": 265
    },
    "colab_type": "code",
    "id": "gKuEob6exyM4",
    "outputId": "695533d4-b52e-464c-e46f-48b3b8fc6ea3"
   },
   "outputs": [],
   "source": [
    "df = dataframe.groupby([\"nivel_de_estudios_alcanzado\", \"estado\"])[\n",
    "    \"nivel_de_estudios_alcanzado\"\n",
    "].count().unstack(\"estado\").fillna(0).sort_values(\n",
    "    by=[\"Completado\"], ascending=False\n",
    ") / len(\n",
    "    dataframe\n",
    ")\n",
    "\n",
    "df.plot(kind=\"barh\", stacked=True, logx=False)\n",
    "charts[\"education_stacked\"] = to_rechart(df)"
   ]
  },
  {
   "cell_type": "code",
   "execution_count": null,
   "metadata": {
    "colab": {
     "base_uri": "https://localhost:8080/",
     "height": 573
    },
    "colab_type": "code",
    "id": "c8RHAzGQYcVT",
    "outputId": "e9482dd0-429c-47b4-e7ff-8f0122168e06"
   },
   "outputs": [],
   "source": [
    "# Para el grado de completitud por carrera se tendrá en cuenta el tamaño de la muestra, se considerarán insuficientes los datos de aquellas carreras que representen menos del 0.5% del total\n",
    "\n",
    "df = (\n",
    "    dataframe[\"carrera\"]\n",
    "    .value_counts(normalize=True, sort=True)\n",
    "    .to_frame()\n",
    "    .query(\"carrera > 0.005\")\n",
    ")\n",
    "\n",
    "display(len(dataframe[\"carrera\"]) * 0.005)\n",
    "chosen_careers = df.index\n",
    "display(chosen_careers)\n",
    "\n",
    "df = dataframe.query('carrera != \"DELETEME\"')[\"carrera\"].value_counts(\n",
    "    normalize=True, sort=True\n",
    ")\n",
    "charts[\"careeres_percent\"] = to_rechart(df, 40)\n",
    "\n",
    "df = dataframe.query('carrera != \"DELETEME\"').groupby([\"carrera\", \"estado\"])[\n",
    "    \"carrera\"\n",
    "].count().unstack(\"estado\").fillna(0).sort_values(\n",
    "    by=[\"Completado\", \"En curso\"], ascending=False\n",
    ") / len(\n",
    "    dataframe\n",
    ")\n",
    "\n",
    "df.loc[\n",
    "    df.eval(\"carrera not in @chosen_careers\"), [\"Completado\", \"En curso\", \"Incompleto\"]\n",
    "] *= -1\n",
    "\n",
    "df[:40].plot(kind=\"barh\", stacked=True, logx=False)\n",
    "charts[\"careeres_stacked_percent\"] = to_rechart(df[:40])"
   ]
  },
  {
   "cell_type": "code",
   "execution_count": null,
   "metadata": {
    "colab": {
     "base_uri": "https://localhost:8080/",
     "height": 600
    },
    "colab_type": "code",
    "id": "MrHdXKZ7KZrr",
    "outputId": "f4aecd4f-c1fc-475f-b1cc-13e9aa0c0a58"
   },
   "outputs": [],
   "source": [
    "df = dataframe.query('universidad != \"DELETEME\"')[\"universidad\"].value_counts(\n",
    "    normalize=True, sort=True\n",
    ")\n",
    "\n",
    "df[:20].plot(kind=\"barh\")\n",
    "charts[\"universities_percent\"] = to_rechart(df, 40)\n",
    "\n",
    "df = dataframe.query('universidad != \"DELETEME\"').groupby([\"universidad\", \"estado\"])[\n",
    "    \"universidad\"\n",
    "].count().unstack(\"estado\").fillna(0).sort_values(\n",
    "    by=[\"Completado\", \"En curso\"], ascending=False\n",
    ") / len(\n",
    "    dataframe\n",
    ")\n",
    "\n",
    "df[:40].plot(kind=\"barh\", stacked=True, logx=False)\n",
    "charts[\"universities_stacked_percent\"] = to_rechart(df, 40)"
   ]
  },
  {
   "cell_type": "code",
   "execution_count": null,
   "metadata": {
    "colab": {
     "base_uri": "https://localhost:8080/",
     "height": 469
    },
    "colab_type": "code",
    "id": "vuLOwUa8K0OW",
    "outputId": "38ed0a07-93d8-4ca5-f28a-4484a6db78b1"
   },
   "outputs": [],
   "source": [
    "mask = dataframe[\"realizaste_cursos_de_especializacion\"].str.contains(\"Sí\")\n",
    "dataframe.loc[mask, \"hizo_curso\"] = \"Sí\"\n",
    "dataframe.loc[~mask, \"hizo_curso\"] = \"No\"\n",
    "\n",
    "df = dataframe[\"hizo_curso\"].value_counts(normalize=True, sort=True)\n",
    "\n",
    "df.plot(kind=\"barh\")\n",
    "charts[\"specialization_percent\"] = to_rechart(df)"
   ]
  },
  {
   "cell_type": "code",
   "execution_count": null,
   "metadata": {
    "colab": {
     "base_uri": "https://localhost:8080/",
     "height": 469
    },
    "colab_type": "code",
    "id": "TmNvrhaV9y-2",
    "outputId": "70993b00-be13-443b-ac2d-349c6c0c32ef"
   },
   "outputs": [],
   "source": [
    "mask_empleador = dataframe[\"realizaste_cursos_de_especializacion\"].str.contains(\n",
    "    \"un empleador\"\n",
    ")\n",
    "mask_particular = dataframe[\"realizaste_cursos_de_especializacion\"].str.contains(\n",
    "    \"de forma particular\"\n",
    ")\n",
    "\n",
    "dataframe.loc[mask_particular, \"quien_paga\"] = \"Solo particular\"\n",
    "dataframe.loc[mask_empleador, \"quien_paga\"] = \"Solo empleador\"\n",
    "dataframe.loc[mask_empleador & mask_particular, \"quien_paga\"] = \"Empleador y particular\"\n",
    "\n",
    "df = dataframe[\"quien_paga\"].value_counts(normalize=True, sort=True)\n",
    "\n",
    "df.plot(kind=\"barh\")\n",
    "charts[\"specialization_pays_percent\"] = to_rechart(df)"
   ]
  },
  {
   "cell_type": "markdown",
   "metadata": {
    "colab_type": "text",
    "id": "9wL-VR8QqEge"
   },
   "source": [
    "#### 2.1.5. Demografía"
   ]
  },
  {
   "cell_type": "code",
   "execution_count": null,
   "metadata": {
    "colab": {
     "base_uri": "https://localhost:8080/",
     "height": 265
    },
    "colab_type": "code",
    "id": "AXFDpY5rqQ1r",
    "outputId": "95f4b29b-6cc5-4aa1-9bf8-091b8c0a9a25"
   },
   "outputs": [],
   "source": [
    "df = dataframe[\"me_identifico\"].value_counts(normalize=True, sort=True)\n",
    "\n",
    "df.plot(kind=\"barh\")\n",
    "charts[\"demographics_gender_percent\"] = to_rechart(df)"
   ]
  },
  {
   "cell_type": "code",
   "execution_count": null,
   "metadata": {
    "colab": {
     "base_uri": "https://localhost:8080/",
     "height": 265
    },
    "colab_type": "code",
    "id": "iyDUI5vpqr2h",
    "outputId": "e502aff5-926f-4ae9-c010-f155e9c4eacb"
   },
   "outputs": [],
   "source": [
    "df = dataframe[\"orientacion_sexual\"].value_counts(normalize=True, sort=True)\n",
    "\n",
    "df[:3].plot(kind=\"barh\")\n",
    "charts[\"demographics_sexual_orientation_percent\"] = to_rechart(df, 3)"
   ]
  },
  {
   "cell_type": "markdown",
   "metadata": {
    "colab_type": "text",
    "id": "VpGAhMXKhH9H"
   },
   "source": [
    "### 2.2. Salarios"
   ]
  },
  {
   "cell_type": "markdown",
   "metadata": {
    "colab_type": "text",
    "id": "ZCtZk8z4hTRe"
   },
   "source": [
    "#### 2.2.1. Progresión Histórica\n",
    "\n",
    "https://github.com/openqube/openqube-sueldos/blob/release/2020.02/pipeline/historical-data-analysis.ipynb"
   ]
  },
  {
   "cell_type": "markdown",
   "metadata": {
    "colab_type": "text",
    "id": "eP2bq_PohZu6"
   },
   "source": [
    "#### 2.2.2. Región"
   ]
  },
  {
   "cell_type": "code",
   "execution_count": null,
   "metadata": {
    "colab": {
     "base_uri": "https://localhost:8080/",
     "height": 85
    },
    "colab_type": "code",
    "id": "JC10FHONaUrV",
    "outputId": "ad42f182-5acf-4061-de22-ff55ce995864"
   },
   "outputs": [],
   "source": [
    "# Para el análisis regional se tendrá en cuenta el tamaño de la muestra, se marcarán como insuficientes los datos de aquellas regiones que representen menos del 0.5% del total\n",
    "\n",
    "df = (\n",
    "    dataframe[\"donde_estas_trabajando\"]\n",
    "    .value_counts(normalize=True, sort=True)\n",
    "    .to_frame()\n",
    "    .query(\"donde_estas_trabajando > 0.005\")\n",
    ")\n",
    "\n",
    "display(len(dataframe[\"donde_estas_trabajando\"]) * 0.005)\n",
    "chosen_regions = df.index\n",
    "display(chosen_regions)"
   ]
  },
  {
   "cell_type": "code",
   "execution_count": null,
   "metadata": {
    "colab": {
     "base_uri": "https://localhost:8080/",
     "height": 265
    },
    "colab_type": "code",
    "id": "LmhpwE1VHnAz",
    "outputId": "ff6f38f7-9eae-4207-d6a3-2b012388a946"
   },
   "outputs": [],
   "source": [
    "# Éstas serán convertidas a valores negativos, de manera de poder distinguirlas sin perjudicar a quienes deseen\n",
    "# observar los resultados más allá del tamaño muestral acotado\n",
    "\n",
    "df = dataframe.copy()\n",
    "\n",
    "df.loc[\n",
    "    df.eval(\"donde_estas_trabajando not in @chosen_regions\"),\n",
    "    \"salario_mensual_bruto_en_tu_moneda_local\",\n",
    "] *= -1\n",
    "df = (\n",
    "    df.groupby([\"donde_estas_trabajando\"])\n",
    "    .median()\n",
    "    .unstack()[\"salario_mensual_bruto_en_tu_moneda_local\"]\n",
    "    .sort_values(ascending=False)\n",
    ")\n",
    "\n",
    "df.plot(kind=\"barh\")\n",
    "charts[\"regions_salary_median\"] = to_rechart(df)"
   ]
  },
  {
   "cell_type": "code",
   "execution_count": null,
   "metadata": {
    "colab": {
     "base_uri": "https://localhost:8080/",
     "height": 265
    },
    "colab_type": "code",
    "id": "icKj3Pow4xVJ",
    "outputId": "cf996d5e-521b-4e69-b6dd-a6d2a446e0ea"
   },
   "outputs": [],
   "source": [
    "df = dataframe.copy()\n",
    "df.loc[\n",
    "    df.eval(\"donde_estas_trabajando not in @chosen_regions\"),\n",
    "    \"que_tan_conforme_estas_con_tu_sueldo\",\n",
    "] *= -1\n",
    "df = (\n",
    "    df.groupby([\"donde_estas_trabajando\"])\n",
    "    .mean()\n",
    "    .unstack()[\"que_tan_conforme_estas_con_tu_sueldo\"]\n",
    "    .sort_values(ascending=False)\n",
    ")\n",
    "\n",
    "df.plot(kind=\"barh\")\n",
    "charts[\"regions_salary_acquiescence\"] = to_rechart(df)"
   ]
  },
  {
   "cell_type": "code",
   "execution_count": null,
   "metadata": {
    "colab": {
     "base_uri": "https://localhost:8080/",
     "height": 265
    },
    "colab_type": "code",
    "id": "_LsAI3DujMJk",
    "outputId": "86b9f322-ad02-4749-91d9-af2953198b41"
   },
   "outputs": [],
   "source": [
    "df = dataframe.copy()\n",
    "df.loc[\n",
    "    df.eval(\"donde_estas_trabajando not in @chosen_regions\"),\n",
    "    \"de_que_fue_el_ajuste_total\",\n",
    "] *= -1\n",
    "df = (\n",
    "    df.groupby([\"donde_estas_trabajando\"])\n",
    "    .median()\n",
    "    .unstack()[\"de_que_fue_el_ajuste_total\"]\n",
    "    .sort_values(ascending=False)\n",
    "    / 100\n",
    ")\n",
    "\n",
    "df.plot(kind=\"barh\")\n",
    "charts[\"regions_salary_adjustment\"] = to_rechart(df)"
   ]
  },
  {
   "cell_type": "markdown",
   "metadata": {
    "colab_type": "text",
    "id": "o3HG_wTkUj1w"
   },
   "source": [
    "##### 2.2.2.1. Región (mínimos por seniority) - no incluídos en el reporte"
   ]
  },
  {
   "cell_type": "code",
   "execution_count": null,
   "metadata": {
    "colab": {
     "base_uri": "https://localhost:8080/",
     "height": 297
    },
    "colab_type": "code",
    "id": "lx4Fhpa7KuSY",
    "outputId": "18b5ac98-ab0f-4b13-f80c-076d9c17542d"
   },
   "outputs": [],
   "source": [
    "df = (\n",
    "    dataframe.query(\"donde_estas_trabajando in @chosen_regions\")\n",
    "    .groupby([\"donde_estas_trabajando\", \"seniority\"])[\n",
    "        \"salario_mensual_bruto_en_tu_moneda_local\"\n",
    "    ]\n",
    "    .min()\n",
    "    .unstack()\n",
    "    .sort_values(by=[\"Senior\"], ascending=False)\n",
    ")\n",
    "display(df)"
   ]
  },
  {
   "cell_type": "markdown",
   "metadata": {
    "colab_type": "text",
    "id": "Y8d3zfzQUvZG"
   },
   "source": [
    "##### 2.2.2.2. Región (máximos por seniority) - no incluídos en el reporte"
   ]
  },
  {
   "cell_type": "code",
   "execution_count": null,
   "metadata": {
    "colab": {
     "base_uri": "https://localhost:8080/",
     "height": 297
    },
    "colab_type": "code",
    "id": "qlCAVwqVU5mA",
    "outputId": "93e6d2c7-1f2f-4531-e0af-8a53250ba9b3"
   },
   "outputs": [],
   "source": [
    "df = (\n",
    "    dataframe.query(\"donde_estas_trabajando in @chosen_regions\")\n",
    "    .groupby([\"donde_estas_trabajando\", \"seniority\"])[\n",
    "        \"salario_mensual_bruto_en_tu_moneda_local\"\n",
    "    ]\n",
    "    .max()\n",
    "    .unstack()\n",
    "    .sort_values(by=[\"Senior\"], ascending=False)\n",
    ")\n",
    "display(df)"
   ]
  },
  {
   "cell_type": "markdown",
   "metadata": {
    "colab_type": "text",
    "id": "TwEqMNxLheUN"
   },
   "source": [
    "#### 2.2.3. Puesto"
   ]
  },
  {
   "cell_type": "markdown",
   "metadata": {
    "colab_type": "text",
    "id": "xQK5_e3cyCZ0"
   },
   "source": [
    "##### 2.2.3.1. Seniority\n",
    "\n",
    "(metodología vieja, queda sólo para reproducir reportes previos)"
   ]
  },
  {
   "cell_type": "code",
   "execution_count": null,
   "metadata": {
    "colab": {
     "base_uri": "https://localhost:8080/",
     "height": 401
    },
    "colab_type": "code",
    "id": "MLnR7fAlje5v",
    "outputId": "93d9f43c-9242-47ad-adb7-497754a8717c"
   },
   "outputs": [],
   "source": [
    "# Para este análisis se tendrá en cuenta el tamaño de la muestra, se marcarán como insuficientes los datos de aquellas que representen menos del 0.5% del total\n",
    "\n",
    "df = (\n",
    "    dataframe[\"trabajo_de\"]\n",
    "    .value_counts(normalize=True, sort=True)\n",
    "    .to_frame()\n",
    "    .query(\"trabajo_de > 0.005\")\n",
    ")\n",
    "\n",
    "chosen_roles = list(df.index)\n",
    "excluded_roles = {\n",
    "    \"VP / C-Level\"\n",
    "}  # Excluído porque no contaba con todas las seniorities\n",
    "\n",
    "df = dataframe[\"trabajo_de\"].value_counts(normalize=True, sort=True)\n",
    "candidate_roles = list(df[:26].index)\n",
    "top_roles = [r for r in candidate_roles if r not in excluded_roles]\n",
    "\n",
    "df = (\n",
    "    dataframe.query(\"trabajo_de in @top_roles\")\n",
    "    .groupby([\"trabajo_de\", \"seniority\"])\n",
    "    .median()\n",
    "    .unstack(\"seniority\")[\"salario_mensual_bruto_en_tu_moneda_local\"]\n",
    "    .fillna(0)\n",
    ")  # .sort_values(by=['salario_mensual_bruto_en_tu_moneda_local'], ascending=False)\n",
    "\n",
    "df.loc[\n",
    "    df.eval(\"trabajo_de not in @chosen_roles\"), [\"Junior\", \"Semi-Senior\", \"Senior\"]\n",
    "] *= -1\n",
    "\n",
    "plt.figure(figsize=(12, 8))\n",
    "df.plot(kind=\"barh\", ax=plt.gca())\n",
    "charts[\"roles_seniority_salary_median\"] = to_rechart(df[:30])"
   ]
  },
  {
   "cell_type": "markdown",
   "metadata": {},
   "source": [
    "##### 2.2.3.1. Seniority\n",
    "\n",
    "La metodología previa consideraba a una `position` con \"suficientes datos\" si la sumatoria de todas sus seniorities (junior, senior, semisr) contenía al menos un 0.5% del total de las respuestas.\n",
    "\n",
    "La nueva metodología considera cada combinación (`position`, `seniority`) con suficientes datos si hay al menos 6 valores para obtener la mediana."
   ]
  },
  {
   "cell_type": "code",
   "execution_count": null,
   "metadata": {},
   "outputs": [],
   "source": [
    "salary_df = dataframe.copy()[dataframe.seniority.notna()]\n",
    "salary_df['position_and_seniority'] = salary_df[[\"trabajo_de\", \"seniority\"]].agg('__'.join, axis=1)\n",
    "\n",
    "df = (\n",
    "    (salary_df.position_and_seniority.value_counts(sort=True).to_frame())\n",
    "    .query(\"position_and_seniority > 5\")\n",
    ")\n",
    "top_positions = df.index\n",
    "candidate_roles = [position.split(\"__\")[0] for position in top_positions]\n",
    "excluded_roles = {\n",
    "    \"VP / C-Level\"\n",
    "}  # Excluído porque no contaba con todas las seniorities\n",
    "top_roles = [r for r in candidate_roles if r not in excluded_roles]\n",
    "\n",
    "df = (\n",
    "    salary_df.query(\"trabajo_de in @top_roles\")\n",
    "    .groupby([\"trabajo_de\", \"seniority\"])\n",
    "    .median()\n",
    "    .unstack(\"seniority\")[\"salario_mensual_bruto_en_tu_moneda_local\"]\n",
    "    .fillna(0)\n",
    ")\n",
    "\n",
    "# invert positions and seniorities that have insufficient data.\n",
    "df *= -1\n",
    "for pos in top_positions:\n",
    "    role = pos.split(\"__\")[0]\n",
    "    if role in excluded_roles:\n",
    "        continue\n",
    "    srty = pos.split(\"__\")[1]\n",
    "    \n",
    "    df.loc[role][srty] *= -1\n",
    "\n",
    "plt.figure(figsize=(12, 8))\n",
    "df.plot(kind=\"barh\", ax=plt.gca())\n",
    "charts[\"roles_seniority_salary_median\"] = to_rechart(df[:30])"
   ]
  },
  {
   "cell_type": "markdown",
   "metadata": {
    "colab_type": "text",
    "id": "ooFOWO-gyW5H"
   },
   "source": [
    "##### 2.2.3.1. Industria"
   ]
  },
  {
   "cell_type": "code",
   "execution_count": null,
   "metadata": {
    "colab": {
     "base_uri": "https://localhost:8080/",
     "height": 401
    },
    "colab_type": "code",
    "id": "-uqSl_PmybrB",
    "outputId": "80559be5-e4a8-4e2a-8699-540d6d054d15"
   },
   "outputs": [],
   "source": [
    "# Para este análisis se tendrá en cuenta el tamaño de la muestra, se marcarán como insuficientes los datos de aquellas que representen menos del 0.5% del total\n",
    "df = (\n",
    "    dataframe[\"trabajo_de\"]\n",
    "    .value_counts(normalize=True, sort=True)\n",
    "    .to_frame()\n",
    "    .query(\"trabajo_de > 0.005\")\n",
    ")\n",
    "\n",
    "display(len(dataframe[\"trabajo_de\"]) * 0.005)\n",
    "chosen_roles = df.index\n",
    "display(chosen_roles)\n",
    "\n",
    "\n",
    "df = dataframe[\"trabajo_de\"].value_counts(normalize=True, sort=True)\n",
    "top_roles = df[:26].index\n",
    "\n",
    "df = (\n",
    "    dataframe.query(\"trabajo_de in @top_roles\")\n",
    "    .groupby([\"trabajo_de\", \"actividad_principal\"])\n",
    "    .median()\n",
    "    .unstack(\"actividad_principal\")[\"salario_mensual_bruto_en_tu_moneda_local\"]\n",
    "    .fillna(0)\n",
    ")  # .sort_values(by=['salario_mensual_bruto_en_tu_moneda_local'], ascending=False)\n",
    "\n",
    "df.loc[\n",
    "    df.eval(\"trabajo_de not in @chosen_roles\"),\n",
    "    [\n",
    "        \"Otras industrias\",\n",
    "        \"Producto basado en Software\",\n",
    "        \"Servicios / Consultoría de Software / Digital\",\n",
    "    ],\n",
    "] *= -1\n",
    "\n",
    "df.plot(kind=\"barh\")\n",
    "charts[\"roles_actividad_principal_salary_median\"] = to_rechart(df[:30])"
   ]
  },
  {
   "cell_type": "code",
   "execution_count": null,
   "metadata": {},
   "outputs": [],
   "source": [
    "df.head()"
   ]
  },
  {
   "cell_type": "markdown",
   "metadata": {
    "colab_type": "text",
    "id": "s6YAOhKAymxR"
   },
   "source": [
    "##### 2.2.3.3. Seniority e Industria"
   ]
  },
  {
   "cell_type": "code",
   "execution_count": null,
   "metadata": {
    "colab": {
     "base_uri": "https://localhost:8080/",
     "height": 265
    },
    "colab_type": "code",
    "id": "8s4MjFoKvZ3C",
    "outputId": "e5c541da-4159-43c5-d2c7-2a9fdb384fc9"
   },
   "outputs": [],
   "source": [
    "df = (\n",
    "    dataframe.groupby([\"actividad_principal\", \"seniority\"])\n",
    "    .median()\n",
    "    .unstack(\"seniority\")[\"salario_mensual_bruto_en_tu_moneda_local\"]\n",
    ")  # .sort_values(by=[''],ascending=False)\n",
    "\n",
    "df.plot.barh()\n",
    "charts[\"actividad_principal_seniority_salary_median\"] = to_rechart(df)"
   ]
  },
  {
   "cell_type": "markdown",
   "metadata": {
    "colab_type": "text",
    "id": "sBoNm5CXx2z3"
   },
   "source": [
    "##### 2.2.3.2. Open source / hobbie"
   ]
  },
  {
   "cell_type": "code",
   "execution_count": null,
   "metadata": {
    "colab": {
     "base_uri": "https://localhost:8080/",
     "height": 265
    },
    "colab_type": "code",
    "id": "phk-7qsplDl9",
    "outputId": "e023b546-49f2-4ff0-a7c5-c9bd3968bf87"
   },
   "outputs": [],
   "source": [
    "df = (\n",
    "    dataframe.groupby([\"contribuis_a_proyectos_open_source\"])\n",
    "    .median()\n",
    "    .unstack()[\"salario_mensual_bruto_en_tu_moneda_local\"]\n",
    "    .sort_values(ascending=False)\n",
    ")\n",
    "\n",
    "df.plot(kind=\"barh\")\n",
    "charts[\"opensource_salary_median\"] = to_rechart(df)"
   ]
  },
  {
   "cell_type": "code",
   "execution_count": null,
   "metadata": {
    "colab": {
     "base_uri": "https://localhost:8080/",
     "height": 265
    },
    "colab_type": "code",
    "id": "wUo_M7kOlOdg",
    "outputId": "db7047a5-9bf0-4693-f9ee-5cb437b6f751"
   },
   "outputs": [],
   "source": [
    "df = (\n",
    "    dataframe.groupby([\"programas_como_hobbie\"])\n",
    "    .median()\n",
    "    .unstack()[\"salario_mensual_bruto_en_tu_moneda_local\"]\n",
    "    .sort_values(ascending=False)\n",
    ")\n",
    "\n",
    "df.plot.barh()\n",
    "charts[\"hobbie_salary_median\"] = to_rechart(df)"
   ]
  },
  {
   "cell_type": "markdown",
   "metadata": {
    "colab_type": "text",
    "id": "a3fKYp8uhkxi"
   },
   "source": [
    "#### 2.2.4. Carrera"
   ]
  },
  {
   "cell_type": "code",
   "execution_count": null,
   "metadata": {
    "colab": {
     "base_uri": "https://localhost:8080/",
     "height": 731
    },
    "colab_type": "code",
    "id": "uGKeMPvVqgBI",
    "outputId": "1039b651-f01e-4e6c-9368-24a8717ab0e5"
   },
   "outputs": [],
   "source": [
    "df = dataframe.groupby([\"carrera\", \"estado\"])[\"carrera\"].count().unstack(\n",
    "    \"estado\"\n",
    ").fillna(0).sort_values(by=[\"Completado\", \"En curso\"], ascending=False) / len(dataframe)\n",
    "\n",
    "top_careers = df[:30].index\n",
    "\n",
    "# Para este análisis se tendrá en cuenta el tamaño de la muestra, se marcarán como insuficientes los datos de aquellas que representen menos del 0.5% del total\n",
    "df = df[:30][\"Completado\"].to_frame().query(\"Completado > 0.005\")\n",
    "display(df)\n",
    "chosen_careers = df.index"
   ]
  },
  {
   "cell_type": "markdown",
   "metadata": {
    "colab_type": "text",
    "id": "WNmqp1IKoJOo"
   },
   "source": [
    "##### 2.2.4.1. Según Seniority"
   ]
  },
  {
   "cell_type": "code",
   "execution_count": null,
   "metadata": {
    "colab": {
     "base_uri": "https://localhost:8080/",
     "height": 514
    },
    "colab_type": "code",
    "id": "u8MBylywll31",
    "outputId": "d4789171-60db-4fd8-bf1e-dc6ddff7b106"
   },
   "outputs": [],
   "source": [
    "df = dataframe.query('estado == \"Completado\"').copy()\n",
    "df = invert_non_representative_values(df, \"carrera\", chosen_careers)\n",
    "df = filter_valid_top_values(df, \"carrera\", top_careers)\n",
    "df = get_two_dimensional_median_with_outliers_filtered(\n",
    "    df, [\"carrera\", \"seniority\"], \"salario_mensual_bruto_en_tu_moneda_local\"\n",
    ")\n",
    "\n",
    "df[:30].plot(kind=\"barh\")\n",
    "charts[\"carrera_seniority_salary_median\"] = to_rechart(df[:30])\n",
    "\n",
    "\n",
    "df = dataframe.query('estado == \"En curso\"').copy()\n",
    "df = invert_non_representative_values(df, \"carrera\", chosen_careers)\n",
    "df = filter_valid_top_values(df, \"carrera\", top_careers)\n",
    "df = get_two_dimensional_median_with_outliers_filtered(\n",
    "    df, [\"carrera\", \"seniority\"], \"salario_mensual_bruto_en_tu_moneda_local\"\n",
    ")\n",
    "\n",
    "df[:30].plot(kind=\"barh\")\n",
    "charts[\"carrera_seniority_salary_median_encurso\"] = to_rechart(df[:30])"
   ]
  },
  {
   "cell_type": "code",
   "execution_count": null,
   "metadata": {
    "colab": {
     "base_uri": "https://localhost:8080/",
     "height": 1000
    },
    "colab_type": "code",
    "id": "-aUygubpay4R",
    "outputId": "0ab00d42-7f43-4d6c-e0a2-a7f5021c778d"
   },
   "outputs": [],
   "source": [
    "# Cuántos Ingenieros Industriales hay en el resultado obtenido, ya que sobresale del resto\n",
    "df = dataframe.query('carrera in [\"Ingeniería Industrial\"] & estado == \"Completado\"')[\n",
    "    [\"seniority\", \"trabajo_de\", \"salario_mensual_bruto_en_tu_moneda_local\"]\n",
    "].sort_values(by=[\"salario_mensual_bruto_en_tu_moneda_local\"], ascending=False)\n",
    "\n",
    "display(\"Un {:.2f}%\".format(len(df) / len(dataframe) * 100))\n",
    "display(df)"
   ]
  },
  {
   "cell_type": "markdown",
   "metadata": {
    "colab_type": "text",
    "id": "SQfRrrMwoQWO"
   },
   "source": [
    "##### 2.2.4.2. Según Estado de la Carrera"
   ]
  },
  {
   "cell_type": "code",
   "execution_count": null,
   "metadata": {
    "colab": {
     "base_uri": "https://localhost:8080/",
     "height": 266
    },
    "colab_type": "code",
    "id": "h4WhLS8VoFPA",
    "outputId": "d9bc2318-6a4e-4b9c-e1f2-d0a5ee072f2b"
   },
   "outputs": [],
   "source": [
    "df = dataframe.copy()\n",
    "df = invert_non_representative_values(df, \"carrera\", chosen_careers)\n",
    "df = filter_valid_top_values(df, \"carrera\", top_careers)\n",
    "df = get_two_dimensional_median_with_outliers_filtered(\n",
    "    df, [\"carrera\", \"estado\"], \"salario_mensual_bruto_en_tu_moneda_local\"\n",
    ")\n",
    "\n",
    "df[:30].plot(kind=\"barh\")\n",
    "charts[\"carrera_estado_salary_median\"] = to_rechart(df[:30])"
   ]
  },
  {
   "cell_type": "markdown",
   "metadata": {
    "colab_type": "text",
    "id": "2q8MjtLZoTpm"
   },
   "source": [
    "##### 2.2.4.3. Según Nivel de Estudios Alcanzado"
   ]
  },
  {
   "cell_type": "code",
   "execution_count": null,
   "metadata": {
    "colab": {
     "base_uri": "https://localhost:8080/",
     "height": 299
    },
    "colab_type": "code",
    "id": "4UvsvB8HmcNL",
    "outputId": "adb16401-16e1-41a1-e263-1ef2c0f8142d"
   },
   "outputs": [],
   "source": [
    "# Para este análisis se tendrá en cuenta el tamaño de la muestra, se marcarán como insuficientes los datos de aquellas que representen menos del 0.5% del total\n",
    "df = (\n",
    "    dataframe[\"nivel_de_estudios_alcanzado\"]\n",
    "    .value_counts(normalize=True, sort=True)\n",
    "    .to_frame()\n",
    "    .query(\"nivel_de_estudios_alcanzado > 0.005\")\n",
    ")\n",
    "\n",
    "display(len(dataframe[\"nivel_de_estudios_alcanzado\"]) * 0.005)\n",
    "chosen_levels = df.index\n",
    "display(chosen_levels)\n",
    "\n",
    "df = (\n",
    "    dataframe.groupby([\"nivel_de_estudios_alcanzado\"])\n",
    "    .median()\n",
    "    .unstack()[\"salario_mensual_bruto_en_tu_moneda_local\"]\n",
    "    .sort_values(ascending=False)\n",
    "    .to_frame(\"value\")\n",
    ")\n",
    "df.loc[df.eval(\"nivel_de_estudios_alcanzado not in @chosen_levels\"), \"value\"] *= -1\n",
    "\n",
    "df.plot(kind=\"barh\")\n",
    "charts[\"nivel_estudios_salary_median\"] = to_rechart(df)"
   ]
  },
  {
   "cell_type": "markdown",
   "metadata": {
    "colab_type": "text",
    "id": "8PWMgS5s8-Aw"
   },
   "source": [
    "##### 2.2.4.4. Según hicieron o no Cursos de Especialización"
   ]
  },
  {
   "cell_type": "code",
   "execution_count": null,
   "metadata": {
    "colab": {
     "base_uri": "https://localhost:8080/",
     "height": 265
    },
    "colab_type": "code",
    "id": "V0HqJU8P8-dl",
    "outputId": "7c581166-a679-44e1-c59a-9dec3baad632"
   },
   "outputs": [],
   "source": [
    "df = (\n",
    "    dataframe.groupby([\"hizo_curso\"])\n",
    "    .median()\n",
    "    .unstack()[\"salario_mensual_bruto_en_tu_moneda_local\"]\n",
    "    .sort_values(ascending=False)\n",
    ")\n",
    "\n",
    "df.plot(kind=\"barh\")\n",
    "charts[\"hizo_curso_salary_median\"] = to_rechart(df)"
   ]
  },
  {
   "cell_type": "markdown",
   "metadata": {
    "colab_type": "text",
    "id": "GZtsTOKjhnPB"
   },
   "source": [
    "#### 2.2.5. Tecnología"
   ]
  },
  {
   "cell_type": "markdown",
   "metadata": {
    "colab_type": "text",
    "id": "JhXbLArKoYPC"
   },
   "source": [
    "##### 2.2.5.1. Según Plataformas"
   ]
  },
  {
   "cell_type": "code",
   "execution_count": null,
   "metadata": {
    "colab": {
     "base_uri": "https://localhost:8080/",
     "height": 266
    },
    "colab_type": "code",
    "id": "i2flRRSDnWfK",
    "outputId": "cf3675e3-1a91-4f98-82c1-8bff7c638c60"
   },
   "outputs": [],
   "source": [
    "# Para este análisis se tendrá en cuenta el tamaño de la muestra, se marcarán como insuficientes los datos de aquellas que representen menos del 0.5% del total\n",
    "df = (\n",
    "    dataframe[\"plataformas\"]\n",
    "    .str.extractall(r\"(?P<count>[^,]+),? ?\")[\"count\"]\n",
    "    .value_counts(normalize=True, sort=True)\n",
    ")\n",
    "\n",
    "top_platforms = df[:30].index\n",
    "excluded_platforms = {\"OpenStack\"}  # Excluída para mantener escala\n",
    "chosen_platforms = df.to_frame().query(\"count > 0.005\").index\n",
    "\n",
    "df = dataframe.copy()\n",
    "df = (\n",
    "    df[\"plataformas\"]\n",
    "    .str.split(\",\")\n",
    "    .apply(pd.Series)\n",
    "    .merge(df, right_index=True, left_index=True)\n",
    "    .drop([\"plataformas\"], axis=1)\n",
    "    .melt(\n",
    "        id_vars=[\"seniority\", \"salario_mensual_bruto_en_tu_moneda_local\"],\n",
    "        value_name=\"plataforma\",\n",
    "    )\n",
    "    .drop([\"variable\"], axis=1)\n",
    "    .dropna()\n",
    "    .query(\"plataforma in @top_platforms\")\n",
    "    .query(\"plataforma not in @excluded_platforms\")\n",
    "    .groupby([\"plataforma\", \"seniority\"])\n",
    "    .median()\n",
    "    .unstack(\"seniority\")[\"salario_mensual_bruto_en_tu_moneda_local\"]\n",
    "    .fillna(0)\n",
    ")\n",
    "\n",
    "df.loc[\n",
    "    df.eval(\"plataforma not in @chosen_platforms\"), [\"Junior\", \"Semi-Senior\", \"Senior\"]\n",
    "] *= -1\n",
    "\n",
    "df[:30].plot(kind=\"barh\")\n",
    "charts[\"plataformas_seniority_salary_median\"] = to_rechart(df[:30])"
   ]
  },
  {
   "cell_type": "markdown",
   "metadata": {
    "colab_type": "text",
    "id": "FBaMAj_gobO5"
   },
   "source": [
    "##### 2.2.5.2. Según Lenguajes de Programación"
   ]
  },
  {
   "cell_type": "code",
   "execution_count": null,
   "metadata": {
    "colab": {
     "base_uri": "https://localhost:8080/",
     "height": 1000
    },
    "colab_type": "code",
    "id": "PhT4tdFUnvtM",
    "outputId": "3e332302-9f0e-4bfe-de98-699c40b963d2"
   },
   "outputs": [],
   "source": [
    "# Para este análisis se tendrá en cuenta el tamaño de la muestra, se marcarán como insuficientes los datos de aquellas que representen menos del 0.5% del total\n",
    "df = (\n",
    "    dataframe[\"lenguajes_de_programacion\"]\n",
    "    .str.extractall(r\"(?P<count>[^,]+),? ?\")[\"count\"]\n",
    "    .value_counts(normalize=True, sort=True)\n",
    ")\n",
    "top_languages = df[:30].index\n",
    "\n",
    "chosen_languages = df.to_frame().query(\"count > 0.005\").index\n",
    "\n",
    "df = dataframe.copy()\n",
    "df = (\n",
    "    df[\"lenguajes_de_programacion\"]\n",
    "    .str.split(\",\")\n",
    "    .apply(pd.Series)\n",
    "    .merge(df, right_index=True, left_index=True)\n",
    "    .drop([\"lenguajes_de_programacion\"], axis=1)\n",
    "    .melt(\n",
    "        id_vars=[\"seniority\", \"salario_mensual_bruto_en_tu_moneda_local\"],\n",
    "        value_name=\"lenguaje_de_programacion\",\n",
    "    )\n",
    "    .drop([\"variable\"], axis=1)\n",
    "    .dropna()\n",
    "    .query(\"lenguaje_de_programacion in @top_languages\")\n",
    "    .groupby([\"lenguaje_de_programacion\", \"seniority\"])\n",
    "    .median()\n",
    "    .unstack(\"seniority\")[\"salario_mensual_bruto_en_tu_moneda_local\"]\n",
    "    .fillna(0)\n",
    ")\n",
    "\n",
    "df.loc[\n",
    "    df.eval(\"lenguaje_de_programacion not in @chosen_languages\"),\n",
    "    [\"Junior\", \"Semi-Senior\", \"Senior\"],\n",
    "] *= -1\n",
    "\n",
    "display(df)\n",
    "df.plot(kind=\"barh\")\n",
    "charts[\"lenguajes_de_programacion_seniority_salary_median\"] = to_rechart(df[:30])"
   ]
  },
  {
   "cell_type": "markdown",
   "metadata": {
    "colab_type": "text",
    "id": "4Yu2y6GS7WlQ"
   },
   "source": [
    "##### 2.2.6. Otras compensaciones"
   ]
  },
  {
   "cell_type": "code",
   "execution_count": null,
   "metadata": {
    "colab": {
     "base_uri": "https://localhost:8080/",
     "height": 265
    },
    "colab_type": "code",
    "id": "lh0K0gBV7XI5",
    "outputId": "145fdece-3bc6-4972-f916-d47f8157e27f"
   },
   "outputs": [],
   "source": [
    "df = (\n",
    "    dataframe[\"recibis_algun_tipo_de_bono\"]\n",
    "    .value_counts(normalize=True, sort=True)\n",
    "    .to_frame()\n",
    ")\n",
    "\n",
    "df.plot(kind=\"barh\")\n",
    "charts[\"bonos_percent\"] = to_rechart(df)"
   ]
  },
  {
   "cell_type": "markdown",
   "metadata": {
    "colab_type": "text",
    "id": "21IBdM3XhByp"
   },
   "source": [
    "#### 2.2.6. Tipo de contrato"
   ]
  },
  {
   "cell_type": "code",
   "execution_count": null,
   "metadata": {
    "colab": {
     "base_uri": "https://localhost:8080/",
     "height": 265
    },
    "colab_type": "code",
    "id": "dwHdje6rhe3K",
    "outputId": "180fa19d-ac4c-4fdb-a03e-369b0d738838"
   },
   "outputs": [],
   "source": [
    "df = (\n",
    "    dataframe.groupby([\"sueldo_dolarizado\", \"seniority\"])\n",
    "    .median()\n",
    "    .unstack(\"seniority\")[\"salario_mensual_bruto_en_tu_moneda_local\"]\n",
    "    .fillna(0)\n",
    ")  # .sort_values(by=['salario_mensual_bruto_en_tu_moneda_local'], ascending=False)\n",
    "df.plot(kind=\"barh\")\n",
    "charts[\"sueldo_dolarizado_salary_median\"] = to_rechart(df)"
   ]
  },
  {
   "cell_type": "code",
   "execution_count": null,
   "metadata": {},
   "outputs": [],
   "source": [
    "_, ax = plt.subplots(1, 1, figsize=(12, 8), sharex=True)\n",
    "_dolar = dataframe[dataframe.sueldo_dolarizado].salario_mensual_bruto_en_tu_moneda_local\n",
    "_no_dolar = dataframe[\n",
    "    ~dataframe.sueldo_dolarizado\n",
    "].salario_mensual_bruto_en_tu_moneda_local\n",
    "ax.hist(_dolar, bins=100, label=\"dolarizado\", alpha=0.5, color=\"green\")\n",
    "ax.hist(_no_dolar, bins=100, label=\"pesos\", alpha=0.5, color=\"steelblue\")\n",
    "ax.axvline(_dolar.median(), color=\"green\", linestyle=\"dotted\")\n",
    "ax.axvline(_no_dolar.median(), color=\"steelblue\", linestyle=\"dotted\")\n",
    "ax.legend()"
   ]
  },
  {
   "cell_type": "markdown",
   "metadata": {
    "colab_type": "text",
    "id": "fgezb9evhun_"
   },
   "source": [
    "### 2.3. Género"
   ]
  },
  {
   "cell_type": "markdown",
   "metadata": {
    "colab_type": "text",
    "id": "n23EqOkrhxry"
   },
   "source": [
    "#### 2.3.1. Progresión Histórica"
   ]
  },
  {
   "cell_type": "markdown",
   "metadata": {
    "colab_type": "text",
    "id": "1lqDBpygh6C7"
   },
   "source": [
    "#### 2.3.2. Preparación"
   ]
  },
  {
   "cell_type": "code",
   "execution_count": null,
   "metadata": {
    "colab": {
     "base_uri": "https://localhost:8080/",
     "height": 761
    },
    "colab_type": "code",
    "id": "G1gkaWNdzO-l",
    "outputId": "f4732832-1648-46a4-d6a0-aa6f9583b429"
   },
   "outputs": [],
   "source": [
    "df = dataframe.query('me_identifico == \"Hombre\"')\n",
    "df = df.groupby([\"nivel_de_estudios_alcanzado\", \"estado\"])[\n",
    "    \"nivel_de_estudios_alcanzado\"\n",
    "].count().unstack(\"estado\").fillna(0).sort_values(\n",
    "    by=[\"Completado\"], ascending=False\n",
    ") / len(\n",
    "    df\n",
    ")\n",
    "df.plot(kind=\"barh\", stacked=True, logx=False)\n",
    "charts[\"education_hombre_stacked\"] = to_rechart(df)\n",
    "\n",
    "df = dataframe.query('me_identifico == \"Mujer\"')\n",
    "df = df.groupby([\"nivel_de_estudios_alcanzado\", \"estado\"])[\n",
    "    \"nivel_de_estudios_alcanzado\"\n",
    "].count().unstack(\"estado\").fillna(0).sort_values(\n",
    "    by=[\"Completado\"], ascending=False\n",
    ") / len(\n",
    "    df\n",
    ")\n",
    "df.plot(kind=\"barh\", stacked=True, logx=False)\n",
    "charts[\"education_mujer_stacked\"] = to_rechart(df)\n",
    "\n",
    "df = dataframe.query('me_identifico == \"Otros\"')\n",
    "df = df.groupby([\"nivel_de_estudios_alcanzado\", \"estado\"])[\n",
    "    \"nivel_de_estudios_alcanzado\"\n",
    "].count().unstack(\"estado\").fillna(0).sort_values(\n",
    "    by=[\"Completado\"], ascending=False\n",
    ").sort_values(\n",
    "    by=[\"En curso\"], ascending=False\n",
    ") / len(\n",
    "    df\n",
    ")\n",
    "df.plot(kind=\"barh\", stacked=True, logx=False)\n",
    "charts[\"education_otros_stacked\"] = to_rechart(df)"
   ]
  },
  {
   "cell_type": "markdown",
   "metadata": {
    "colab_type": "text",
    "id": "Ycp5h4hih8d3"
   },
   "source": [
    "#### 2.3.3. Salarios"
   ]
  },
  {
   "cell_type": "code",
   "execution_count": null,
   "metadata": {
    "colab": {},
    "colab_type": "code",
    "id": "U5SF8iKQF25L"
   },
   "outputs": [],
   "source": [
    "# df = dataframe['trabajo_de'].value_counts(normalize=True, sort=True)\n",
    "# top_roles = df[:26].index\n",
    "\n",
    "# df = dataframe.query('(trabajo_de in @top_roles) & (seniority == \"Junior\")')\n",
    "# df = df.groupby(['trabajo_de', 'me_identifico']).median().unstack('me_identifico')['salario_mensual_bruto_en_tu_moneda_local'].fillna(0)\n",
    "# df.loc[ df.eval('trabajo_de not in @chosen_roles'), ['Hombre', 'Mujer', 'Otros']] *= -1\n",
    "# charts['roles_seniority_salary_junior_median'] = to_rechart(df, 30)\n",
    "# df.plot(kind='barh')\n",
    "\n",
    "# df = dataframe.query('(trabajo_de in @top_roles) & (seniority == \"Semi-Senior\")')\n",
    "# df = df.groupby(['trabajo_de', 'me_identifico']).median().unstack('me_identifico')['salario_mensual_bruto_en_tu_moneda_local'].fillna(0)\n",
    "# df.loc[ df.eval('trabajo_de not in @chosen_roles'), ['Hombre', 'Mujer', 'Otros']] *= -1\n",
    "# charts['roles_seniority_salary_semisenior_median'] = to_rechart(df, 30)\n",
    "# df.plot(kind='barh')\n",
    "\n",
    "# df = dataframe.query('(trabajo_de in @top_roles) & (seniority == \"Senior\")')\n",
    "# df = df.groupby(['trabajo_de', 'me_identifico']).median().unstack('me_identifico')['salario_mensual_bruto_en_tu_moneda_local'].fillna(0)\n",
    "# df.loc[ df.eval('trabajo_de not in @chosen_roles'), ['Hombre', 'Mujer', 'Otros']] *= -1\n",
    "# charts['roles_seniority_salary_senior_median'] = to_rechart(df, 30)\n",
    "# df.plot(kind='barh')"
   ]
  },
  {
   "cell_type": "code",
   "execution_count": null,
   "metadata": {
    "colab": {
     "base_uri": "https://localhost:8080/",
     "height": 34
    },
    "colab_type": "code",
    "id": "NOpSdWWOPu-Q",
    "outputId": "9c371b79-6160-4acc-a411-c60e32163640"
   },
   "outputs": [],
   "source": [
    "df = dataframe[\"trabajo_de\"].value_counts(normalize=True, sort=True)\n",
    "top_roles = df[:26].index\n",
    "\n",
    "top_salary_roles = (\n",
    "    dataframe.query(\"trabajo_de in @top_roles\")\n",
    "    .groupby([\"trabajo_de\"])\n",
    "    .median()[\"salario_mensual_bruto_en_tu_moneda_local\"]\n",
    "    .fillna(0)\n",
    "    .sort_values(0, ascending=False)\n",
    "    .index.tolist()\n",
    ")\n",
    "top_salary_roles_mujer = (\n",
    "    dataframe.query('trabajo_de in @top_roles & me_identifico == \"Mujer\"')\n",
    "    .groupby([\"trabajo_de\"])\n",
    "    .median()[\"salario_mensual_bruto_en_tu_moneda_local\"]\n",
    "    .fillna(0)\n",
    "    .sort_values(0, ascending=False)\n",
    "    .index.tolist()\n",
    ")\n",
    "\n",
    "# Roles mejores pagos en los que no se encuentran mujeres\n",
    "display([rol for rol in top_salary_roles if rol not in top_salary_roles_mujer])"
   ]
  },
  {
   "cell_type": "code",
   "execution_count": null,
   "metadata": {
    "colab": {
     "base_uri": "https://localhost:8080/",
     "height": 265
    },
    "colab_type": "code",
    "id": "8fMjK3JMIBl4",
    "outputId": "da81aa86-7aba-4bb3-e35d-7eecc74cbb4e"
   },
   "outputs": [],
   "source": [
    "df = (\n",
    "    dataframe.groupby([\"me_identifico\"])\n",
    "    .median()\n",
    "    .unstack()[\"de_que_fue_el_ajuste_total\"]\n",
    "    .sort_values(ascending=False)\n",
    "    / 100\n",
    ")\n",
    "\n",
    "df.plot(kind=\"barh\")\n",
    "charts[\"gender_salary_adjustment\"] = to_rechart(df)"
   ]
  },
  {
   "cell_type": "markdown",
   "metadata": {
    "colab_type": "text",
    "id": "rwiTARQzmSqw"
   },
   "source": [
    "#### 2.3.4. Experiencia"
   ]
  },
  {
   "cell_type": "code",
   "execution_count": null,
   "metadata": {
    "colab": {
     "base_uri": "https://localhost:8080/",
     "height": 421
    },
    "colab_type": "code",
    "id": "YIsixT9NCUGh",
    "outputId": "e3fc692c-af6f-47d1-ab61-d50b5c779134"
   },
   "outputs": [],
   "source": [
    "df = dataframe\n",
    "df = (\n",
    "    df.groupby([\"actividad_principal\", \"me_identifico\"])\n",
    "    .agg({\"me_identifico\": \"count\"})\n",
    "    .groupby(level=0)\n",
    "    .apply(lambda x: x / float(x.sum()))\n",
    "    .unstack(\"me_identifico\")\n",
    ")\n",
    "df.columns = df.columns.droplevel(0)\n",
    "display(df)\n",
    "df.T.plot(kind=\"barh\")\n",
    "charts[\"actividad_principal_gender_percent\"] = to_rechart(df)"
   ]
  },
  {
   "cell_type": "code",
   "execution_count": null,
   "metadata": {
    "colab": {
     "base_uri": "https://localhost:8080/",
     "height": 591
    },
    "colab_type": "code",
    "id": "fycGChqkQsfQ",
    "outputId": "b08baa56-6a6d-4970-d63c-ba8ad486b56d"
   },
   "outputs": [],
   "source": [
    "df = dataframe.copy()\n",
    "df[\"anos_de_experiencia_fibo\"] = pd.cut(\n",
    "    df[\"anos_de_experiencia\"].values,\n",
    "    [0, 1, 2, 3, 5, 8, 13, 21, 55],\n",
    "    labels=[\"0-1\", \"2\", \"3\", \"4-5\", \"6-8\", \"9-13\", \"14-21\", \"22-55\"],\n",
    ")\n",
    "df = (\n",
    "    df.groupby([\"anos_de_experiencia_fibo\", \"me_identifico\"])\n",
    "    .agg({\"me_identifico\": \"count\"})\n",
    "    .groupby(level=0)\n",
    "    .apply(lambda x: x / float(x.sum()))\n",
    "    .unstack(\"me_identifico\")\n",
    "    .fillna(0)\n",
    ")\n",
    "df.columns = df.columns.droplevel(0)\n",
    "display(df)\n",
    "df.plot(kind=\"area\")\n",
    "charts[\"experience_gender_percent\"] = to_rechart(df)"
   ]
  },
  {
   "cell_type": "code",
   "execution_count": null,
   "metadata": {
    "colab": {
     "base_uri": "https://localhost:8080/",
     "height": 594
    },
    "colab_type": "code",
    "id": "PSW9YJxXmlez",
    "outputId": "f12677ae-e42d-445a-b699-eb805e311569"
   },
   "outputs": [],
   "source": [
    "df = dataframe.copy()\n",
    "df[\"anos_de_experiencia_fibo\"] = pd.cut(\n",
    "    df[\"anos_de_experiencia\"].values,\n",
    "    [0, 1, 2, 3, 5, 8, 13, 21, 55],\n",
    "    labels=[\"0-1\", \"2\", \"3\", \"4-5\", \"6-8\", \"9-13\", \"14-21\", \"22-55\"],\n",
    ")\n",
    "df = (\n",
    "    df.groupby([\"anos_de_experiencia_fibo\", \"me_identifico\"])\n",
    "    .agg({\"salario_mensual_bruto_en_tu_moneda_local\": \"median\"})\n",
    "    .unstack(\"me_identifico\")\n",
    "    .fillna(0)\n",
    ")\n",
    "df.columns = df.columns.droplevel(0)\n",
    "display(df)\n",
    "df.plot(kind=\"line\")\n",
    "charts[\"experience_gender_salary_median\"] = to_rechart(df)"
   ]
  },
  {
   "cell_type": "code",
   "execution_count": null,
   "metadata": {
    "colab": {
     "base_uri": "https://localhost:8080/",
     "height": 591
    },
    "colab_type": "code",
    "id": "lshbCsSNr2u1",
    "outputId": "cb8a45b5-1cf3-4f27-f59b-95b1596407ed"
   },
   "outputs": [],
   "source": [
    "df = dataframe.copy()\n",
    "df[\"anos_de_experiencia_fibo\"] = pd.cut(\n",
    "    df[\"anos_de_experiencia\"].values,\n",
    "    [0, 1, 2, 3, 5, 8, 13, 21, 55],\n",
    "    labels=[\"0-1\", \"2\", \"3\", \"4-5\", \"6-8\", \"9-13\", \"14-21\", \"22-55\"],\n",
    ")\n",
    "df = (\n",
    "    df.groupby([\"anos_de_experiencia_fibo\", \"me_identifico\"])\n",
    "    .agg({\"que_tan_conforme_estas_con_tu_sueldo\": \"mean\"})\n",
    "    .unstack(\"me_identifico\")\n",
    "    .fillna(0)\n",
    ")\n",
    "df.columns = df.columns.droplevel(0)\n",
    "display(df)\n",
    "df.plot(kind=\"line\")\n",
    "charts[\"experience_gender_conformidad_mean\"] = to_rechart(df)"
   ]
  },
  {
   "cell_type": "markdown",
   "metadata": {
    "colab_type": "text",
    "id": "QohXhxPvAwFB"
   },
   "source": [
    "#### 2.3.5. Discapacidad"
   ]
  },
  {
   "cell_type": "code",
   "execution_count": null,
   "metadata": {
    "colab": {
     "base_uri": "https://localhost:8080/",
     "height": 265
    },
    "colab_type": "code",
    "id": "qbWNcPY_AwVu",
    "outputId": "96ef2000-7613-4221-cb4d-6b6b9d962d42"
   },
   "outputs": [],
   "source": [
    "df = dataframe[\"tenes_algun_tipo_de_discapacidad\"].fillna(\"No reporta\").value_counts(\n",
    "    normalize=False, sort=True\n",
    ") / len(dataframe)\n",
    "\n",
    "# df = dataframe['tenes_algun_tipo_de_discapacidad'].value_counts(normalize=True, sort=True)#.to_frame()\n",
    "\n",
    "df[:7].plot(kind=\"barh\")\n",
    "charts[\"discapacidad_percent\"] = to_rechart(df, 7)"
   ]
  },
  {
   "cell_type": "code",
   "execution_count": null,
   "metadata": {
    "colab": {
     "base_uri": "https://localhost:8080/",
     "height": 265
    },
    "colab_type": "code",
    "id": "5ePWhDddBU8j",
    "outputId": "89b798f6-0fd1-453d-9873-8773561b7141"
   },
   "outputs": [],
   "source": [
    "# Quienes respondieron Sí o No, son quienes contestaron sobre discapacidad.  El resto es None\n",
    "df = (\n",
    "    dataframe[\"sentis_que_esto_te_dificulto_el_conseguir_trabajo\"]\n",
    "    .value_counts(normalize=True, sort=True)\n",
    "    .to_frame()\n",
    ")\n",
    "\n",
    "df.plot(kind=\"barh\")\n",
    "charts[\"discapacidad_dificultad_percent\"] = to_rechart(df)"
   ]
  },
  {
   "cell_type": "markdown",
   "metadata": {
    "colab_type": "text",
    "id": "NDehCeVPtF7b"
   },
   "source": [
    "### 2.4. Tecnología"
   ]
  },
  {
   "cell_type": "markdown",
   "metadata": {
    "colab_type": "text",
    "id": "F-CxzV6ntMRO"
   },
   "source": [
    "#### 2.4.1. Plataformas más populares"
   ]
  },
  {
   "cell_type": "code",
   "execution_count": null,
   "metadata": {
    "colab": {
     "base_uri": "https://localhost:8080/",
     "height": 284
    },
    "colab_type": "code",
    "id": "YJAIvJ8ctRle",
    "outputId": "29b492d1-dccb-495e-da55-4158ea233512"
   },
   "outputs": [],
   "source": [
    "df = (\n",
    "    dataframe[\"plataformas\"]\n",
    "    .str.extractall(r\"(?P<value>[^,]+),? ?\")[\"value\"]\n",
    "    .value_counts(normalize=False, sort=True)\n",
    "    .to_frame()\n",
    "    .rename_axis(\"key\")\n",
    ")\n",
    "df.reset_index(level=0, inplace=True)\n",
    "\n",
    "df = normalize_dataframe_column(\n",
    "    df,\n",
    "    \"key\",\n",
    "    {\n",
    "        \"Google Cloud Platform/App Engine\": \"Google Cloud\",\n",
    "        \"Sap\": \"SAP\",\n",
    "        \"crm\": \"CRM\",\n",
    "        \"Ninguna de las anteriores\": \"Ninguna/Ninguno\",\n",
    "        \"^(nada|no|ningun[ao]|otros?|0|-|\\.)$\": \"DELETEME\",\n",
    "    },\n",
    ")\n",
    "\n",
    "# Reagrupamos valores, sumándolos, luego de haber normalizado\n",
    "df = df.query('key != \"DELETEME\"').groupby(\"key\").sum()[\"value\"].sort_values(\n",
    "    ascending=False\n",
    ").to_frame() / len(dataframe)\n",
    "\n",
    "df[:40].plot.barh()\n",
    "charts[\"plataformas\"] = to_rechart(df[:40])"
   ]
  },
  {
   "cell_type": "markdown",
   "metadata": {
    "colab_type": "text",
    "id": "boKCnX_X3uPh"
   },
   "source": [
    "#### 2.4.2. Lenguajes de Programación más populares"
   ]
  },
  {
   "cell_type": "code",
   "execution_count": null,
   "metadata": {
    "colab": {
     "base_uri": "https://localhost:8080/",
     "height": 284
    },
    "colab_type": "code",
    "id": "8oZ6CkeSti7t",
    "outputId": "00dd53a0-89e3-4ed7-97f2-0f99e43e81de"
   },
   "outputs": [],
   "source": [
    "df = (\n",
    "    dataframe[\"lenguajes_de_programacion\"]\n",
    "    .str.extractall(r\"(?P<value>[^,]+),? ?\")[\"value\"]\n",
    "    .value_counts(normalize=False, sort=True)\n",
    "    .to_frame()\n",
    "    .rename_axis(\"key\")\n",
    ")\n",
    "df.reset_index(level=0, inplace=True)\n",
    "\n",
    "df = normalize_dataframe_column(\n",
    "    df,\n",
    "    \"key\",\n",
    "    {\n",
    "        \"powershell\": \"PowerShell\",\n",
    "        \"cobol\": \"COBOL\",\n",
    "        \"Ninguno de los anteriores\": \"Ninguna/Ninguno\",\n",
    "        \"^(nada|no|ningun[ao]|otros?|-|\\.)$\": \"DELETEME\",\n",
    "    },\n",
    ")\n",
    "\n",
    "# Reagrupamos valores, sumándolos, luego de haber normalizado\n",
    "df = df.query('key != \"DELETEME\"').groupby(\"key\").sum()[\"value\"].sort_values(\n",
    "    ascending=False\n",
    ").to_frame() / len(dataframe)\n",
    "\n",
    "df[:40].plot.barh()\n",
    "charts[\"lenguajes_de_programacion\"] = to_rechart(df[:40])"
   ]
  },
  {
   "cell_type": "markdown",
   "metadata": {
    "colab_type": "text",
    "id": "U7v9Hcby3yms"
   },
   "source": [
    "#### 2.4.3. Frameworks, Herramientas y Librerías más populares"
   ]
  },
  {
   "cell_type": "code",
   "execution_count": null,
   "metadata": {
    "colab": {
     "base_uri": "https://localhost:8080/",
     "height": 283
    },
    "colab_type": "code",
    "id": "v1mAM-zM0EBi",
    "outputId": "dbdd8adc-1d1b-468b-b4fe-8ad78d786826"
   },
   "outputs": [],
   "source": [
    "df = (\n",
    "    dataframe[\"frameworksherramientas_y_librerias\"]\n",
    "    .str.extractall(r\"(?P<value>[^,]+),? ?\")[\"value\"]\n",
    "    .value_counts(normalize=False, sort=True)\n",
    "    .to_frame()\n",
    "    .rename_axis(\"key\")\n",
    ")\n",
    "df.reset_index(level=0, inplace=True)\n",
    "\n",
    "df = normalize_dataframe_column(\n",
    "    df,\n",
    "    \"key\",\n",
    "    {\n",
    "        \".*(node).*$\": \"Node.js\",\n",
    "        \".*Angular.*$\": \"Angular\",\n",
    "        \".*React.*$\": \"React.js\",\n",
    "        \".*Vue.*$\": \"Vue.js\",\n",
    "        \".*jquery.*$\": \"jQuery\",\n",
    "        \".*laravel.*$\": \"Laravel\",\n",
    "        \".*codeigniter.*$\": \"CodeIgniter\",\n",
    "        \".*struts.*$\": \"Struts\",\n",
    "        \"Ninguno de los anteriores\": \"Ninguna/Ninguno\",\n",
    "        \"^(nada|no|ningun[ao]|otros?|0|-|\\.)$\": \"DELETEME\",\n",
    "    },\n",
    ")\n",
    "\n",
    "# Reagrupamos valores, sumándolos, luego de haber normalizado\n",
    "df = df.query('key != \"DELETEME\"').groupby(\"key\").sum()[\"value\"].sort_values(\n",
    "    ascending=False\n",
    ").to_frame() / len(dataframe)\n",
    "\n",
    "df[:36].plot.barh()\n",
    "charts[\"frameworksherramientas_y_librerias\"] = to_rechart(df[:36])"
   ]
  },
  {
   "cell_type": "markdown",
   "metadata": {
    "colab_type": "text",
    "id": "JPunwzjh33zz"
   },
   "source": [
    "#### 2.4.4. Bases de Datos más populares"
   ]
  },
  {
   "cell_type": "code",
   "execution_count": null,
   "metadata": {
    "colab": {
     "base_uri": "https://localhost:8080/",
     "height": 282
    },
    "colab_type": "code",
    "id": "5mdW3BWT0OYu",
    "outputId": "2ea7d199-f62f-4350-c13a-685f7850f626"
   },
   "outputs": [],
   "source": [
    "df = (\n",
    "    dataframe[\"bases_de_datos\"]\n",
    "    .str.extractall(r\"(?P<value>[^,]+),? ?\")[\"value\"]\n",
    "    .value_counts(normalize=False, sort=True)\n",
    "    .to_frame()\n",
    "    .rename_axis(\"key\")\n",
    ")\n",
    "df.reset_index(level=0, inplace=True)\n",
    "\n",
    "df = normalize_dataframe_column(\n",
    "    df,\n",
    "    \"key\",\n",
    "    {\n",
    "        \".*(sybase).*$\": \"Sybase\",\n",
    "        \"Microsoft Azure \\(Tables\": \"Microsoft Azure\",\n",
    "        \"Ninguna de las anteriores\": \"Ninguna/Ninguno\",\n",
    "        \"^(SQL|CosmosDB|etc\\)|otros?|0|-|\\.)$\": \"DELETEME\",\n",
    "    },\n",
    ")\n",
    "\n",
    "# Reagrupamos valores, sumándolos, luego de haber normalizado\n",
    "df = df.query('key != \"DELETEME\"').groupby(\"key\").sum()[\"value\"].sort_values(\n",
    "    ascending=False\n",
    ").to_frame() / len(dataframe)\n",
    "\n",
    "df[:26].plot.barh()\n",
    "charts[\"bases_de_datos\"] = to_rechart(df[:26])"
   ]
  },
  {
   "cell_type": "markdown",
   "metadata": {
    "colab_type": "text",
    "id": "byZGmkm_37Go"
   },
   "source": [
    "#### 2.4.5. Herramientas de QA / Testing más populares"
   ]
  },
  {
   "cell_type": "code",
   "execution_count": null,
   "metadata": {
    "colab": {
     "base_uri": "https://localhost:8080/",
     "height": 282
    },
    "colab_type": "code",
    "id": "-sHBTi-P0Xae",
    "outputId": "d42bd733-4ba9-4ba8-eac9-9d200c9273aa"
   },
   "outputs": [],
   "source": [
    "df = (\n",
    "    dataframe[\"qa_testing\"]\n",
    "    .str.extractall(r\"(?P<value>[^,]+),? ?\")[\"value\"]\n",
    "    .value_counts(normalize=False, sort=True)\n",
    "    .to_frame()\n",
    "    .rename_axis(\"key\")\n",
    ")\n",
    "df.reset_index(level=0, inplace=True)\n",
    "\n",
    "df = normalize_dataframe_column(\n",
    "    df,\n",
    "    \"key\",\n",
    "    {\n",
    "        \".*(ningun[oa]|no|nada|otros?|0|\\.).*$\": \"DELETEME\",\n",
    "        \".*(junit).*$\": \"JUnit\",\n",
    "        \".*(jest).*$\": \"Jest\",\n",
    "        \"Ninguna de las anteriores\": \"Ninguna/Ninguno\",\n",
    "    },\n",
    ")\n",
    "\n",
    "# Reagrupamos valores, sumándolos, luego de haber normalizado\n",
    "df = df.query('key != \"DELETEME\"').groupby(\"key\").sum()[\"value\"].sort_values(\n",
    "    ascending=False\n",
    ").to_frame() / len(dataframe)\n",
    "\n",
    "df[:25].plot.barh()\n",
    "charts[\"qa_testing\"] = to_rechart(df[:25])"
   ]
  },
  {
   "cell_type": "markdown",
   "metadata": {
    "colab_type": "text",
    "id": "AuCsBAdr4B3q"
   },
   "source": [
    "#### 2.4.6. IDEs más populares"
   ]
  },
  {
   "cell_type": "code",
   "execution_count": null,
   "metadata": {
    "colab": {
     "base_uri": "https://localhost:8080/",
     "height": 282
    },
    "colab_type": "code",
    "id": "VlJn3-p00fNR",
    "outputId": "1f54564c-e0d7-437b-8d21-94f047fb06a3"
   },
   "outputs": [],
   "source": [
    "df = (\n",
    "    dataframe[\"ides\"]\n",
    "    .str.extractall(r\"(?P<value>[^,]+),? ?\")[\"value\"]\n",
    "    .value_counts(normalize=False, sort=True)\n",
    "    .to_frame()\n",
    "    .rename_axis(\"key\")\n",
    ")\n",
    "df.reset_index(level=0, inplace=True)\n",
    "\n",
    "df = normalize_dataframe_column(\n",
    "    df,\n",
    "    \"key\",\n",
    "    {\n",
    "        \"^.*(Visual Studio|VS).*$\": \"Visual Studio\",\n",
    "        \"^.*(Visual Studio Code|VS ?Code|Code).*$\": \"Visual Studio Code\",\n",
    "        \".*(Sublime)( Text)?.*$\": \"Sublime Text\",\n",
    "        \".*(webstorm).*$\": \"WebStorm\",\n",
    "        \"^(vi|vim)$\": \"Vi / Vim\",\n",
    "        \"^(jdeveloper)$\": \"JDeveloper\",\n",
    "        \"^(goland)$\": \"GoLand\",\n",
    "        \"^(neovim)$\": \"NeoVim\",\n",
    "        \"IBM integración toolkit\": \"IBM Integration Bus\",\n",
    "        \"^(rubymine)$\": \"RubyMine\",\n",
    "        \"Ninguno de los anteriores\": \"Ninguna/Ninguno\",\n",
    "        \"^(no( uso.*| util.*)?|none|ningun[ao]|0|No s[eé]|nada|-|\\.)$\": \"DELETEME\",\n",
    "    },\n",
    ")\n",
    "\n",
    "# Reagrupamos valores, sumándolos, luego de haber normalizado\n",
    "df = df.query('key != \"DELETEME\"').groupby(\"key\").sum()[\"value\"].sort_values(\n",
    "    ascending=False\n",
    ").to_frame() / len(dataframe)\n",
    "\n",
    "df[:26].plot.barh()\n",
    "charts[\"ides\"] = to_rechart(df[:26])"
   ]
  },
  {
   "cell_type": "markdown",
   "metadata": {
    "colab_type": "text",
    "id": "6lK-EP8C3ZRJ"
   },
   "source": [
    "### 2.5. Trabajo"
   ]
  },
  {
   "cell_type": "markdown",
   "metadata": {
    "colab_type": "text",
    "id": "KdGHKY5K4ZYe"
   },
   "source": [
    "#### 2.5.1. Tipos de contrato"
   ]
  },
  {
   "cell_type": "code",
   "execution_count": null,
   "metadata": {
    "colab": {
     "base_uri": "https://localhost:8080/",
     "height": 269
    },
    "colab_type": "code",
    "id": "Ni7HIiUG3kfF",
    "outputId": "0e93c3cb-7b42-44c2-834f-e38345e7cb73"
   },
   "outputs": [],
   "source": [
    "df = dataframe[\"tipo_de_contrato\"].value_counts(normalize=True, sort=True)\n",
    "\n",
    "df.plot(kind=\"barh\", logx=True)\n",
    "charts[\"tipo_de_contrato_percent\"] = to_rechart(df)"
   ]
  },
  {
   "cell_type": "code",
   "execution_count": null,
   "metadata": {
    "colab": {
     "base_uri": "https://localhost:8080/",
     "height": 248
    },
    "colab_type": "code",
    "id": "CCcDJywErcWP",
    "outputId": "bca2650f-25e3-400d-bdcc-c4158565f972"
   },
   "outputs": [],
   "source": [
    "df = dataframe[\"sueldo_dolarizado\"].value_counts(normalize=True, sort=True)\n",
    "df.plot.pie()\n",
    "charts[\"sueldo_dolarizado_percent\"] = to_rechart(df)"
   ]
  },
  {
   "cell_type": "markdown",
   "metadata": {
    "colab_type": "text",
    "id": "zPPVXv9X6fkl"
   },
   "source": [
    "#### 2.5.2. Compensación"
   ]
  },
  {
   "cell_type": "code",
   "execution_count": null,
   "metadata": {
    "colab": {
     "base_uri": "https://localhost:8080/",
     "height": 269
    },
    "colab_type": "code",
    "id": "8RYD21cw46h0",
    "outputId": "080a640e-3467-4060-f4d2-0b7e91c2641e"
   },
   "outputs": [],
   "source": [
    "df = dataframe[\"recibis_algun_tipo_de_bono\"].value_counts(normalize=True, sort=True)\n",
    "\n",
    "df.plot(kind=\"barh\", logx=True)\n",
    "charts[\"recibis_algun_tipo_de_bono\"] = to_rechart(df)"
   ]
  },
  {
   "cell_type": "code",
   "execution_count": null,
   "metadata": {
    "colab": {
     "base_uri": "https://localhost:8080/",
     "height": 282
    },
    "colab_type": "code",
    "id": "-mQol3dm64XQ",
    "outputId": "7df4723c-233d-4ed3-b9ee-24674a727345"
   },
   "outputs": [],
   "source": [
    "df = (\n",
    "    dataframe[\"beneficios_extra\"]\n",
    "    .str.extractall(r\"(?P<value>[^,]+),? ?\")[\"value\"]\n",
    "    .value_counts(normalize=False, sort=True)\n",
    "    .to_frame()\n",
    "    .rename_axis(\"key\")\n",
    ")\n",
    "df.reset_index(level=0, inplace=True)\n",
    "\n",
    "df = normalize_dataframe_column(\n",
    "    df,\n",
    "    \"key\",\n",
    "    {\n",
    "        \".*Vacaciones flexibles.*$\": \"Vacaciones extendidas\",\n",
    "        \".*Licencias?.*$\": \"Licencias extendidas\",\n",
    "        \"horarios? flexibles?$\": \"Horarios flexibles\",\n",
    "        \"(.*capacitaci[oó]n(es)?.*|.*cursos?.*)$\": \"Capacitaciones\",\n",
    "        \"bebidas?$\": \"Bebidas\",\n",
    "        \"(golosinas?|snac?ks?)$\": \"Snacks\",\n",
    "        \"(Descuentos varios \\(Clarín 365)$\": \"Descuentos varios\",\n",
    "        \"(etc\\)|Club La Nación)$\": \"DELETEME\",\n",
    "        \"(no|.*Nada.*|Ning[uú]n[ao]?( de las anteriores)?)$\": \"DELETEME\",\n",
    "        \"(.*prepaga.*|OSDE|.*obra social.*)$\": \"Prepaga\",\n",
    "        \"(frut[ao]s?)$\": \"Frutas\",\n",
    "        \"(facturas?)\": \"Facturas\",\n",
    "        \"(.*home off?ice.*|.*WFH.*|.*home work.*)$\": \"WFH\",\n",
    "        \"(.*d[oó]lares.*|Sueldo dolarizado)$\": \"Sueldo dolarizado\",\n",
    "        \"(.*gimnasio.*|.*gym.*)$\": \"Gimnasio\",\n",
    "        \"(.*cochera.*|.*estacionamiento.*)$\": \"Estacionamiento\",\n",
    "        \"(.*combustibles?.*|.*vi[aá]ticos?.*|.*cabify.*|.*transporte.*|.*remis.*)$\": \"Viáticos\",\n",
    "        \"(.*sueldos? ex.*)$\": \"Sueldos extra\",\n",
    "        \"(.*eventos?.*|entradas?)$\": \"Eventos\",\n",
    "        \"(.*pileta)$\": \"Pileta\",\n",
    "    },\n",
    ")\n",
    "\n",
    "# Reagrupamos valores, sumándolos, luego de haber normalizado\n",
    "df = df.query('key != \"DELETEME\"').groupby(\"key\").sum()[\"value\"].sort_values(\n",
    "    ascending=False\n",
    ").to_frame() / len(dataframe)\n",
    "\n",
    "df[:26].plot.barh()\n",
    "charts[\"beneficios_extra\"] = to_rechart(df[:26])"
   ]
  },
  {
   "cell_type": "code",
   "execution_count": null,
   "metadata": {
    "colab": {
     "base_uri": "https://localhost:8080/",
     "height": 265
    },
    "colab_type": "code",
    "id": "QJmOd7QJ5BuN",
    "outputId": "48ae685b-f463-4a4e-84e2-d774db098340"
   },
   "outputs": [],
   "source": [
    "df = dataframe[\"de_que_fue_el_ajuste_total\"].copy()\n",
    "df = df.groupby(\n",
    "    pd.cut(\n",
    "        df.values,\n",
    "        [0, 1, 2, 3, 5, 8, 13, 21, 34, 55, 89, 144],\n",
    "        labels=[\n",
    "            \"0-1\",\n",
    "            \"2\",\n",
    "            \"3\",\n",
    "            \"4-5\",\n",
    "            \"6-8\",\n",
    "            \"9-13\",\n",
    "            \"14-21\",\n",
    "            \"22-34\",\n",
    "            \"35-55\",\n",
    "            \"56-89\",\n",
    "            \"90-144\",\n",
    "        ],\n",
    "        include_lowest=True,\n",
    "    )\n",
    ").count() / len(df)\n",
    "\n",
    "df.plot.barh()\n",
    "charts[\"de_que_fue_el_ajuste\"] = to_rechart(df.sort_index())"
   ]
  },
  {
   "cell_type": "markdown",
   "metadata": {
    "colab_type": "text",
    "id": "SLIFYf0S6pMN"
   },
   "source": [
    "#### 2.5.3. Características de la Empresa"
   ]
  },
  {
   "cell_type": "code",
   "execution_count": null,
   "metadata": {
    "colab": {
     "base_uri": "https://localhost:8080/",
     "height": 265
    },
    "colab_type": "code",
    "id": "4stF2QLO5fgy",
    "outputId": "744bce59-5bed-4cfc-d1ea-86b791c03bb7"
   },
   "outputs": [],
   "source": [
    "df = dataframe[\"cantidad_de_empleados\"].value_counts(normalize=True, sort=True)\n",
    "\n",
    "df.plot(kind=\"barh\", logx=False)\n",
    "charts[\"cantidad_de_empleados\"] = to_rechart(df)"
   ]
  },
  {
   "cell_type": "code",
   "execution_count": null,
   "metadata": {
    "colab": {
     "base_uri": "https://localhost:8080/",
     "height": 265
    },
    "colab_type": "code",
    "id": "jyfKBMoA5sVw",
    "outputId": "d4861e96-ae54-4837-acba-8b2696dc956b"
   },
   "outputs": [],
   "source": [
    "df = dataframe[\"actividad_principal\"].value_counts(normalize=True, sort=True)\n",
    "\n",
    "df.plot(kind=\"barh\", logx=False)\n",
    "charts[\"actividad_principal\"] = to_rechart(df)"
   ]
  },
  {
   "cell_type": "code",
   "execution_count": null,
   "metadata": {
    "colab": {
     "base_uri": "https://localhost:8080/",
     "height": 265
    },
    "colab_type": "code",
    "id": "_FtPe1iw53vz",
    "outputId": "bc5d1927-b65b-4b6e-a2b2-e6862d581630"
   },
   "outputs": [],
   "source": [
    "df = dataframe[\"la_recomendas_como_un_buen_lugar_para_trabajar\"].copy()\n",
    "# https://es.wikipedia.org/wiki/Net_Promoter_Score\n",
    "df = df.groupby(\n",
    "    pd.cut(df.values, [0, 6, 8, 10], labels=[\"Detractores\", \"Pasivos\", \"Promotores\"])\n",
    ").count() / len(df)\n",
    "df = df.iloc[::-1]  # reverse order\n",
    "\n",
    "df.plot.barh()\n",
    "charts[\"la_recomendas_como_un_buen_lugar_para_trabajar\"] = to_rechart(df)"
   ]
  },
  {
   "cell_type": "code",
   "execution_count": null,
   "metadata": {
    "colab": {
     "base_uri": "https://localhost:8080/",
     "height": 1000
    },
    "colab_type": "code",
    "id": "g0VX6T3kxutG",
    "outputId": "f86575cf-0489-4fd1-86aa-55b869283002"
   },
   "outputs": [],
   "source": [
    "df = (\n",
    "    dataframe[\n",
    "        \"cuales_consideras_que_son_las_mejores_empresas_de_it_para_trabajar_en_este_momentoen_tu_ciudad\"\n",
    "    ]\n",
    "    .str.extractall(r\"(?P<value>[^,]+),? ?\")[\"value\"]\n",
    "    .value_counts(normalize=False, sort=True)\n",
    "    .to_frame()\n",
    "    .rename_axis(\"key\")\n",
    ")\n",
    "df.reset_index(level=0, inplace=True)\n",
    "\n",
    "df = normalize_dataframe_column(\n",
    "    df,\n",
    "    \"key\",\n",
    "    {\n",
    "        \"^(ningun[ao]|-|no lo se|desconozco|ni idea|no s[ée]|Son todas una mierda\\.|bancos?)$\": \"DELETEME\",\n",
    "        \"^(mercadolibre|mercado libre|meli|ml|mercado ?pago)$\": \"MercadoLibre\",\n",
    "        \"^(medallia|medalia)$\": \"Medallia\",\n",
    "        \"^(despegar\\.?(com)?)$\": \"Despegar\",\n",
    "        \"^(mulesoft)$\": \"Mulesoft\",\n",
    "        \"^(globant)$\": \"Globant\",\n",
    "        \"^(google)$\": \"Google\",\n",
    "        \"^(auth0)$\": \"Auth0\",\n",
    "        \"^(rappi)$\": \"Rappi\",\n",
    "        \"^(jampp?)$\": \"Jampp\",\n",
    "        \"^(asapp|asap)$\": \"ASAPP\",\n",
    "        \"^(ibm|i\\.b\\.m\\.?)$\": \"IBM\",\n",
    "        \"^(aws|amazon)$\": \"Amazon\",\n",
    "        \"^(eventbrite)$\": \"Eventbrite\",\n",
    "        \"^(saleforce|salesforce)$\": \"Salesforce\",\n",
    "        \"^(olx|o\\.l\\.x\\.?)$\": \"OLX\",\n",
    "        \"^(10 ?pines)$\": \"10Pines\",\n",
    "        \"^(microsoft)$\": \"Microsoft\",\n",
    "        \"^(jp ?morgan)$\": \"JP Morgan\",\n",
    "        \"^(elementum)$\": \"Elementum\",\n",
    "        \"^(bell?atrix)$\": \"Belatrix\",\n",
    "        \"^(nubank)$\": \"Nubank\",\n",
    "        \"^(etermax)$\": \"Etermax\",\n",
    "        \"^(facebook)$\": \"Facebook\",\n",
    "        \"^(hexacta)$\": \"Hexacta\",\n",
    "        \"^(oracle)$\": \"Oracle\",\n",
    "        \"^(avature)$\": \"Avature\",\n",
    "        \"^(everis)$\": \"Everis\",\n",
    "        \"^(baires ?dev)$\": \"NubaBairesDevnk\",\n",
    "        \"^(stensul)$\": \"Stensul\",\n",
    "        \"^(satel? ?logic\\.?)$\": \"Satellogic\",\n",
    "        \"^(scale)$\": \"Scale\",\n",
    "        \"^(aerolab)$\": \"AeroLab\",\n",
    "        \"^(rga|r/ga)$\": \"R/GA\",\n",
    "        \"^(accenture)$\": \"Accenture\",\n",
    "        \"^(olapic)$\": \"Olapic\",\n",
    "        \"^(logicalis)$\": \"Logicalis\",\n",
    "        \"^(mule ?(soft)?)$\": \"MuleSoft\",\n",
    "        \"^(soft ?vision)$\": \"SoftVision\",\n",
    "        \"^(global ?logic)$\": \"GlobalLogic\",\n",
    "        \"^(pedidos ?ya)$\": \"PedidosYa\",\n",
    "        \"^(decentra ?land)$\": \"DecentraLand\",\n",
    "        \"^(real ?trends)$\": \"RealTrends\",\n",
    "        \"^(nubi ?lmetri(x|cs))$\": \"Nubimetrics\",\n",
    "        \"^(santander( tec.*))$\": \"Santander\",\n",
    "        \"^(wildlife|wildlife*)$\": \"Wildlife Studios\",\n",
    "    },\n",
    ")\n",
    "\n",
    "# Reagrupamos valores, sumándolos, luego de haber normalizado\n",
    "df = df.query('key != \"DELETEME\"').groupby(\"key\").sum()[\"value\"].sort_values(\n",
    "    ascending=False\n",
    ").to_frame() / len(dataframe)\n",
    "display(df[:47])\n",
    "df[:47].plot.barh()"
   ]
  },
  {
   "cell_type": "markdown",
   "metadata": {
    "colab_type": "text",
    "id": "tjFRplJntSKa"
   },
   "source": [
    "## 3. Publicación"
   ]
  },
  {
   "cell_type": "code",
   "execution_count": null,
   "metadata": {
    "colab": {
     "base_uri": "https://localhost:8080/",
     "height": 54
    },
    "colab_type": "code",
    "id": "aUTknUWitSKc",
    "outputId": "9f3f6073-8487-45ce-bd92-f32e47b38ca9"
   },
   "outputs": [],
   "source": [
    "import json\n",
    "\n",
    "# formateamos valores flotantes para ahorrar caracteres (#macritips)\n",
    "display(\n",
    "    json.dumps(\n",
    "        json.loads(\n",
    "            json.dumps(charts, allow_nan=False),\n",
    "            parse_float=lambda x: round(float(x), 5),\n",
    "        )\n",
    "    )\n",
    ")"
   ]
  }
 ],
 "metadata": {
  "colab": {
   "collapsed_sections": [],
   "name": "Sysarmy - Análisis de encuesta 2020.01.ipynb",
   "provenance": [],
   "toc_visible": true
  },
  "kernelspec": {
   "display_name": "Python 3",
   "language": "python",
   "name": "python3"
  },
  "language_info": {
   "codemirror_mode": {
    "name": "ipython",
    "version": 3
   },
   "file_extension": ".py",
   "mimetype": "text/x-python",
   "name": "python",
   "nbconvert_exporter": "python",
   "pygments_lexer": "ipython3",
   "version": "3.8.5"
  }
 },
 "nbformat": 4,
 "nbformat_minor": 4
}
